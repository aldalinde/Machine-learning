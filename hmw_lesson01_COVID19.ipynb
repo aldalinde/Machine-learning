{
 "cells": [
  {
   "cell_type": "markdown",
   "metadata": {},
   "source": [
    "**1. Выберите наборы данных. которые можно интерпретировать, как временные ряды:** \n",
    "а) зависимость цены на недвижимость в конкретном регионе от времени,\n",
    "ценными для интерпретации м.б.: сезонность цен аренды загородной недвижимости или изменения цен на недвижимость (аренды и покупки) из года в год\n",
    "\n",
    "б) скорость полета самолета при перелете из аэропорта А в аэропорт В,\n",
    "скорость во время одного полета - наверное на поиск аномалий в случае обнаружения поломки по результатам полета, хотя вряд ли этот показатель как единичный хоть как-то можно интерпретировать\n",
    "скорость полета в разные дни - возможно и будут закономерности и зависимости - например от времени суток или от сезонов - движение воздушных масс. Особенно в совокупности с избранием различных воздушных коридоров. \n",
    "\n",
    "в) количество отказов компьютера,\n",
    "формально - можно, наверное, выстроить ряд. Правда, в реальности не представляю, что это за компьютер такой, который при этом сохранит работоспособность и  какая ценность.\n",
    "\n",
    "г) число обращений в поликлинику по району,\n",
    "сезонные показатели, в течение дня. Можно, одновременно, с признаками вида обращений. Например, как самое тривиальное - для планирования работы регистратуры и уборки помещений.\n",
    "\n",
    "д) координаты автобуса при движении по маршруту,\n",
    "именно координаты - вряд ли можно как-то интерпретировать. мне в голову ничего не приходит Разве что каждый раз преобразовывать в пройденное расстояние от начальной точки. Возник вопрос, что это за вид данных - координаты. Это ведь числовые интервальные данные, как температура, или как?\n",
    "\n",
    "е) координаты фигуры нарушителя в файле видеофиксации охранной системы - тут, честно говоря, не поняла, что имеется ввиду под координатами. Координаты относительно чего? На экране есть координаты?\n"
   ]
  },
  {
   "cell_type": "markdown",
   "metadata": {},
   "source": [
    "**2. вариант2) COVID19 EDA для любой страны кроме Китая с длиной ряда больше 50 дней ( можно обновить данные по ссылке).**"
   ]
  },
  {
   "cell_type": "code",
   "execution_count": 1,
   "metadata": {},
   "outputs": [],
   "source": [
    "import pandas as pd\n",
    "import numpy as np\n",
    "\n",
    "import matplotlib.pyplot as plt"
   ]
  },
  {
   "cell_type": "markdown",
   "metadata": {},
   "source": [
    "\n",
    "## Данные для анализа\n",
    "\n",
    "https://www.kaggle.com/sudalairajkumar/novel-corona-virus-2019-dataset#covid_19_data.csv\n",
    "Прочитаем ежеденевно обновляемые данные из ссылки и загрузим себе.\n",
    "\n",
    "\"D:\\AI\\Machine learning\\novel-corona-virus-2019-dataset\\covid_19_data.csv\""
   ]
  },
  {
   "cell_type": "code",
   "execution_count": 2,
   "metadata": {},
   "outputs": [],
   "source": [
    "covid = pd.read_csv('D:/AI/Machine learning/novel-corona-virus-2019-dataset/covid_19_data.csv')\n"
   ]
  },
  {
   "cell_type": "code",
   "execution_count": 3,
   "metadata": {},
   "outputs": [
    {
     "data": {
      "text/html": [
       "<div>\n",
       "<style scoped>\n",
       "    .dataframe tbody tr th:only-of-type {\n",
       "        vertical-align: middle;\n",
       "    }\n",
       "\n",
       "    .dataframe tbody tr th {\n",
       "        vertical-align: top;\n",
       "    }\n",
       "\n",
       "    .dataframe thead th {\n",
       "        text-align: right;\n",
       "    }\n",
       "</style>\n",
       "<table border=\"1\" class=\"dataframe\">\n",
       "  <thead>\n",
       "    <tr style=\"text-align: right;\">\n",
       "      <th></th>\n",
       "      <th>SNo</th>\n",
       "      <th>ObservationDate</th>\n",
       "      <th>Province/State</th>\n",
       "      <th>Country/Region</th>\n",
       "      <th>Last Update</th>\n",
       "      <th>Confirmed</th>\n",
       "      <th>Deaths</th>\n",
       "      <th>Recovered</th>\n",
       "    </tr>\n",
       "  </thead>\n",
       "  <tbody>\n",
       "    <tr>\n",
       "      <th>13204</th>\n",
       "      <td>13205</td>\n",
       "      <td>04/08/2020</td>\n",
       "      <td>Wyoming</td>\n",
       "      <td>US</td>\n",
       "      <td>2020-04-08 22:59:00</td>\n",
       "      <td>221.0</td>\n",
       "      <td>0.0</td>\n",
       "      <td>0.0</td>\n",
       "    </tr>\n",
       "    <tr>\n",
       "      <th>13205</th>\n",
       "      <td>13206</td>\n",
       "      <td>04/08/2020</td>\n",
       "      <td>Xinjiang</td>\n",
       "      <td>Mainland China</td>\n",
       "      <td>2020-04-08 22:59:00</td>\n",
       "      <td>76.0</td>\n",
       "      <td>3.0</td>\n",
       "      <td>73.0</td>\n",
       "    </tr>\n",
       "    <tr>\n",
       "      <th>13206</th>\n",
       "      <td>13207</td>\n",
       "      <td>04/08/2020</td>\n",
       "      <td>Yukon</td>\n",
       "      <td>Canada</td>\n",
       "      <td>2020-04-08 22:59:00</td>\n",
       "      <td>7.0</td>\n",
       "      <td>0.0</td>\n",
       "      <td>0.0</td>\n",
       "    </tr>\n",
       "    <tr>\n",
       "      <th>13207</th>\n",
       "      <td>13208</td>\n",
       "      <td>04/08/2020</td>\n",
       "      <td>Yunnan</td>\n",
       "      <td>Mainland China</td>\n",
       "      <td>2020-04-08 22:59:00</td>\n",
       "      <td>184.0</td>\n",
       "      <td>2.0</td>\n",
       "      <td>173.0</td>\n",
       "    </tr>\n",
       "    <tr>\n",
       "      <th>13208</th>\n",
       "      <td>13209</td>\n",
       "      <td>04/08/2020</td>\n",
       "      <td>Zhejiang</td>\n",
       "      <td>Mainland China</td>\n",
       "      <td>2020-04-08 22:59:00</td>\n",
       "      <td>1266.0</td>\n",
       "      <td>1.0</td>\n",
       "      <td>1232.0</td>\n",
       "    </tr>\n",
       "  </tbody>\n",
       "</table>\n",
       "</div>"
      ],
      "text/plain": [
       "         SNo ObservationDate Province/State  Country/Region  \\\n",
       "13204  13205      04/08/2020        Wyoming              US   \n",
       "13205  13206      04/08/2020       Xinjiang  Mainland China   \n",
       "13206  13207      04/08/2020          Yukon          Canada   \n",
       "13207  13208      04/08/2020         Yunnan  Mainland China   \n",
       "13208  13209      04/08/2020       Zhejiang  Mainland China   \n",
       "\n",
       "               Last Update  Confirmed  Deaths  Recovered  \n",
       "13204  2020-04-08 22:59:00      221.0     0.0        0.0  \n",
       "13205  2020-04-08 22:59:00       76.0     3.0       73.0  \n",
       "13206  2020-04-08 22:59:00        7.0     0.0        0.0  \n",
       "13207  2020-04-08 22:59:00      184.0     2.0      173.0  \n",
       "13208  2020-04-08 22:59:00     1266.0     1.0     1232.0  "
      ]
     },
     "execution_count": 3,
     "metadata": {},
     "output_type": "execute_result"
    }
   ],
   "source": [
    "covid.tail()"
   ]
  },
  {
   "cell_type": "markdown",
   "metadata": {},
   "source": [
    "Making a dataframe copy and working with it only\n",
    "Выносим дату отдельным столбцом"
   ]
  },
  {
   "cell_type": "code",
   "execution_count": 4,
   "metadata": {},
   "outputs": [],
   "source": [
    "covid_19 = covid.copy()\n",
    "covid_19['Date']= pd.to_datetime(covid['ObservationDate']).dt.date"
   ]
  },
  {
   "cell_type": "markdown",
   "metadata": {},
   "source": [
    "**Extracting and saving data on US**"
   ]
  },
  {
   "cell_type": "code",
   "execution_count": 5,
   "metadata": {},
   "outputs": [],
   "source": [
    "covid_usa = covid_19.loc[covid_19['Country/Region']=='US', :]"
   ]
  },
  {
   "cell_type": "code",
   "execution_count": 6,
   "metadata": {},
   "outputs": [
    {
     "data": {
      "text/html": [
       "<div>\n",
       "<style scoped>\n",
       "    .dataframe tbody tr th:only-of-type {\n",
       "        vertical-align: middle;\n",
       "    }\n",
       "\n",
       "    .dataframe tbody tr th {\n",
       "        vertical-align: top;\n",
       "    }\n",
       "\n",
       "    .dataframe thead th {\n",
       "        text-align: right;\n",
       "    }\n",
       "</style>\n",
       "<table border=\"1\" class=\"dataframe\">\n",
       "  <thead>\n",
       "    <tr style=\"text-align: right;\">\n",
       "      <th></th>\n",
       "      <th>SNo</th>\n",
       "      <th>ObservationDate</th>\n",
       "      <th>Province/State</th>\n",
       "      <th>Country/Region</th>\n",
       "      <th>Last Update</th>\n",
       "      <th>Confirmed</th>\n",
       "      <th>Deaths</th>\n",
       "      <th>Recovered</th>\n",
       "      <th>Date</th>\n",
       "    </tr>\n",
       "  </thead>\n",
       "  <tbody>\n",
       "    <tr>\n",
       "      <th>31</th>\n",
       "      <td>32</td>\n",
       "      <td>01/22/2020</td>\n",
       "      <td>Washington</td>\n",
       "      <td>US</td>\n",
       "      <td>1/22/2020 17:00</td>\n",
       "      <td>1.0</td>\n",
       "      <td>0.0</td>\n",
       "      <td>0.0</td>\n",
       "      <td>2020-01-22</td>\n",
       "    </tr>\n",
       "    <tr>\n",
       "      <th>69</th>\n",
       "      <td>70</td>\n",
       "      <td>01/23/2020</td>\n",
       "      <td>Washington</td>\n",
       "      <td>US</td>\n",
       "      <td>1/23/20 17:00</td>\n",
       "      <td>1.0</td>\n",
       "      <td>0.0</td>\n",
       "      <td>0.0</td>\n",
       "      <td>2020-01-23</td>\n",
       "    </tr>\n",
       "    <tr>\n",
       "      <th>117</th>\n",
       "      <td>118</td>\n",
       "      <td>01/24/2020</td>\n",
       "      <td>Washington</td>\n",
       "      <td>US</td>\n",
       "      <td>1/24/20 17:00</td>\n",
       "      <td>1.0</td>\n",
       "      <td>0.0</td>\n",
       "      <td>0.0</td>\n",
       "      <td>2020-01-24</td>\n",
       "    </tr>\n",
       "    <tr>\n",
       "      <th>118</th>\n",
       "      <td>119</td>\n",
       "      <td>01/24/2020</td>\n",
       "      <td>Chicago</td>\n",
       "      <td>US</td>\n",
       "      <td>1/24/20 17:00</td>\n",
       "      <td>1.0</td>\n",
       "      <td>0.0</td>\n",
       "      <td>0.0</td>\n",
       "      <td>2020-01-24</td>\n",
       "    </tr>\n",
       "    <tr>\n",
       "      <th>158</th>\n",
       "      <td>159</td>\n",
       "      <td>01/25/2020</td>\n",
       "      <td>Washington</td>\n",
       "      <td>US</td>\n",
       "      <td>1/25/20 17:00</td>\n",
       "      <td>1.0</td>\n",
       "      <td>0.0</td>\n",
       "      <td>0.0</td>\n",
       "      <td>2020-01-25</td>\n",
       "    </tr>\n",
       "  </tbody>\n",
       "</table>\n",
       "</div>"
      ],
      "text/plain": [
       "     SNo ObservationDate Province/State Country/Region      Last Update  \\\n",
       "31    32      01/22/2020     Washington             US  1/22/2020 17:00   \n",
       "69    70      01/23/2020     Washington             US    1/23/20 17:00   \n",
       "117  118      01/24/2020     Washington             US    1/24/20 17:00   \n",
       "118  119      01/24/2020        Chicago             US    1/24/20 17:00   \n",
       "158  159      01/25/2020     Washington             US    1/25/20 17:00   \n",
       "\n",
       "     Confirmed  Deaths  Recovered        Date  \n",
       "31         1.0     0.0        0.0  2020-01-22  \n",
       "69         1.0     0.0        0.0  2020-01-23  \n",
       "117        1.0     0.0        0.0  2020-01-24  \n",
       "118        1.0     0.0        0.0  2020-01-24  \n",
       "158        1.0     0.0        0.0  2020-01-25  "
      ]
     },
     "execution_count": 6,
     "metadata": {},
     "output_type": "execute_result"
    }
   ],
   "source": [
    "covid_usa.head()"
   ]
  },
  {
   "cell_type": "code",
   "execution_count": 7,
   "metadata": {},
   "outputs": [
    {
     "name": "stdout",
     "output_type": "stream",
     "text": [
      "78\n"
     ]
    }
   ],
   "source": [
    "#checking date repeats; finding number of dates\n",
    "if len(covid_usa['Date'].value_counts())==covid_usa['Date'].nunique():\n",
    "    print(covid_usa['Date'].nunique())"
   ]
  },
  {
   "cell_type": "code",
   "execution_count": 8,
   "metadata": {},
   "outputs": [
    {
     "name": "stdout",
     "output_type": "stream",
     "text": [
      "<class 'pandas.core.frame.DataFrame'>\n",
      "Int64Index: 2614 entries, 31 to 13204\n",
      "Data columns (total 9 columns):\n",
      "SNo                2614 non-null int64\n",
      "ObservationDate    2614 non-null object\n",
      "Province/State     2614 non-null object\n",
      "Country/Region     2614 non-null object\n",
      "Last Update        2614 non-null object\n",
      "Confirmed          2614 non-null float64\n",
      "Deaths             2614 non-null float64\n",
      "Recovered          2614 non-null float64\n",
      "Date               2614 non-null object\n",
      "dtypes: float64(3), int64(1), object(5)\n",
      "memory usage: 204.2+ KB\n"
     ]
    }
   ],
   "source": [
    "covid_usa.info()"
   ]
  },
  {
   "cell_type": "code",
   "execution_count": 9,
   "metadata": {},
   "outputs": [
    {
     "data": {
      "text/html": [
       "<div>\n",
       "<style scoped>\n",
       "    .dataframe tbody tr th:only-of-type {\n",
       "        vertical-align: middle;\n",
       "    }\n",
       "\n",
       "    .dataframe tbody tr th {\n",
       "        vertical-align: top;\n",
       "    }\n",
       "\n",
       "    .dataframe thead th {\n",
       "        text-align: right;\n",
       "    }\n",
       "</style>\n",
       "<table border=\"1\" class=\"dataframe\">\n",
       "  <thead>\n",
       "    <tr style=\"text-align: right;\">\n",
       "      <th></th>\n",
       "      <th>SNo</th>\n",
       "      <th>Confirmed</th>\n",
       "      <th>Deaths</th>\n",
       "      <th>Recovered</th>\n",
       "    </tr>\n",
       "  </thead>\n",
       "  <tbody>\n",
       "    <tr>\n",
       "      <th>count</th>\n",
       "      <td>2614.000000</td>\n",
       "      <td>2614.000000</td>\n",
       "      <td>2614.000000</td>\n",
       "      <td>2614.000000</td>\n",
       "    </tr>\n",
       "    <tr>\n",
       "      <th>mean</th>\n",
       "      <td>6742.770849</td>\n",
       "      <td>1399.350803</td>\n",
       "      <td>35.271232</td>\n",
       "      <td>54.949120</td>\n",
       "    </tr>\n",
       "    <tr>\n",
       "      <th>std</th>\n",
       "      <td>3525.991335</td>\n",
       "      <td>7737.862146</td>\n",
       "      <td>248.135273</td>\n",
       "      <td>930.277204</td>\n",
       "    </tr>\n",
       "    <tr>\n",
       "      <th>min</th>\n",
       "      <td>32.000000</td>\n",
       "      <td>0.000000</td>\n",
       "      <td>0.000000</td>\n",
       "      <td>0.000000</td>\n",
       "    </tr>\n",
       "    <tr>\n",
       "      <th>25%</th>\n",
       "      <td>3965.250000</td>\n",
       "      <td>2.000000</td>\n",
       "      <td>0.000000</td>\n",
       "      <td>0.000000</td>\n",
       "    </tr>\n",
       "    <tr>\n",
       "      <th>50%</th>\n",
       "      <td>6323.500000</td>\n",
       "      <td>29.000000</td>\n",
       "      <td>0.000000</td>\n",
       "      <td>0.000000</td>\n",
       "    </tr>\n",
       "    <tr>\n",
       "      <th>75%</th>\n",
       "      <td>9699.750000</td>\n",
       "      <td>399.750000</td>\n",
       "      <td>6.000000</td>\n",
       "      <td>0.000000</td>\n",
       "    </tr>\n",
       "    <tr>\n",
       "      <th>max</th>\n",
       "      <td>13205.000000</td>\n",
       "      <td>151061.000000</td>\n",
       "      <td>6268.000000</td>\n",
       "      <td>23559.000000</td>\n",
       "    </tr>\n",
       "  </tbody>\n",
       "</table>\n",
       "</div>"
      ],
      "text/plain": [
       "                SNo      Confirmed       Deaths     Recovered\n",
       "count   2614.000000    2614.000000  2614.000000   2614.000000\n",
       "mean    6742.770849    1399.350803    35.271232     54.949120\n",
       "std     3525.991335    7737.862146   248.135273    930.277204\n",
       "min       32.000000       0.000000     0.000000      0.000000\n",
       "25%     3965.250000       2.000000     0.000000      0.000000\n",
       "50%     6323.500000      29.000000     0.000000      0.000000\n",
       "75%     9699.750000     399.750000     6.000000      0.000000\n",
       "max    13205.000000  151061.000000  6268.000000  23559.000000"
      ]
     },
     "execution_count": 9,
     "metadata": {},
     "output_type": "execute_result"
    }
   ],
   "source": [
    "covid_usa.describe()"
   ]
  },
  {
   "cell_type": "markdown",
   "metadata": {},
   "source": [
    "Interesting max numbers\n",
    "**Checking high numbers**"
   ]
  },
  {
   "cell_type": "code",
   "execution_count": 10,
   "metadata": {},
   "outputs": [
    {
     "data": {
      "text/html": [
       "<div>\n",
       "<style scoped>\n",
       "    .dataframe tbody tr th:only-of-type {\n",
       "        vertical-align: middle;\n",
       "    }\n",
       "\n",
       "    .dataframe tbody tr th {\n",
       "        vertical-align: top;\n",
       "    }\n",
       "\n",
       "    .dataframe thead th {\n",
       "        text-align: right;\n",
       "    }\n",
       "</style>\n",
       "<table border=\"1\" class=\"dataframe\">\n",
       "  <thead>\n",
       "    <tr style=\"text-align: right;\">\n",
       "      <th></th>\n",
       "      <th>SNo</th>\n",
       "      <th>ObservationDate</th>\n",
       "      <th>Province/State</th>\n",
       "      <th>Country/Region</th>\n",
       "      <th>Last Update</th>\n",
       "      <th>Confirmed</th>\n",
       "      <th>Deaths</th>\n",
       "      <th>Recovered</th>\n",
       "      <th>Date</th>\n",
       "    </tr>\n",
       "  </thead>\n",
       "  <tbody>\n",
       "    <tr>\n",
       "      <th>11559</th>\n",
       "      <td>11560</td>\n",
       "      <td>04/03/2020</td>\n",
       "      <td>New York</td>\n",
       "      <td>US</td>\n",
       "      <td>2020-04-03 22:52:45</td>\n",
       "      <td>102987.0</td>\n",
       "      <td>2935.0</td>\n",
       "      <td>0.0</td>\n",
       "      <td>2020-04-03</td>\n",
       "    </tr>\n",
       "    <tr>\n",
       "      <th>11875</th>\n",
       "      <td>11876</td>\n",
       "      <td>04/04/2020</td>\n",
       "      <td>New York</td>\n",
       "      <td>US</td>\n",
       "      <td>2020-04-04 23:41:02</td>\n",
       "      <td>113833.0</td>\n",
       "      <td>3565.0</td>\n",
       "      <td>0.0</td>\n",
       "      <td>2020-04-04</td>\n",
       "    </tr>\n",
       "    <tr>\n",
       "      <th>12193</th>\n",
       "      <td>12194</td>\n",
       "      <td>04/05/2020</td>\n",
       "      <td>New York</td>\n",
       "      <td>US</td>\n",
       "      <td>2020-04-05 23:13:44</td>\n",
       "      <td>123160.0</td>\n",
       "      <td>4159.0</td>\n",
       "      <td>0.0</td>\n",
       "      <td>2020-04-05</td>\n",
       "    </tr>\n",
       "    <tr>\n",
       "      <th>12513</th>\n",
       "      <td>12514</td>\n",
       "      <td>04/06/2020</td>\n",
       "      <td>New York</td>\n",
       "      <td>US</td>\n",
       "      <td>4/6/20 9:37</td>\n",
       "      <td>131815.0</td>\n",
       "      <td>4698.0</td>\n",
       "      <td>0.0</td>\n",
       "      <td>2020-04-06</td>\n",
       "    </tr>\n",
       "    <tr>\n",
       "      <th>12833</th>\n",
       "      <td>12834</td>\n",
       "      <td>04/07/2020</td>\n",
       "      <td>New York</td>\n",
       "      <td>US</td>\n",
       "      <td>2020-04-07 23:11:31</td>\n",
       "      <td>139875.0</td>\n",
       "      <td>5489.0</td>\n",
       "      <td>0.0</td>\n",
       "      <td>2020-04-07</td>\n",
       "    </tr>\n",
       "    <tr>\n",
       "      <th>13153</th>\n",
       "      <td>13154</td>\n",
       "      <td>04/08/2020</td>\n",
       "      <td>New York</td>\n",
       "      <td>US</td>\n",
       "      <td>2020-04-08 22:59:00</td>\n",
       "      <td>151061.0</td>\n",
       "      <td>6268.0</td>\n",
       "      <td>0.0</td>\n",
       "      <td>2020-04-08</td>\n",
       "    </tr>\n",
       "  </tbody>\n",
       "</table>\n",
       "</div>"
      ],
      "text/plain": [
       "         SNo ObservationDate Province/State Country/Region  \\\n",
       "11559  11560      04/03/2020       New York             US   \n",
       "11875  11876      04/04/2020       New York             US   \n",
       "12193  12194      04/05/2020       New York             US   \n",
       "12513  12514      04/06/2020       New York             US   \n",
       "12833  12834      04/07/2020       New York             US   \n",
       "13153  13154      04/08/2020       New York             US   \n",
       "\n",
       "               Last Update  Confirmed  Deaths  Recovered        Date  \n",
       "11559  2020-04-03 22:52:45   102987.0  2935.0        0.0  2020-04-03  \n",
       "11875  2020-04-04 23:41:02   113833.0  3565.0        0.0  2020-04-04  \n",
       "12193  2020-04-05 23:13:44   123160.0  4159.0        0.0  2020-04-05  \n",
       "12513          4/6/20 9:37   131815.0  4698.0        0.0  2020-04-06  \n",
       "12833  2020-04-07 23:11:31   139875.0  5489.0        0.0  2020-04-07  \n",
       "13153  2020-04-08 22:59:00   151061.0  6268.0        0.0  2020-04-08  "
      ]
     },
     "execution_count": 10,
     "metadata": {},
     "output_type": "execute_result"
    }
   ],
   "source": [
    "covid_usa.loc[covid_usa['Confirmed']>100000, :]"
   ]
  },
  {
   "cell_type": "code",
   "execution_count": 11,
   "metadata": {},
   "outputs": [
    {
     "data": {
      "text/html": [
       "<div>\n",
       "<style scoped>\n",
       "    .dataframe tbody tr th:only-of-type {\n",
       "        vertical-align: middle;\n",
       "    }\n",
       "\n",
       "    .dataframe tbody tr th {\n",
       "        vertical-align: top;\n",
       "    }\n",
       "\n",
       "    .dataframe thead th {\n",
       "        text-align: right;\n",
       "    }\n",
       "</style>\n",
       "<table border=\"1\" class=\"dataframe\">\n",
       "  <thead>\n",
       "    <tr style=\"text-align: right;\">\n",
       "      <th></th>\n",
       "      <th>SNo</th>\n",
       "      <th>ObservationDate</th>\n",
       "      <th>Province/State</th>\n",
       "      <th>Country/Region</th>\n",
       "      <th>Last Update</th>\n",
       "      <th>Confirmed</th>\n",
       "      <th>Deaths</th>\n",
       "      <th>Recovered</th>\n",
       "      <th>Date</th>\n",
       "    </tr>\n",
       "  </thead>\n",
       "  <tbody>\n",
       "    <tr>\n",
       "      <th>8759</th>\n",
       "      <td>8760</td>\n",
       "      <td>03/25/2020</td>\n",
       "      <td>New York</td>\n",
       "      <td>US</td>\n",
       "      <td>2020-03-25 23:37:49</td>\n",
       "      <td>30841.0</td>\n",
       "      <td>285.0</td>\n",
       "      <td>0.0</td>\n",
       "      <td>2020-03-25</td>\n",
       "    </tr>\n",
       "    <tr>\n",
       "      <th>9063</th>\n",
       "      <td>9064</td>\n",
       "      <td>03/26/2020</td>\n",
       "      <td>New York</td>\n",
       "      <td>US</td>\n",
       "      <td>2020-03-26 23:53:24</td>\n",
       "      <td>37877.0</td>\n",
       "      <td>385.0</td>\n",
       "      <td>0.0</td>\n",
       "      <td>2020-03-26</td>\n",
       "    </tr>\n",
       "    <tr>\n",
       "      <th>9370</th>\n",
       "      <td>9371</td>\n",
       "      <td>03/27/2020</td>\n",
       "      <td>New York</td>\n",
       "      <td>US</td>\n",
       "      <td>2020-03-27 23:27:48</td>\n",
       "      <td>44876.0</td>\n",
       "      <td>527.0</td>\n",
       "      <td>0.0</td>\n",
       "      <td>2020-03-27</td>\n",
       "    </tr>\n",
       "    <tr>\n",
       "      <th>9680</th>\n",
       "      <td>9681</td>\n",
       "      <td>03/28/2020</td>\n",
       "      <td>New York</td>\n",
       "      <td>US</td>\n",
       "      <td>2020-03-28 23:11:06</td>\n",
       "      <td>52410.0</td>\n",
       "      <td>728.0</td>\n",
       "      <td>0.0</td>\n",
       "      <td>2020-03-28</td>\n",
       "    </tr>\n",
       "    <tr>\n",
       "      <th>9991</th>\n",
       "      <td>9992</td>\n",
       "      <td>03/29/2020</td>\n",
       "      <td>New York</td>\n",
       "      <td>US</td>\n",
       "      <td>3/8/20 5:31</td>\n",
       "      <td>59648.0</td>\n",
       "      <td>965.0</td>\n",
       "      <td>0.0</td>\n",
       "      <td>2020-03-29</td>\n",
       "    </tr>\n",
       "    <tr>\n",
       "      <th>10303</th>\n",
       "      <td>10304</td>\n",
       "      <td>03/30/2020</td>\n",
       "      <td>New York</td>\n",
       "      <td>US</td>\n",
       "      <td>3/8/20 5:31</td>\n",
       "      <td>66663.0</td>\n",
       "      <td>1218.0</td>\n",
       "      <td>0.0</td>\n",
       "      <td>2020-03-30</td>\n",
       "    </tr>\n",
       "    <tr>\n",
       "      <th>10616</th>\n",
       "      <td>10617</td>\n",
       "      <td>03/31/2020</td>\n",
       "      <td>New York</td>\n",
       "      <td>US</td>\n",
       "      <td>2020-03-31 23:49:27</td>\n",
       "      <td>75833.0</td>\n",
       "      <td>1550.0</td>\n",
       "      <td>0.0</td>\n",
       "      <td>2020-03-31</td>\n",
       "    </tr>\n",
       "    <tr>\n",
       "      <th>10929</th>\n",
       "      <td>10930</td>\n",
       "      <td>04/01/2020</td>\n",
       "      <td>New York</td>\n",
       "      <td>US</td>\n",
       "      <td>2020-04-01 22:04:58</td>\n",
       "      <td>83948.0</td>\n",
       "      <td>1941.0</td>\n",
       "      <td>0.0</td>\n",
       "      <td>2020-04-01</td>\n",
       "    </tr>\n",
       "    <tr>\n",
       "      <th>11244</th>\n",
       "      <td>11245</td>\n",
       "      <td>04/02/2020</td>\n",
       "      <td>New York</td>\n",
       "      <td>US</td>\n",
       "      <td>2020-04-02 23:32:01</td>\n",
       "      <td>92506.0</td>\n",
       "      <td>2373.0</td>\n",
       "      <td>0.0</td>\n",
       "      <td>2020-04-02</td>\n",
       "    </tr>\n",
       "    <tr>\n",
       "      <th>11872</th>\n",
       "      <td>11873</td>\n",
       "      <td>04/04/2020</td>\n",
       "      <td>New Jersey</td>\n",
       "      <td>US</td>\n",
       "      <td>2020-04-04 23:41:02</td>\n",
       "      <td>34124.0</td>\n",
       "      <td>846.0</td>\n",
       "      <td>0.0</td>\n",
       "      <td>2020-04-04</td>\n",
       "    </tr>\n",
       "    <tr>\n",
       "      <th>12190</th>\n",
       "      <td>12191</td>\n",
       "      <td>04/05/2020</td>\n",
       "      <td>New Jersey</td>\n",
       "      <td>US</td>\n",
       "      <td>2020-04-05 23:13:44</td>\n",
       "      <td>37505.0</td>\n",
       "      <td>917.0</td>\n",
       "      <td>0.0</td>\n",
       "      <td>2020-04-05</td>\n",
       "    </tr>\n",
       "    <tr>\n",
       "      <th>12510</th>\n",
       "      <td>12511</td>\n",
       "      <td>04/06/2020</td>\n",
       "      <td>New Jersey</td>\n",
       "      <td>US</td>\n",
       "      <td>4/6/20 9:37</td>\n",
       "      <td>41090.0</td>\n",
       "      <td>1003.0</td>\n",
       "      <td>0.0</td>\n",
       "      <td>2020-04-06</td>\n",
       "    </tr>\n",
       "    <tr>\n",
       "      <th>12830</th>\n",
       "      <td>12831</td>\n",
       "      <td>04/07/2020</td>\n",
       "      <td>New Jersey</td>\n",
       "      <td>US</td>\n",
       "      <td>2020-04-07 23:11:31</td>\n",
       "      <td>44416.0</td>\n",
       "      <td>1232.0</td>\n",
       "      <td>0.0</td>\n",
       "      <td>2020-04-07</td>\n",
       "    </tr>\n",
       "    <tr>\n",
       "      <th>13150</th>\n",
       "      <td>13151</td>\n",
       "      <td>04/08/2020</td>\n",
       "      <td>New Jersey</td>\n",
       "      <td>US</td>\n",
       "      <td>2020-04-08 22:59:00</td>\n",
       "      <td>47437.0</td>\n",
       "      <td>1504.0</td>\n",
       "      <td>0.0</td>\n",
       "      <td>2020-04-08</td>\n",
       "    </tr>\n",
       "  </tbody>\n",
       "</table>\n",
       "</div>"
      ],
      "text/plain": [
       "         SNo ObservationDate Province/State Country/Region  \\\n",
       "8759    8760      03/25/2020       New York             US   \n",
       "9063    9064      03/26/2020       New York             US   \n",
       "9370    9371      03/27/2020       New York             US   \n",
       "9680    9681      03/28/2020       New York             US   \n",
       "9991    9992      03/29/2020       New York             US   \n",
       "10303  10304      03/30/2020       New York             US   \n",
       "10616  10617      03/31/2020       New York             US   \n",
       "10929  10930      04/01/2020       New York             US   \n",
       "11244  11245      04/02/2020       New York             US   \n",
       "11872  11873      04/04/2020     New Jersey             US   \n",
       "12190  12191      04/05/2020     New Jersey             US   \n",
       "12510  12511      04/06/2020     New Jersey             US   \n",
       "12830  12831      04/07/2020     New Jersey             US   \n",
       "13150  13151      04/08/2020     New Jersey             US   \n",
       "\n",
       "               Last Update  Confirmed  Deaths  Recovered        Date  \n",
       "8759   2020-03-25 23:37:49    30841.0   285.0        0.0  2020-03-25  \n",
       "9063   2020-03-26 23:53:24    37877.0   385.0        0.0  2020-03-26  \n",
       "9370   2020-03-27 23:27:48    44876.0   527.0        0.0  2020-03-27  \n",
       "9680   2020-03-28 23:11:06    52410.0   728.0        0.0  2020-03-28  \n",
       "9991           3/8/20 5:31    59648.0   965.0        0.0  2020-03-29  \n",
       "10303          3/8/20 5:31    66663.0  1218.0        0.0  2020-03-30  \n",
       "10616  2020-03-31 23:49:27    75833.0  1550.0        0.0  2020-03-31  \n",
       "10929  2020-04-01 22:04:58    83948.0  1941.0        0.0  2020-04-01  \n",
       "11244  2020-04-02 23:32:01    92506.0  2373.0        0.0  2020-04-02  \n",
       "11872  2020-04-04 23:41:02    34124.0   846.0        0.0  2020-04-04  \n",
       "12190  2020-04-05 23:13:44    37505.0   917.0        0.0  2020-04-05  \n",
       "12510          4/6/20 9:37    41090.0  1003.0        0.0  2020-04-06  \n",
       "12830  2020-04-07 23:11:31    44416.0  1232.0        0.0  2020-04-07  \n",
       "13150  2020-04-08 22:59:00    47437.0  1504.0        0.0  2020-04-08  "
      ]
     },
     "execution_count": 11,
     "metadata": {},
     "output_type": "execute_result"
    }
   ],
   "source": [
    "covid_usa.loc[(covid_usa['Confirmed']>30000) & (covid_usa['Confirmed']<100001), :]"
   ]
  },
  {
   "cell_type": "code",
   "execution_count": 12,
   "metadata": {},
   "outputs": [
    {
     "data": {
      "text/html": [
       "<div>\n",
       "<style scoped>\n",
       "    .dataframe tbody tr th:only-of-type {\n",
       "        vertical-align: middle;\n",
       "    }\n",
       "\n",
       "    .dataframe tbody tr th {\n",
       "        vertical-align: top;\n",
       "    }\n",
       "\n",
       "    .dataframe thead th {\n",
       "        text-align: right;\n",
       "    }\n",
       "</style>\n",
       "<table border=\"1\" class=\"dataframe\">\n",
       "  <thead>\n",
       "    <tr style=\"text-align: right;\">\n",
       "      <th></th>\n",
       "      <th>SNo</th>\n",
       "      <th>ObservationDate</th>\n",
       "      <th>Province/State</th>\n",
       "      <th>Country/Region</th>\n",
       "      <th>Last Update</th>\n",
       "      <th>Confirmed</th>\n",
       "      <th>Deaths</th>\n",
       "      <th>Recovered</th>\n",
       "      <th>Date</th>\n",
       "    </tr>\n",
       "  </thead>\n",
       "  <tbody>\n",
       "    <tr>\n",
       "      <th>10303</th>\n",
       "      <td>10304</td>\n",
       "      <td>03/30/2020</td>\n",
       "      <td>New York</td>\n",
       "      <td>US</td>\n",
       "      <td>3/8/20 5:31</td>\n",
       "      <td>66663.0</td>\n",
       "      <td>1218.0</td>\n",
       "      <td>0.0</td>\n",
       "      <td>2020-03-30</td>\n",
       "    </tr>\n",
       "    <tr>\n",
       "      <th>10616</th>\n",
       "      <td>10617</td>\n",
       "      <td>03/31/2020</td>\n",
       "      <td>New York</td>\n",
       "      <td>US</td>\n",
       "      <td>2020-03-31 23:49:27</td>\n",
       "      <td>75833.0</td>\n",
       "      <td>1550.0</td>\n",
       "      <td>0.0</td>\n",
       "      <td>2020-03-31</td>\n",
       "    </tr>\n",
       "    <tr>\n",
       "      <th>10929</th>\n",
       "      <td>10930</td>\n",
       "      <td>04/01/2020</td>\n",
       "      <td>New York</td>\n",
       "      <td>US</td>\n",
       "      <td>2020-04-01 22:04:58</td>\n",
       "      <td>83948.0</td>\n",
       "      <td>1941.0</td>\n",
       "      <td>0.0</td>\n",
       "      <td>2020-04-01</td>\n",
       "    </tr>\n",
       "    <tr>\n",
       "      <th>11244</th>\n",
       "      <td>11245</td>\n",
       "      <td>04/02/2020</td>\n",
       "      <td>New York</td>\n",
       "      <td>US</td>\n",
       "      <td>2020-04-02 23:32:01</td>\n",
       "      <td>92506.0</td>\n",
       "      <td>2373.0</td>\n",
       "      <td>0.0</td>\n",
       "      <td>2020-04-02</td>\n",
       "    </tr>\n",
       "    <tr>\n",
       "      <th>11559</th>\n",
       "      <td>11560</td>\n",
       "      <td>04/03/2020</td>\n",
       "      <td>New York</td>\n",
       "      <td>US</td>\n",
       "      <td>2020-04-03 22:52:45</td>\n",
       "      <td>102987.0</td>\n",
       "      <td>2935.0</td>\n",
       "      <td>0.0</td>\n",
       "      <td>2020-04-03</td>\n",
       "    </tr>\n",
       "    <tr>\n",
       "      <th>11875</th>\n",
       "      <td>11876</td>\n",
       "      <td>04/04/2020</td>\n",
       "      <td>New York</td>\n",
       "      <td>US</td>\n",
       "      <td>2020-04-04 23:41:02</td>\n",
       "      <td>113833.0</td>\n",
       "      <td>3565.0</td>\n",
       "      <td>0.0</td>\n",
       "      <td>2020-04-04</td>\n",
       "    </tr>\n",
       "    <tr>\n",
       "      <th>12193</th>\n",
       "      <td>12194</td>\n",
       "      <td>04/05/2020</td>\n",
       "      <td>New York</td>\n",
       "      <td>US</td>\n",
       "      <td>2020-04-05 23:13:44</td>\n",
       "      <td>123160.0</td>\n",
       "      <td>4159.0</td>\n",
       "      <td>0.0</td>\n",
       "      <td>2020-04-05</td>\n",
       "    </tr>\n",
       "    <tr>\n",
       "      <th>12510</th>\n",
       "      <td>12511</td>\n",
       "      <td>04/06/2020</td>\n",
       "      <td>New Jersey</td>\n",
       "      <td>US</td>\n",
       "      <td>4/6/20 9:37</td>\n",
       "      <td>41090.0</td>\n",
       "      <td>1003.0</td>\n",
       "      <td>0.0</td>\n",
       "      <td>2020-04-06</td>\n",
       "    </tr>\n",
       "    <tr>\n",
       "      <th>12513</th>\n",
       "      <td>12514</td>\n",
       "      <td>04/06/2020</td>\n",
       "      <td>New York</td>\n",
       "      <td>US</td>\n",
       "      <td>4/6/20 9:37</td>\n",
       "      <td>131815.0</td>\n",
       "      <td>4698.0</td>\n",
       "      <td>0.0</td>\n",
       "      <td>2020-04-06</td>\n",
       "    </tr>\n",
       "    <tr>\n",
       "      <th>12830</th>\n",
       "      <td>12831</td>\n",
       "      <td>04/07/2020</td>\n",
       "      <td>New Jersey</td>\n",
       "      <td>US</td>\n",
       "      <td>2020-04-07 23:11:31</td>\n",
       "      <td>44416.0</td>\n",
       "      <td>1232.0</td>\n",
       "      <td>0.0</td>\n",
       "      <td>2020-04-07</td>\n",
       "    </tr>\n",
       "    <tr>\n",
       "      <th>12833</th>\n",
       "      <td>12834</td>\n",
       "      <td>04/07/2020</td>\n",
       "      <td>New York</td>\n",
       "      <td>US</td>\n",
       "      <td>2020-04-07 23:11:31</td>\n",
       "      <td>139875.0</td>\n",
       "      <td>5489.0</td>\n",
       "      <td>0.0</td>\n",
       "      <td>2020-04-07</td>\n",
       "    </tr>\n",
       "    <tr>\n",
       "      <th>13150</th>\n",
       "      <td>13151</td>\n",
       "      <td>04/08/2020</td>\n",
       "      <td>New Jersey</td>\n",
       "      <td>US</td>\n",
       "      <td>2020-04-08 22:59:00</td>\n",
       "      <td>47437.0</td>\n",
       "      <td>1504.0</td>\n",
       "      <td>0.0</td>\n",
       "      <td>2020-04-08</td>\n",
       "    </tr>\n",
       "    <tr>\n",
       "      <th>13153</th>\n",
       "      <td>13154</td>\n",
       "      <td>04/08/2020</td>\n",
       "      <td>New York</td>\n",
       "      <td>US</td>\n",
       "      <td>2020-04-08 22:59:00</td>\n",
       "      <td>151061.0</td>\n",
       "      <td>6268.0</td>\n",
       "      <td>0.0</td>\n",
       "      <td>2020-04-08</td>\n",
       "    </tr>\n",
       "  </tbody>\n",
       "</table>\n",
       "</div>"
      ],
      "text/plain": [
       "         SNo ObservationDate Province/State Country/Region  \\\n",
       "10303  10304      03/30/2020       New York             US   \n",
       "10616  10617      03/31/2020       New York             US   \n",
       "10929  10930      04/01/2020       New York             US   \n",
       "11244  11245      04/02/2020       New York             US   \n",
       "11559  11560      04/03/2020       New York             US   \n",
       "11875  11876      04/04/2020       New York             US   \n",
       "12193  12194      04/05/2020       New York             US   \n",
       "12510  12511      04/06/2020     New Jersey             US   \n",
       "12513  12514      04/06/2020       New York             US   \n",
       "12830  12831      04/07/2020     New Jersey             US   \n",
       "12833  12834      04/07/2020       New York             US   \n",
       "13150  13151      04/08/2020     New Jersey             US   \n",
       "13153  13154      04/08/2020       New York             US   \n",
       "\n",
       "               Last Update  Confirmed  Deaths  Recovered        Date  \n",
       "10303          3/8/20 5:31    66663.0  1218.0        0.0  2020-03-30  \n",
       "10616  2020-03-31 23:49:27    75833.0  1550.0        0.0  2020-03-31  \n",
       "10929  2020-04-01 22:04:58    83948.0  1941.0        0.0  2020-04-01  \n",
       "11244  2020-04-02 23:32:01    92506.0  2373.0        0.0  2020-04-02  \n",
       "11559  2020-04-03 22:52:45   102987.0  2935.0        0.0  2020-04-03  \n",
       "11875  2020-04-04 23:41:02   113833.0  3565.0        0.0  2020-04-04  \n",
       "12193  2020-04-05 23:13:44   123160.0  4159.0        0.0  2020-04-05  \n",
       "12510          4/6/20 9:37    41090.0  1003.0        0.0  2020-04-06  \n",
       "12513          4/6/20 9:37   131815.0  4698.0        0.0  2020-04-06  \n",
       "12830  2020-04-07 23:11:31    44416.0  1232.0        0.0  2020-04-07  \n",
       "12833  2020-04-07 23:11:31   139875.0  5489.0        0.0  2020-04-07  \n",
       "13150  2020-04-08 22:59:00    47437.0  1504.0        0.0  2020-04-08  \n",
       "13153  2020-04-08 22:59:00   151061.0  6268.0        0.0  2020-04-08  "
      ]
     },
     "execution_count": 12,
     "metadata": {},
     "output_type": "execute_result"
    }
   ],
   "source": [
    "covid_usa.loc[covid_usa['Deaths']>1000, :]"
   ]
  },
  {
   "cell_type": "code",
   "execution_count": 13,
   "metadata": {},
   "outputs": [
    {
     "data": {
      "text/plain": [
       "Washington                 40\n",
       "Los Angeles, CA            38\n",
       "Illinois                   37\n",
       "Arizona                    36\n",
       "California                 36\n",
       "                           ..\n",
       "Queens County, NY           1\n",
       "Lackland, TX                1\n",
       "Travis, CA                  1\n",
       "Cherokee County, GA         1\n",
       "Unassigned Location, VT     1\n",
       "Name: Province/State, Length: 199, dtype: int64"
      ]
     },
     "execution_count": 13,
     "metadata": {},
     "output_type": "execute_result"
    }
   ],
   "source": [
    "covid_usa['Province/State'].value_counts()"
   ]
  },
  {
   "cell_type": "markdown",
   "metadata": {},
   "source": [
    "** working with data grouped by date through all the states **"
   ]
  },
  {
   "cell_type": "code",
   "execution_count": 14,
   "metadata": {},
   "outputs": [
    {
     "data": {
      "text/html": [
       "<div>\n",
       "<style scoped>\n",
       "    .dataframe tbody tr th:only-of-type {\n",
       "        vertical-align: middle;\n",
       "    }\n",
       "\n",
       "    .dataframe tbody tr th {\n",
       "        vertical-align: top;\n",
       "    }\n",
       "\n",
       "    .dataframe thead th {\n",
       "        text-align: right;\n",
       "    }\n",
       "</style>\n",
       "<table border=\"1\" class=\"dataframe\">\n",
       "  <thead>\n",
       "    <tr style=\"text-align: right;\">\n",
       "      <th></th>\n",
       "      <th>Confirmed</th>\n",
       "      <th>Deaths</th>\n",
       "      <th>Recovered</th>\n",
       "    </tr>\n",
       "    <tr>\n",
       "      <th>Date</th>\n",
       "      <th></th>\n",
       "      <th></th>\n",
       "      <th></th>\n",
       "    </tr>\n",
       "  </thead>\n",
       "  <tbody>\n",
       "    <tr>\n",
       "      <th>2020-01-22</th>\n",
       "      <td>1.0</td>\n",
       "      <td>0.0</td>\n",
       "      <td>0.0</td>\n",
       "    </tr>\n",
       "    <tr>\n",
       "      <th>2020-01-23</th>\n",
       "      <td>1.0</td>\n",
       "      <td>0.0</td>\n",
       "      <td>0.0</td>\n",
       "    </tr>\n",
       "    <tr>\n",
       "      <th>2020-01-24</th>\n",
       "      <td>2.0</td>\n",
       "      <td>0.0</td>\n",
       "      <td>0.0</td>\n",
       "    </tr>\n",
       "    <tr>\n",
       "      <th>2020-01-25</th>\n",
       "      <td>2.0</td>\n",
       "      <td>0.0</td>\n",
       "      <td>0.0</td>\n",
       "    </tr>\n",
       "    <tr>\n",
       "      <th>2020-01-26</th>\n",
       "      <td>5.0</td>\n",
       "      <td>0.0</td>\n",
       "      <td>0.0</td>\n",
       "    </tr>\n",
       "    <tr>\n",
       "      <th>...</th>\n",
       "      <td>...</td>\n",
       "      <td>...</td>\n",
       "      <td>...</td>\n",
       "    </tr>\n",
       "    <tr>\n",
       "      <th>2020-04-04</th>\n",
       "      <td>308850.0</td>\n",
       "      <td>8407.0</td>\n",
       "      <td>14652.0</td>\n",
       "    </tr>\n",
       "    <tr>\n",
       "      <th>2020-04-05</th>\n",
       "      <td>337072.0</td>\n",
       "      <td>9619.0</td>\n",
       "      <td>17448.0</td>\n",
       "    </tr>\n",
       "    <tr>\n",
       "      <th>2020-04-06</th>\n",
       "      <td>366667.0</td>\n",
       "      <td>10783.0</td>\n",
       "      <td>19581.0</td>\n",
       "    </tr>\n",
       "    <tr>\n",
       "      <th>2020-04-07</th>\n",
       "      <td>396223.0</td>\n",
       "      <td>12722.0</td>\n",
       "      <td>21763.0</td>\n",
       "    </tr>\n",
       "    <tr>\n",
       "      <th>2020-04-08</th>\n",
       "      <td>429052.0</td>\n",
       "      <td>14695.0</td>\n",
       "      <td>23559.0</td>\n",
       "    </tr>\n",
       "  </tbody>\n",
       "</table>\n",
       "<p>78 rows × 3 columns</p>\n",
       "</div>"
      ],
      "text/plain": [
       "            Confirmed   Deaths  Recovered\n",
       "Date                                     \n",
       "2020-01-22        1.0      0.0        0.0\n",
       "2020-01-23        1.0      0.0        0.0\n",
       "2020-01-24        2.0      0.0        0.0\n",
       "2020-01-25        2.0      0.0        0.0\n",
       "2020-01-26        5.0      0.0        0.0\n",
       "...               ...      ...        ...\n",
       "2020-04-04   308850.0   8407.0    14652.0\n",
       "2020-04-05   337072.0   9619.0    17448.0\n",
       "2020-04-06   366667.0  10783.0    19581.0\n",
       "2020-04-07   396223.0  12722.0    21763.0\n",
       "2020-04-08   429052.0  14695.0    23559.0\n",
       "\n",
       "[78 rows x 3 columns]"
      ]
     },
     "execution_count": 14,
     "metadata": {},
     "output_type": "execute_result"
    }
   ],
   "source": [
    "covid_by_date = covid_usa.groupby(['Date'])['Confirmed','Deaths','Recovered'].sum()\n",
    "covid_by_date"
   ]
  },
  {
   "cell_type": "code",
   "execution_count": 15,
   "metadata": {},
   "outputs": [
    {
     "name": "stderr",
     "output_type": "stream",
     "text": [
      "C:\\Python37\\lib\\site-packages\\pandas\\plotting\\_matplotlib\\converter.py:103: FutureWarning: Using an implicitly registered datetime converter for a matplotlib plotting method. The converter was registered by pandas on import. Future versions of pandas will require you to explicitly register matplotlib converters.\n",
      "\n",
      "To register the converters:\n",
      "\t>>> from pandas.plotting import register_matplotlib_converters\n",
      "\t>>> register_matplotlib_converters()\n",
      "  warnings.warn(msg, FutureWarning)\n"
     ]
    },
    {
     "data": {
      "image/png": "[encoded data removed]",
      "text/plain": [
       "<Figure size 432x288 with 1 Axes>"
      ]
     },
     "metadata": {
      "needs_background": "light"
     },
     "output_type": "display_data"
    }
   ],
   "source": [
    "plt.plot(covid_by_date['Confirmed'], label='Confirmed')\n",
    "plt.plot(covid_by_date['Deaths'], label='Deaths')\n",
    "plt.plot(covid_by_date['Recovered'], label='Recovered')\n",
    "plt.xticks(label = covid_by_date.index.get_level_values('Date'), rotation=90)\n",
    "plt.show()"
   ]
  },
  {
   "cell_type": "markdown",
   "metadata": {},
   "source": [
    "before 15th of March"
   ]
  },
  {
   "cell_type": "code",
   "execution_count": 16,
   "metadata": {},
   "outputs": [
    {
     "data": {
      "image/png": "[encoded data removed]",
      "text/plain": [
       "<Figure size 432x288 with 1 Axes>"
      ]
     },
     "metadata": {
      "needs_background": "light"
     },
     "output_type": "display_data"
    }
   ],
   "source": [
    "splitdate = pd.to_datetime('2020-03-15').date()\n",
    "plt.plot((covid_by_date['Confirmed'].loc[:splitdate]), label='Confirmed')\n",
    "plt.plot((covid_by_date['Deaths'].loc[:splitdate]), label='Deaths')\n",
    "plt.plot((covid_by_date['Recovered'].loc[:splitdate]), label='Recovered')\n",
    "plt.xticks(label = covid_by_date.index.get_level_values('Date'), rotation=90)\n",
    "plt.show()"
   ]
  },
  {
   "cell_type": "markdown",
   "metadata": {},
   "source": [
    "from 100 confirmed cases to 100"
   ]
  },
  {
   "cell_type": "code",
   "execution_count": 17,
   "metadata": {},
   "outputs": [
    {
     "data": {
      "image/png": "[encoded data removed]",
      "text/plain": [
       "<Figure size 432x288 with 1 Axes>"
      ]
     },
     "metadata": {
      "needs_background": "light"
     },
     "output_type": "display_data"
    }
   ],
   "source": [
    "covid_by_date.loc[((covid_by_date['Confirmed'] > 100)& (covid_by_date['Confirmed'] < 1000)), :].plot()\n",
    "plt.xticks(label = covid_by_date.index.get_level_values('Date'), rotation=90)\n",
    "\n",
    "plt.show()"
   ]
  },
  {
   "cell_type": "markdown",
   "metadata": {},
   "source": [
    "Посмотрим на них в цифрах"
   ]
  },
  {
   "cell_type": "code",
   "execution_count": 18,
   "metadata": {},
   "outputs": [
    {
     "data": {
      "text/html": [
       "<div>\n",
       "<style scoped>\n",
       "    .dataframe tbody tr th:only-of-type {\n",
       "        vertical-align: middle;\n",
       "    }\n",
       "\n",
       "    .dataframe tbody tr th {\n",
       "        vertical-align: top;\n",
       "    }\n",
       "\n",
       "    .dataframe thead th {\n",
       "        text-align: right;\n",
       "    }\n",
       "</style>\n",
       "<table border=\"1\" class=\"dataframe\">\n",
       "  <thead>\n",
       "    <tr style=\"text-align: right;\">\n",
       "      <th></th>\n",
       "      <th>Confirmed</th>\n",
       "      <th>Deaths</th>\n",
       "      <th>Recovered</th>\n",
       "    </tr>\n",
       "    <tr>\n",
       "      <th>Date</th>\n",
       "      <th></th>\n",
       "      <th></th>\n",
       "      <th></th>\n",
       "    </tr>\n",
       "  </thead>\n",
       "  <tbody>\n",
       "    <tr>\n",
       "      <th>2020-03-02</th>\n",
       "      <td>101.0</td>\n",
       "      <td>6.0</td>\n",
       "      <td>7.0</td>\n",
       "    </tr>\n",
       "    <tr>\n",
       "      <th>2020-03-03</th>\n",
       "      <td>122.0</td>\n",
       "      <td>7.0</td>\n",
       "      <td>8.0</td>\n",
       "    </tr>\n",
       "    <tr>\n",
       "      <th>2020-03-04</th>\n",
       "      <td>153.0</td>\n",
       "      <td>11.0</td>\n",
       "      <td>8.0</td>\n",
       "    </tr>\n",
       "    <tr>\n",
       "      <th>2020-03-05</th>\n",
       "      <td>221.0</td>\n",
       "      <td>12.0</td>\n",
       "      <td>8.0</td>\n",
       "    </tr>\n",
       "    <tr>\n",
       "      <th>2020-03-06</th>\n",
       "      <td>278.0</td>\n",
       "      <td>14.0</td>\n",
       "      <td>8.0</td>\n",
       "    </tr>\n",
       "    <tr>\n",
       "      <th>2020-03-07</th>\n",
       "      <td>417.0</td>\n",
       "      <td>17.0</td>\n",
       "      <td>8.0</td>\n",
       "    </tr>\n",
       "    <tr>\n",
       "      <th>2020-03-08</th>\n",
       "      <td>537.0</td>\n",
       "      <td>21.0</td>\n",
       "      <td>8.0</td>\n",
       "    </tr>\n",
       "    <tr>\n",
       "      <th>2020-03-09</th>\n",
       "      <td>605.0</td>\n",
       "      <td>22.0</td>\n",
       "      <td>8.0</td>\n",
       "    </tr>\n",
       "    <tr>\n",
       "      <th>2020-03-10</th>\n",
       "      <td>959.0</td>\n",
       "      <td>28.0</td>\n",
       "      <td>8.0</td>\n",
       "    </tr>\n",
       "  </tbody>\n",
       "</table>\n",
       "</div>"
      ],
      "text/plain": [
       "            Confirmed  Deaths  Recovered\n",
       "Date                                    \n",
       "2020-03-02      101.0     6.0        7.0\n",
       "2020-03-03      122.0     7.0        8.0\n",
       "2020-03-04      153.0    11.0        8.0\n",
       "2020-03-05      221.0    12.0        8.0\n",
       "2020-03-06      278.0    14.0        8.0\n",
       "2020-03-07      417.0    17.0        8.0\n",
       "2020-03-08      537.0    21.0        8.0\n",
       "2020-03-09      605.0    22.0        8.0\n",
       "2020-03-10      959.0    28.0        8.0"
      ]
     },
     "execution_count": 18,
     "metadata": {},
     "output_type": "execute_result"
    }
   ],
   "source": [
    "cases_100_1000 = covid_by_date.loc[((covid_by_date['Confirmed'] > 100)& (covid_by_date['Confirmed'] < 1000)), :]\n",
    "cases_100_1000"
   ]
  },
  {
   "cell_type": "markdown",
   "metadata": {},
   "source": [
    "Сделаем первые разности (производную)"
   ]
  },
  {
   "cell_type": "code",
   "execution_count": 19,
   "metadata": {},
   "outputs": [
    {
     "data": {
      "image/png": "[encoded data removed]",
      "text/plain": [
       "<Figure size 432x288 with 1 Axes>"
      ]
     },
     "metadata": {
      "needs_background": "light"
     },
     "output_type": "display_data"
    }
   ],
   "source": [
    "covid_by_date.diff(1).plot()\n",
    "plt.xticks(label = covid_by_date.index.get_level_values('Date'), rotation=90)\n",
    "\n",
    "plt.show()"
   ]
  },
  {
   "cell_type": "markdown",
   "metadata": {},
   "source": [
    "Опять большой пик - нужен дополнительный анализ\n",
    "\n",
    "Посмотрим только на выздоровление (так оптимистичней:))"
   ]
  },
  {
   "cell_type": "code",
   "execution_count": null,
   "metadata": {},
   "outputs": [],
   "source": []
  },
  {
   "cell_type": "code",
   "execution_count": null,
   "metadata": {},
   "outputs": [],
   "source": []
  },
  {
   "cell_type": "markdown",
   "metadata": {},
   "source": [
    "Странный ход данных сохранился - будем разбираться, что происходит\n",
    "\n",
    "\n",
    "## Построим признаки\n",
    "\n",
    "1) Первая разность (производная ряда) - разница с(t)-c(t-1) по всем t "
   ]
  },
  {
   "cell_type": "code",
   "execution_count": 20,
   "metadata": {},
   "outputs": [
    {
     "ename": "NameError",
     "evalue": "name 'COVID' is not defined",
     "output_type": "error",
     "traceback": [
      "\u001b[1;31m---------------------------------------------------------------------------\u001b[0m",
      "\u001b[1;31mNameError\u001b[0m                                 Traceback (most recent call last)",
      "\u001b[1;32m<ipython-input-20-e1783237e013>\u001b[0m in \u001b[0;36m<module>\u001b[1;34m\u001b[0m\n\u001b[1;32m----> 1\u001b[1;33m \u001b[0mX1\u001b[0m \u001b[1;33m=\u001b[0m \u001b[0mCOVID\u001b[0m\u001b[1;33m.\u001b[0m\u001b[0mloc\u001b[0m\u001b[1;33m[\u001b[0m\u001b[0mCOVID\u001b[0m\u001b[1;33m.\u001b[0m\u001b[0mindex\u001b[0m\u001b[1;33m.\u001b[0m\u001b[0mget_level_values\u001b[0m\u001b[1;33m(\u001b[0m \u001b[1;34m'Country/Region'\u001b[0m\u001b[1;33m)\u001b[0m\u001b[1;33m==\u001b[0m\u001b[1;34m'Mainland China'\u001b[0m\u001b[1;33m,\u001b[0m \u001b[1;33m[\u001b[0m\u001b[1;34m'Confirmed'\u001b[0m\u001b[1;33m,\u001b[0m\u001b[1;34m'Deaths'\u001b[0m\u001b[1;33m,\u001b[0m\u001b[1;34m'Recovered'\u001b[0m\u001b[1;33m]\u001b[0m\u001b[1;33m]\u001b[0m\u001b[1;33m.\u001b[0m\u001b[0mdiff\u001b[0m\u001b[1;33m(\u001b[0m\u001b[1;36m1\u001b[0m\u001b[1;33m)\u001b[0m\u001b[1;33m.\u001b[0m\u001b[0mvalues\u001b[0m\u001b[1;33m\u001b[0m\u001b[1;33m\u001b[0m\u001b[0m\n\u001b[0m\u001b[0;32m      2\u001b[0m \u001b[0mX1\u001b[0m\u001b[1;33m[\u001b[0m\u001b[1;36m0\u001b[0m\u001b[1;33m,\u001b[0m\u001b[1;33m:\u001b[0m\u001b[1;33m]\u001b[0m \u001b[1;33m=\u001b[0m \u001b[1;36m0\u001b[0m\u001b[1;33m\u001b[0m\u001b[1;33m\u001b[0m\u001b[0m\n",
      "\u001b[1;31mNameError\u001b[0m: name 'COVID' is not defined"
     ]
    }
   ],
   "source": [
    "X1 = COVID.loc[COVID.index.get_level_values( 'Country/Region')=='Mainland China', ['Confirmed','Deaths','Recovered']].diff(1).values\n",
    "X1[0,:] = 0"
   ]
  },
  {
   "cell_type": "markdown",
   "metadata": {},
   "source": [
    "2) Сами значения элементов ряда по времени"
   ]
  },
  {
   "cell_type": "code",
   "execution_count": null,
   "metadata": {},
   "outputs": [],
   "source": [
    "X2 = COVID.loc[COVID.index.get_level_values( 'Country/Region')=='Mainland China', ['Confirmed','Deaths','Recovered']].values "
   ]
  },
  {
   "cell_type": "code",
   "execution_count": null,
   "metadata": {},
   "outputs": [],
   "source": [
    "X1.shape"
   ]
  },
  {
   "cell_type": "code",
   "execution_count": null,
   "metadata": {},
   "outputs": [],
   "source": [
    "X2.shape"
   ]
  },
  {
   "cell_type": "markdown",
   "metadata": {},
   "source": [
    "3) Добавим признаков по календарю\n",
    "   "
   ]
  },
  {
   "cell_type": "code",
   "execution_count": null,
   "metadata": {},
   "outputs": [],
   "source": [
    "X3 = COVID.iloc[COVID.index.get_level_values( 'Country/Region')=='Mainland China'].index.get_level_values( 'Data')"
   ]
  },
  {
   "cell_type": "code",
   "execution_count": null,
   "metadata": {},
   "outputs": [],
   "source": [
    "X3"
   ]
  },
  {
   "cell_type": "markdown",
   "metadata": {},
   "source": [
    "3.1) - день недели по счету\n",
    "\n",
    "3.2) - день от начала статистики в текущей таблице (для Китая - 1-й день карантина(возможно), для других стран следует посмотреть на первый не 0-й экземпляр по 'Confirmed') - строим как \"текущий день года\" - \"первый день от начала отсчета данных по номеру в году\""
   ]
  },
  {
   "cell_type": "code",
   "execution_count": null,
   "metadata": {},
   "outputs": [],
   "source": [
    "X3_1 = pd.to_datetime(X3).dayofweek\n",
    "X3_2 = pd.to_datetime(X3).dayofyear -  pd.to_datetime(X3[0]).dayofyear"
   ]
  },
  {
   "cell_type": "code",
   "execution_count": null,
   "metadata": {},
   "outputs": [],
   "source": [
    "X3_2"
   ]
  },
  {
   "cell_type": "markdown",
   "metadata": {},
   "source": [
    "Собирем все в кучу"
   ]
  },
  {
   "cell_type": "code",
   "execution_count": null,
   "metadata": {},
   "outputs": [],
   "source": [
    "XX = np.concatenate([X1,X2], axis= 1)"
   ]
  },
  {
   "cell_type": "code",
   "execution_count": null,
   "metadata": {},
   "outputs": [],
   "source": [
    "XX = np.concatenate([XX,np.array(X3_1).reshape((75,1))], axis= 1)"
   ]
  },
  {
   "cell_type": "code",
   "execution_count": null,
   "metadata": {},
   "outputs": [],
   "source": [
    "XX = np.concatenate([XX,np.array(X3_2).reshape((75,1))], axis= 1)"
   ]
  },
  {
   "cell_type": "code",
   "execution_count": null,
   "metadata": {},
   "outputs": [],
   "source": [
    "XX.shape"
   ]
  },
  {
   "cell_type": "markdown",
   "metadata": {},
   "source": [
    "Таблица признаков для Китая"
   ]
  },
  {
   "cell_type": "code",
   "execution_count": null,
   "metadata": {},
   "outputs": [],
   "source": [
    "COVID_Data = pd.DataFrame(data= XX, index= X3)"
   ]
  },
  {
   "cell_type": "code",
   "execution_count": null,
   "metadata": {},
   "outputs": [],
   "source": [
    "COVID_Data.head()"
   ]
  },
  {
   "cell_type": "markdown",
   "metadata": {},
   "source": [
    "Сделаем данные для модели:\n",
    "\n",
    "необходимо определить как далеко будем смотреть назад по ряду от текущего дня - это параметр р - глубина истории\n",
    "\n",
    "необходимо определить как далеко будем смотреть вперед (предсказывать) - это горизонт прогноза h"
   ]
  },
  {
   "cell_type": "code",
   "execution_count": null,
   "metadata": {},
   "outputs": [],
   "source": [
    "p = 10 # 10 дней назад по истории\n",
    "h=1    # 1 день вперед предсказываем"
   ]
  },
  {
   "cell_type": "markdown",
   "metadata": {},
   "source": [
    "Строим выходную часть данных:\n",
    " \n",
    " предсказываем значения заболеваемости (т.е. признак COVID_Dat.iloc[:,3])\n",
    " \n",
    " сдвигаем точку предсказания на длину истории р (т.к. не можем предсказывать имея меньше чем р данных для анализа) и ставим первой предсказываемой точкой точку p+h , h - горизонт предсказания"
   ]
  },
  {
   "cell_type": "code",
   "execution_count": null,
   "metadata": {},
   "outputs": [],
   "source": [
    "y = COVID_Data.iloc[h+p:,3]\n",
    "y"
   ]
  },
  {
   "cell_type": "markdown",
   "metadata": {},
   "source": [
    "Строим данные для входной части модели:\n",
    "\n",
    "наши р дней истории по всем признакам  начиная от 0-го дня используем блоками  XX[i:i+p,:] для i = 0,64\n",
    "\n",
    "последний предсказываемый день будет 75-й (5.04.2020), т.е. данные для предсказания кончаются в 74-й день (4.04.2020)\n",
    "\n",
    "векторизируем весь блок данных истории в вектор длины 8*р и дописываем в примеры для обучения  X"
   ]
  },
  {
   "cell_type": "code",
   "execution_count": null,
   "metadata": {},
   "outputs": [],
   "source": [
    "X =[]\n",
    "for i in range(len(y)):\n",
    "    xx = XX[i:i+p,:]\n",
    "    X.append(xx.reshape(8*p))"
   ]
  },
  {
   "cell_type": "markdown",
   "metadata": {},
   "source": [
    "Приводим все к одному виду для обработки в модели"
   ]
  },
  {
   "cell_type": "code",
   "execution_count": null,
   "metadata": {},
   "outputs": [],
   "source": [
    "X = np.array(X).reshape((75-p-h,8*p))\n",
    "y=np.array(y).reshape((75-p-h,1))"
   ]
  },
  {
   "cell_type": "code",
   "execution_count": null,
   "metadata": {},
   "outputs": [],
   "source": [
    "X.shape"
   ]
  },
  {
   "cell_type": "code",
   "execution_count": null,
   "metadata": {},
   "outputs": [],
   "source": [
    "y.shape"
   ]
  },
  {
   "cell_type": "markdown",
   "metadata": {},
   "source": [
    "Можно строить модель"
   ]
  },
  {
   "cell_type": "code",
   "execution_count": null,
   "metadata": {},
   "outputs": [],
   "source": [
    "from sklearn.linear_model import LinearRegression\n",
    "from sklearn.model_selection import train_test_split\n",
    "\n",
    "N=-10\n",
    "x_train,y_train,x_test,y_test=X[:N,:],y[:N,:],X[N:,:],y[N:,:]\n",
    "# пока строим одну\n",
    "model_lb = LinearRegression()"
   ]
  },
  {
   "cell_type": "code",
   "execution_count": null,
   "metadata": {},
   "outputs": [],
   "source": [
    "model_lb.fit(x_train,y_train)"
   ]
  },
  {
   "cell_type": "code",
   "execution_count": null,
   "metadata": {},
   "outputs": [],
   "source": [
    "y_pred = model_lb.predict(x_test)\n",
    "y_pred_t = model_lb.predict(x_train)"
   ]
  },
  {
   "cell_type": "code",
   "execution_count": null,
   "metadata": {},
   "outputs": [],
   "source": [
    "error_ =np.mean(np.abs(y_pred-y_test))\n",
    "print(error_)"
   ]
  },
  {
   "cell_type": "code",
   "execution_count": null,
   "metadata": {},
   "outputs": [],
   "source": [
    "plt.plot(y_pred_t, label='predict train')\n",
    "plt.plot(y_train, label='train')\n",
    "plt.legend()\n",
    "plt.title('Предсказание train')\n",
    "plt.show()"
   ]
  },
  {
   "cell_type": "code",
   "execution_count": null,
   "metadata": {},
   "outputs": [],
   "source": [
    "plt.plot(y_pred, label='predict')\n",
    "plt.plot(y_test, label='test')\n",
    "plt.legend()\n",
    "plt.title('Предсказание test')\n",
    "plt.show()"
   ]
  },
  {
   "cell_type": "markdown",
   "metadata": {},
   "source": [
    "Вообще получилось хорошо :) - довольно точно"
   ]
  },
  {
   "cell_type": "code",
   "execution_count": null,
   "metadata": {},
   "outputs": [],
   "source": [
    "error_p =np.mean(np.abs(y_pred-y_test)/y_test)*100\n",
    "\n",
    "print('error in MAPE :', error_p, '%')"
   ]
  },
  {
   "cell_type": "code",
   "execution_count": null,
   "metadata": {},
   "outputs": [],
   "source": []
  }
 ],
 "metadata": {
  "kernelspec": {
   "display_name": "Python 3",
   "language": "python",
   "name": "python3"
  },
  "language_info": {
   "codemirror_mode": {
    "name": "ipython",
    "version": 3
   },
   "file_extension": ".py",
   "mimetype": "text/x-python",
   "name": "python",
   "nbconvert_exporter": "python",
   "pygments_lexer": "ipython3",
   "version": "3.7.1"
  }
 },
 "nbformat": 4,
 "nbformat_minor": 2
}
