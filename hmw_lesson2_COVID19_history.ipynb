{
 "cells": [
  {
   "cell_type": "markdown",
   "metadata": {},
   "source": [
    "**1. Прочитайте базу \"COVID_19_data\"** и сделайте модель для сглаженой формы(экспоненциально) по приросту(первые разности) ил по прямому ряду для выздоровлений(или заболеваний) с глубиной прогноза h=1 и h=10 по образцу из примера для обработки ряда \"цена Нефти\" .\n",
    "**на уроке дано задание - сделать побольше признаков и построить по ним модель**"
   ]
  },
  {
   "cell_type": "code",
   "execution_count": 1,
   "metadata": {},
   "outputs": [],
   "source": [
    "import pandas as pd\n",
    "import numpy as np\n",
    "\n",
    "import matplotlib.pyplot as plt"
   ]
  },
  {
   "cell_type": "markdown",
   "metadata": {},
   "source": [
    "func"
   ]
  },
  {
   "cell_type": "code",
   "execution_count": 2,
   "metadata": {},
   "outputs": [],
   "source": [
    "def exponential_smoothing(series, alpha):\n",
    "    result = [series[0]] # first value is same as series\n",
    "    for n in range(1, len(series)):\n",
    "        result.append(alpha * series[n] + (1 - alpha) * result[n-1])\n",
    "    return result"
   ]
  },
  {
   "cell_type": "code",
   "execution_count": 3,
   "metadata": {},
   "outputs": [],
   "source": [
    "def smoothing(series, h):\n",
    "    res = series[:h]\n",
    "    res = res.append(series.rolling(window=h).mean()[h:])\n",
    "    return res"
   ]
  },
  {
   "cell_type": "code",
   "execution_count": 4,
   "metadata": {},
   "outputs": [],
   "source": [
    "def f_differ(series):\n",
    "    fod = [0]\n",
    "    fod[1:] = series[1:].values - series[:-1].values \n",
    "    return fod"
   ]
  },
  {
   "cell_type": "code",
   "execution_count": 5,
   "metadata": {},
   "outputs": [],
   "source": [
    "covid = pd.read_csv('D:/AI/Machine learning/novel-corona-virus-2019-dataset/covid_19_data.csv')\n"
   ]
  },
  {
   "cell_type": "code",
   "execution_count": 6,
   "metadata": {},
   "outputs": [
    {
     "data": {
      "text/html": [
       "<div>\n",
       "<style scoped>\n",
       "    .dataframe tbody tr th:only-of-type {\n",
       "        vertical-align: middle;\n",
       "    }\n",
       "\n",
       "    .dataframe tbody tr th {\n",
       "        vertical-align: top;\n",
       "    }\n",
       "\n",
       "    .dataframe thead th {\n",
       "        text-align: right;\n",
       "    }\n",
       "</style>\n",
       "<table border=\"1\" class=\"dataframe\">\n",
       "  <thead>\n",
       "    <tr style=\"text-align: right;\">\n",
       "      <th></th>\n",
       "      <th>SNo</th>\n",
       "      <th>ObservationDate</th>\n",
       "      <th>Province/State</th>\n",
       "      <th>Country/Region</th>\n",
       "      <th>Last Update</th>\n",
       "      <th>Confirmed</th>\n",
       "      <th>Deaths</th>\n",
       "      <th>Recovered</th>\n",
       "    </tr>\n",
       "  </thead>\n",
       "  <tbody>\n",
       "    <tr>\n",
       "      <th>15766</th>\n",
       "      <td>15767</td>\n",
       "      <td>04/16/2020</td>\n",
       "      <td>Yukon</td>\n",
       "      <td>Canada</td>\n",
       "      <td>2020-04-16 23:38:19</td>\n",
       "      <td>8.0</td>\n",
       "      <td>0.0</td>\n",
       "      <td>0.0</td>\n",
       "    </tr>\n",
       "    <tr>\n",
       "      <th>15767</th>\n",
       "      <td>15768</td>\n",
       "      <td>04/16/2020</td>\n",
       "      <td>Yunnan</td>\n",
       "      <td>Mainland China</td>\n",
       "      <td>2020-04-16 23:38:19</td>\n",
       "      <td>184.0</td>\n",
       "      <td>2.0</td>\n",
       "      <td>176.0</td>\n",
       "    </tr>\n",
       "    <tr>\n",
       "      <th>15768</th>\n",
       "      <td>15769</td>\n",
       "      <td>04/16/2020</td>\n",
       "      <td>Zhejiang</td>\n",
       "      <td>Mainland China</td>\n",
       "      <td>2020-04-16 23:38:19</td>\n",
       "      <td>1268.0</td>\n",
       "      <td>1.0</td>\n",
       "      <td>1244.0</td>\n",
       "    </tr>\n",
       "  </tbody>\n",
       "</table>\n",
       "</div>"
      ],
      "text/plain": [
       "         SNo ObservationDate Province/State  Country/Region  \\\n",
       "15766  15767      04/16/2020          Yukon          Canada   \n",
       "15767  15768      04/16/2020         Yunnan  Mainland China   \n",
       "15768  15769      04/16/2020       Zhejiang  Mainland China   \n",
       "\n",
       "               Last Update  Confirmed  Deaths  Recovered  \n",
       "15766  2020-04-16 23:38:19        8.0     0.0        0.0  \n",
       "15767  2020-04-16 23:38:19      184.0     2.0      176.0  \n",
       "15768  2020-04-16 23:38:19     1268.0     1.0     1244.0  "
      ]
     },
     "execution_count": 6,
     "metadata": {},
     "output_type": "execute_result"
    }
   ],
   "source": [
    "covid.tail(3)"
   ]
  },
  {
   "cell_type": "markdown",
   "metadata": {},
   "source": [
    "Making a dataframe copy and working with it only\n",
    "Выносим дату отдельным столбцом"
   ]
  },
  {
   "cell_type": "code",
   "execution_count": 7,
   "metadata": {},
   "outputs": [],
   "source": [
    "covid_19 = covid.copy()\n",
    "covid_19['Date']= pd.to_datetime(covid['ObservationDate']).dt.date"
   ]
  },
  {
   "cell_type": "code",
   "execution_count": 8,
   "metadata": {},
   "outputs": [
    {
     "name": "stdout",
     "output_type": "stream",
     "text": [
      "86\n"
     ]
    }
   ],
   "source": [
    "#checking date repeats; finding number of dates\n",
    "if len(covid_19['Date'].value_counts())==covid_19['Date'].nunique():\n",
    "    print(covid_19['Date'].nunique())"
   ]
  },
  {
   "cell_type": "code",
   "execution_count": 9,
   "metadata": {},
   "outputs": [],
   "source": [
    "covid_by_date = covid_19.groupby(['Date'])['Confirmed','Deaths','Recovered'].sum()"
   ]
  },
  {
   "cell_type": "code",
   "execution_count": 10,
   "metadata": {},
   "outputs": [],
   "source": [
    "covid_by_date.index = pd.to_datetime(covid_by_date.index)"
   ]
  },
  {
   "cell_type": "code",
   "execution_count": 11,
   "metadata": {},
   "outputs": [
    {
     "data": {
      "text/plain": [
       "<matplotlib.axes._subplots.AxesSubplot at 0x24b30b511d0>"
      ]
     },
     "execution_count": 11,
     "metadata": {},
     "output_type": "execute_result"
    },
    {
     "data": {
      "image/png": "[encoded data removed]",
      "text/plain": [
       "<Figure size 432x288 with 1 Axes>"
      ]
     },
     "metadata": {
      "needs_background": "light"
     },
     "output_type": "display_data"
    }
   ],
   "source": [
    "covid_by_date.plot()"
   ]
  },
  {
   "cell_type": "code",
   "execution_count": 12,
   "metadata": {},
   "outputs": [
    {
     "data": {
      "text/html": [
       "<div>\n",
       "<style scoped>\n",
       "    .dataframe tbody tr th:only-of-type {\n",
       "        vertical-align: middle;\n",
       "    }\n",
       "\n",
       "    .dataframe tbody tr th {\n",
       "        vertical-align: top;\n",
       "    }\n",
       "\n",
       "    .dataframe thead th {\n",
       "        text-align: right;\n",
       "    }\n",
       "</style>\n",
       "<table border=\"1\" class=\"dataframe\">\n",
       "  <thead>\n",
       "    <tr style=\"text-align: right;\">\n",
       "      <th></th>\n",
       "      <th>Confirmed</th>\n",
       "      <th>Deaths</th>\n",
       "      <th>Recovered</th>\n",
       "    </tr>\n",
       "    <tr>\n",
       "      <th>Date</th>\n",
       "      <th></th>\n",
       "      <th></th>\n",
       "      <th></th>\n",
       "    </tr>\n",
       "  </thead>\n",
       "  <tbody>\n",
       "    <tr>\n",
       "      <th>2020-01-22</th>\n",
       "      <td>555.0</td>\n",
       "      <td>17.0</td>\n",
       "      <td>28.0</td>\n",
       "    </tr>\n",
       "    <tr>\n",
       "      <th>2020-01-23</th>\n",
       "      <td>653.0</td>\n",
       "      <td>18.0</td>\n",
       "      <td>30.0</td>\n",
       "    </tr>\n",
       "    <tr>\n",
       "      <th>2020-01-24</th>\n",
       "      <td>941.0</td>\n",
       "      <td>26.0</td>\n",
       "      <td>36.0</td>\n",
       "    </tr>\n",
       "  </tbody>\n",
       "</table>\n",
       "</div>"
      ],
      "text/plain": [
       "            Confirmed  Deaths  Recovered\n",
       "Date                                    \n",
       "2020-01-22      555.0    17.0       28.0\n",
       "2020-01-23      653.0    18.0       30.0\n",
       "2020-01-24      941.0    26.0       36.0"
      ]
     },
     "execution_count": 12,
     "metadata": {},
     "output_type": "execute_result"
    }
   ],
   "source": [
    "covid_by_date.head(3)"
   ]
  },
  {
   "cell_type": "code",
   "execution_count": 13,
   "metadata": {},
   "outputs": [
    {
     "data": {
      "text/plain": [
       "<matplotlib.axes._subplots.AxesSubplot at 0x24b30d1c278>"
      ]
     },
     "execution_count": 13,
     "metadata": {},
     "output_type": "execute_result"
    },
    {
     "data": {
      "image/png": "[encoded data removed]",
      "text/plain": [
       "<Figure size 432x288 with 1 Axes>"
      ]
     },
     "metadata": {
      "needs_background": "light"
     },
     "output_type": "display_data"
    }
   ],
   "source": [
    "covid_by_date['2020-02-10': '2020-02-15'].plot()"
   ]
  },
  {
   "cell_type": "markdown",
   "metadata": {},
   "source": [
    "recovered - smooth line  \n",
    "**trying logarithm 'Recovered'**"
   ]
  },
  {
   "cell_type": "code",
   "execution_count": 14,
   "metadata": {},
   "outputs": [],
   "source": [
    "covid_log = pd.Series(np.log(covid_by_date['Recovered']))"
   ]
  },
  {
   "cell_type": "code",
   "execution_count": 15,
   "metadata": {},
   "outputs": [
    {
     "data": {
      "text/plain": [
       "<matplotlib.axes._subplots.AxesSubplot at 0x24b30dadba8>"
      ]
     },
     "execution_count": 15,
     "metadata": {},
     "output_type": "execute_result"
    },
    {
     "data": {
      "image/png": "[encoded data removed]",
      "text/plain": [
       "<Figure size 432x288 with 1 Axes>"
      ]
     },
     "metadata": {
      "needs_background": "light"
     },
     "output_type": "display_data"
    }
   ],
   "source": [
    "covid_log.plot()"
   ]
  },
  {
   "cell_type": "code",
   "execution_count": 16,
   "metadata": {},
   "outputs": [],
   "source": [
    "#adding a column\n",
    "covid_by_date['Logarithm'] = pd.Series(np.log(covid_by_date['Recovered']))"
   ]
  },
  {
   "cell_type": "code",
   "execution_count": null,
   "metadata": {},
   "outputs": [],
   "source": []
  },
  {
   "cell_type": "code",
   "execution_count": 17,
   "metadata": {},
   "outputs": [],
   "source": [
    "covid_by_date = covid_by_date.loc[covid_by_date.index > pd.to_datetime('2020-02-13'), :]"
   ]
  },
  {
   "cell_type": "markdown",
   "metadata": {},
   "source": [
    "добавляем простое сглаживание с разными окнами, хотя при таком прогрессивном постоянном росте вряд ли это даст что-то"
   ]
  },
  {
   "cell_type": "code",
   "execution_count": 18,
   "metadata": {},
   "outputs": [
    {
     "name": "stderr",
     "output_type": "stream",
     "text": [
      "C:\\Python37\\lib\\site-packages\\ipykernel_launcher.py:2: SettingWithCopyWarning: \n",
      "A value is trying to be set on a copy of a slice from a DataFrame.\n",
      "Try using .loc[row_indexer,col_indexer] = value instead\n",
      "\n",
      "See the caveats in the documentation: http://pandas.pydata.org/pandas-docs/stable/user_guide/indexing.html#returning-a-view-versus-a-copy\n",
      "  \n"
     ]
    }
   ],
   "source": [
    "#covid_by_date['smoothing_win2'] = smoothing(covid_by_date['Recovered'], 2)\n",
    "covid_by_date['smoothing_win5'] = smoothing(covid_by_date['Recovered'], 5)\n",
    "#covid_by_date['smoothing_win9'] = smoothing(covid_by_date['Recovered'], 9)"
   ]
  },
  {
   "cell_type": "markdown",
   "metadata": {},
   "source": [
    "Сделаем первые разности"
   ]
  },
  {
   "cell_type": "code",
   "execution_count": 19,
   "metadata": {},
   "outputs": [
    {
     "name": "stderr",
     "output_type": "stream",
     "text": [
      "C:\\Python37\\lib\\site-packages\\ipykernel_launcher.py:1: SettingWithCopyWarning: \n",
      "A value is trying to be set on a copy of a slice from a DataFrame.\n",
      "Try using .loc[row_indexer,col_indexer] = value instead\n",
      "\n",
      "See the caveats in the documentation: http://pandas.pydata.org/pandas-docs/stable/user_guide/indexing.html#returning-a-view-versus-a-copy\n",
      "  \"\"\"Entry point for launching an IPython kernel.\n"
     ]
    }
   ],
   "source": [
    "covid_by_date['first_ord_differ'] = f_differ(covid_by_date['Recovered'])"
   ]
  },
  {
   "cell_type": "code",
   "execution_count": 20,
   "metadata": {},
   "outputs": [
    {
     "data": {
      "text/plain": [
       "(array([737470., 737477., 737485., 737492., 737499., 737506., 737516.,\n",
       "        737523., 737530.]), <a list of 9 Text xticklabel objects>)"
      ]
     },
     "execution_count": 20,
     "metadata": {},
     "output_type": "execute_result"
    },
    {
     "data": {
      "image/png": "[encoded data removed]",
      "text/plain": [
       "<Figure size 432x288 with 1 Axes>"
      ]
     },
     "metadata": {
      "needs_background": "light"
     },
     "output_type": "display_data"
    }
   ],
   "source": [
    "plt.plot(covid_by_date.loc[:, ['first_ord_differ']])\n",
    "plt.xticks(rotation=90)"
   ]
  },
  {
   "cell_type": "code",
   "execution_count": 21,
   "metadata": {},
   "outputs": [
    {
     "data": {
      "text/html": [
       "<div>\n",
       "<style scoped>\n",
       "    .dataframe tbody tr th:only-of-type {\n",
       "        vertical-align: middle;\n",
       "    }\n",
       "\n",
       "    .dataframe tbody tr th {\n",
       "        vertical-align: top;\n",
       "    }\n",
       "\n",
       "    .dataframe thead th {\n",
       "        text-align: right;\n",
       "    }\n",
       "</style>\n",
       "<table border=\"1\" class=\"dataframe\">\n",
       "  <thead>\n",
       "    <tr style=\"text-align: right;\">\n",
       "      <th></th>\n",
       "      <th>Confirmed</th>\n",
       "      <th>Deaths</th>\n",
       "      <th>Recovered</th>\n",
       "      <th>Logarithm</th>\n",
       "      <th>smoothing_win5</th>\n",
       "      <th>first_ord_differ</th>\n",
       "    </tr>\n",
       "    <tr>\n",
       "      <th>Date</th>\n",
       "      <th></th>\n",
       "      <th></th>\n",
       "      <th></th>\n",
       "      <th></th>\n",
       "      <th></th>\n",
       "      <th></th>\n",
       "    </tr>\n",
       "  </thead>\n",
       "  <tbody>\n",
       "    <tr>\n",
       "      <th>2020-04-14</th>\n",
       "      <td>1976192.0</td>\n",
       "      <td>125984.0</td>\n",
       "      <td>474261.0</td>\n",
       "      <td>13.069513</td>\n",
       "      <td>424568.8</td>\n",
       "      <td>25606.0</td>\n",
       "    </tr>\n",
       "    <tr>\n",
       "      <th>2020-04-15</th>\n",
       "      <td>2056055.0</td>\n",
       "      <td>134177.0</td>\n",
       "      <td>511019.0</td>\n",
       "      <td>13.144162</td>\n",
       "      <td>451553.4</td>\n",
       "      <td>36758.0</td>\n",
       "    </tr>\n",
       "    <tr>\n",
       "      <th>2020-04-16</th>\n",
       "      <td>2152647.0</td>\n",
       "      <td>143801.0</td>\n",
       "      <td>542107.0</td>\n",
       "      <td>13.203219</td>\n",
       "      <td>479552.8</td>\n",
       "      <td>31088.0</td>\n",
       "    </tr>\n",
       "  </tbody>\n",
       "</table>\n",
       "</div>"
      ],
      "text/plain": [
       "            Confirmed    Deaths  Recovered  Logarithm  smoothing_win5  \\\n",
       "Date                                                                    \n",
       "2020-04-14  1976192.0  125984.0   474261.0  13.069513        424568.8   \n",
       "2020-04-15  2056055.0  134177.0   511019.0  13.144162        451553.4   \n",
       "2020-04-16  2152647.0  143801.0   542107.0  13.203219        479552.8   \n",
       "\n",
       "            first_ord_differ  \n",
       "Date                          \n",
       "2020-04-14           25606.0  \n",
       "2020-04-15           36758.0  \n",
       "2020-04-16           31088.0  "
      ]
     },
     "execution_count": 21,
     "metadata": {},
     "output_type": "execute_result"
    }
   ],
   "source": [
    "covid_by_date.tail(3)"
   ]
  },
  {
   "cell_type": "code",
   "execution_count": 22,
   "metadata": {},
   "outputs": [
    {
     "data": {
      "image/png": "[encoded data removed]",
      "text/plain": [
       "<Figure size 432x288 with 1 Axes>"
      ]
     },
     "metadata": {
      "needs_background": "light"
     },
     "output_type": "display_data"
    }
   ],
   "source": [
    "# compairing first order derivative with first-order differences\n",
    "covid_by_date['first_ord_differ'].diff(1).plot()\n",
    "covid_by_date['Recovered'].diff(1).plot()\n",
    "covid_by_date['Recovered'].diff(2).plot()\n",
    "plt.xticks(rotation=90)\n",
    "\n",
    "plt.show()"
   ]
  },
  {
   "cell_type": "code",
   "execution_count": 23,
   "metadata": {},
   "outputs": [
    {
     "name": "stderr",
     "output_type": "stream",
     "text": [
      "C:\\Python37\\lib\\site-packages\\ipykernel_launcher.py:1: SettingWithCopyWarning: \n",
      "A value is trying to be set on a copy of a slice from a DataFrame.\n",
      "Try using .loc[row_indexer,col_indexer] = value instead\n",
      "\n",
      "See the caveats in the documentation: http://pandas.pydata.org/pandas-docs/stable/user_guide/indexing.html#returning-a-view-versus-a-copy\n",
      "  \"\"\"Entry point for launching an IPython kernel.\n",
      "C:\\Python37\\lib\\site-packages\\pandas\\core\\indexing.py:494: SettingWithCopyWarning: \n",
      "A value is trying to be set on a copy of a slice from a DataFrame.\n",
      "Try using .loc[row_indexer,col_indexer] = value instead\n",
      "\n",
      "See the caveats in the documentation: http://pandas.pydata.org/pandas-docs/stable/user_guide/indexing.html#returning-a-view-versus-a-copy\n",
      "  self.obj[item] = s\n"
     ]
    }
   ],
   "source": [
    "covid_by_date['Deriv_1'] = 0\n",
    "#covid_by_date['Deriv_2'] = 0\n",
    "covid_by_date.loc[1:, 'Deriv_1'] = covid_by_date['Recovered'].diff(1)\n",
    "#covid_by_date.loc[2:, 'Deriv_2'] = covid_by_date['Recovered'].diff(2)"
   ]
  },
  {
   "cell_type": "markdown",
   "metadata": {},
   "source": [
    "**exponential_smoothing**"
   ]
  },
  {
   "cell_type": "code",
   "execution_count": 24,
   "metadata": {},
   "outputs": [
    {
     "data": {
      "text/plain": [
       "<matplotlib.legend.Legend at 0x24b320bb240>"
      ]
     },
     "execution_count": 24,
     "metadata": {},
     "output_type": "execute_result"
    },
    {
     "data": {
      "image/png": "[encoded data removed]",
      "text/plain": [
       "<Figure size 432x288 with 1 Axes>"
      ]
     },
     "metadata": {
      "needs_background": "light"
     },
     "output_type": "display_data"
    }
   ],
   "source": [
    "a = covid_by_date.loc[((covid_by_date.index > pd.to_datetime('2020-04-01')) \n",
    "                       & (covid_by_date.index < pd.to_datetime('2020-04-10'))), 'Recovered']\n",
    "plt.plot(a.index, exponential_smoothing(covid_by_date.loc[(covid_by_date.index > pd.to_datetime('2020-04-01')) \n",
    "                                                          & (covid_by_date.index < pd.to_datetime('2020-04-10')), 'Recovered'],\n",
    "                                        0.3), label='0.3')\n",
    "plt.plot(a.index, exponential_smoothing(covid_by_date.loc[(covid_by_date.index > pd.to_datetime('2020-04-01')) \n",
    "                                                          & (covid_by_date.index < pd.to_datetime('2020-04-10')), 'Recovered'],\n",
    "                                        0.5), label='0.5')\n",
    "plt.plot(a.index, exponential_smoothing(covid_by_date.loc[(covid_by_date.index > pd.to_datetime('2020-04-01')) \n",
    "                                                          & (covid_by_date.index < pd.to_datetime('2020-04-10')), 'Recovered'],\n",
    "                                        0.8), label='0.8')\n",
    "plt.plot(a, label='initial')\n",
    "plt.xticks(rotation=90)\n",
    "plt.legend()"
   ]
  },
  {
   "cell_type": "code",
   "execution_count": 25,
   "metadata": {},
   "outputs": [
    {
     "name": "stderr",
     "output_type": "stream",
     "text": [
      "C:\\Python37\\lib\\site-packages\\ipykernel_launcher.py:1: SettingWithCopyWarning: \n",
      "A value is trying to be set on a copy of a slice from a DataFrame.\n",
      "Try using .loc[row_indexer,col_indexer] = value instead\n",
      "\n",
      "See the caveats in the documentation: http://pandas.pydata.org/pandas-docs/stable/user_guide/indexing.html#returning-a-view-versus-a-copy\n",
      "  \"\"\"Entry point for launching an IPython kernel.\n"
     ]
    }
   ],
   "source": [
    "covid_by_date['exp_smoothing_05'] = exponential_smoothing(covid_by_date.loc[:, 'Recovered'],0.5)"
   ]
  },
  {
   "cell_type": "code",
   "execution_count": 26,
   "metadata": {},
   "outputs": [
    {
     "name": "stderr",
     "output_type": "stream",
     "text": [
      "C:\\Python37\\lib\\site-packages\\ipykernel_launcher.py:1: SettingWithCopyWarning: \n",
      "A value is trying to be set on a copy of a slice from a DataFrame.\n",
      "Try using .loc[row_indexer,col_indexer] = value instead\n",
      "\n",
      "See the caveats in the documentation: http://pandas.pydata.org/pandas-docs/stable/user_guide/indexing.html#returning-a-view-versus-a-copy\n",
      "  \"\"\"Entry point for launching an IPython kernel.\n"
     ]
    }
   ],
   "source": [
    "covid_by_date['exponent_initial_difference'] =  covid_by_date['Recovered'].values - covid_by_date['exp_smoothing_05'].values"
   ]
  },
  {
   "cell_type": "code",
   "execution_count": 27,
   "metadata": {},
   "outputs": [
    {
     "data": {
      "text/html": [
       "<div>\n",
       "<style scoped>\n",
       "    .dataframe tbody tr th:only-of-type {\n",
       "        vertical-align: middle;\n",
       "    }\n",
       "\n",
       "    .dataframe tbody tr th {\n",
       "        vertical-align: top;\n",
       "    }\n",
       "\n",
       "    .dataframe thead th {\n",
       "        text-align: right;\n",
       "    }\n",
       "</style>\n",
       "<table border=\"1\" class=\"dataframe\">\n",
       "  <thead>\n",
       "    <tr style=\"text-align: right;\">\n",
       "      <th></th>\n",
       "      <th>Confirmed</th>\n",
       "      <th>Deaths</th>\n",
       "      <th>Recovered</th>\n",
       "      <th>Logarithm</th>\n",
       "      <th>smoothing_win5</th>\n",
       "      <th>first_ord_differ</th>\n",
       "      <th>Deriv_1</th>\n",
       "      <th>exp_smoothing_05</th>\n",
       "      <th>exponent_initial_difference</th>\n",
       "    </tr>\n",
       "    <tr>\n",
       "      <th>Date</th>\n",
       "      <th></th>\n",
       "      <th></th>\n",
       "      <th></th>\n",
       "      <th></th>\n",
       "      <th></th>\n",
       "      <th></th>\n",
       "      <th></th>\n",
       "      <th></th>\n",
       "      <th></th>\n",
       "    </tr>\n",
       "  </thead>\n",
       "  <tbody>\n",
       "    <tr>\n",
       "      <th>2020-02-14</th>\n",
       "      <td>66887.0</td>\n",
       "      <td>1523.0</td>\n",
       "      <td>8058.0</td>\n",
       "      <td>8.994421</td>\n",
       "      <td>8058.0</td>\n",
       "      <td>0.0</td>\n",
       "      <td>0.0</td>\n",
       "      <td>8058.00</td>\n",
       "      <td>0.00</td>\n",
       "    </tr>\n",
       "    <tr>\n",
       "      <th>2020-02-15</th>\n",
       "      <td>69032.0</td>\n",
       "      <td>1666.0</td>\n",
       "      <td>9395.0</td>\n",
       "      <td>9.147933</td>\n",
       "      <td>9395.0</td>\n",
       "      <td>1337.0</td>\n",
       "      <td>1337.0</td>\n",
       "      <td>8726.50</td>\n",
       "      <td>668.50</td>\n",
       "    </tr>\n",
       "    <tr>\n",
       "      <th>2020-02-16</th>\n",
       "      <td>71226.0</td>\n",
       "      <td>1770.0</td>\n",
       "      <td>10865.0</td>\n",
       "      <td>9.293302</td>\n",
       "      <td>10865.0</td>\n",
       "      <td>1470.0</td>\n",
       "      <td>1470.0</td>\n",
       "      <td>9795.75</td>\n",
       "      <td>1069.25</td>\n",
       "    </tr>\n",
       "  </tbody>\n",
       "</table>\n",
       "</div>"
      ],
      "text/plain": [
       "            Confirmed  Deaths  Recovered  Logarithm  smoothing_win5  \\\n",
       "Date                                                                  \n",
       "2020-02-14    66887.0  1523.0     8058.0   8.994421          8058.0   \n",
       "2020-02-15    69032.0  1666.0     9395.0   9.147933          9395.0   \n",
       "2020-02-16    71226.0  1770.0    10865.0   9.293302         10865.0   \n",
       "\n",
       "            first_ord_differ  Deriv_1  exp_smoothing_05  \\\n",
       "Date                                                      \n",
       "2020-02-14               0.0      0.0           8058.00   \n",
       "2020-02-15            1337.0   1337.0           8726.50   \n",
       "2020-02-16            1470.0   1470.0           9795.75   \n",
       "\n",
       "            exponent_initial_difference  \n",
       "Date                                     \n",
       "2020-02-14                         0.00  \n",
       "2020-02-15                       668.50  \n",
       "2020-02-16                      1069.25  "
      ]
     },
     "execution_count": 27,
     "metadata": {},
     "output_type": "execute_result"
    }
   ],
   "source": [
    "covid_by_date.head(3)"
   ]
  },
  {
   "cell_type": "code",
   "execution_count": 28,
   "metadata": {},
   "outputs": [
    {
     "name": "stdout",
     "output_type": "stream",
     "text": [
      "<class 'pandas.core.frame.DataFrame'>\n",
      "DatetimeIndex: 63 entries, 2020-02-14 to 2020-04-16\n",
      "Data columns (total 9 columns):\n",
      "Confirmed                      63 non-null float64\n",
      "Deaths                         63 non-null float64\n",
      "Recovered                      63 non-null float64\n",
      "Logarithm                      63 non-null float64\n",
      "smoothing_win5                 63 non-null float64\n",
      "first_ord_differ               63 non-null float64\n",
      "Deriv_1                        63 non-null float64\n",
      "exp_smoothing_05               63 non-null float64\n",
      "exponent_initial_difference    63 non-null float64\n",
      "dtypes: float64(9)\n",
      "memory usage: 7.4 KB\n"
     ]
    }
   ],
   "source": [
    "covid_by_date.info()"
   ]
  },
  {
   "cell_type": "markdown",
   "metadata": {},
   "source": [
    "*prediction horizon = 1, history depth = 3*"
   ]
  },
  {
   "cell_type": "code",
   "execution_count": 29,
   "metadata": {},
   "outputs": [],
   "source": [
    "p= 1\n",
    "h= 3"
   ]
  },
  {
   "cell_type": "markdown",
   "metadata": {},
   "source": [
    "**creating history dataframe**"
   ]
  },
  {
   "cell_type": "code",
   "execution_count": 30,
   "metadata": {},
   "outputs": [],
   "source": [
    "covid_history = pd.concat([covid_by_date.loc[:, 'Recovered'] ,covid_by_date.shift(periods=1), covid_by_date.shift(periods=2),\n",
    "                             covid_by_date.shift(periods=3),covid_by_date.shift(periods=4)], axis=1)\n",
    "covid_history = covid_history.fillna(0)"
   ]
  },
  {
   "cell_type": "code",
   "execution_count": 31,
   "metadata": {},
   "outputs": [],
   "source": [
    "from sklearn.ensemble import GradientBoostingRegressor\n",
    "\n",
    "#from sklearn.metrics import mean_absolute_error, mean_squared_error, median_absolute_error, r2_score"
   ]
  },
  {
   "cell_type": "code",
   "execution_count": 32,
   "metadata": {},
   "outputs": [],
   "source": [
    "# сделаем примеры и модель \n",
    "def split_data_b( data, split_date ):\n",
    "    return data.loc[data.index <= split_date].copy(), data.loc[data.index >  split_date].copy()\n"
   ]
  },
  {
   "cell_type": "code",
   "execution_count": 33,
   "metadata": {},
   "outputs": [],
   "source": [
    "#target => target column before making history dataframe = +1 to the first set of columns of history dataframe\n",
    "y = covid_history.iloc[:,0]"
   ]
  },
  {
   "cell_type": "code",
   "execution_count": 34,
   "metadata": {},
   "outputs": [],
   "source": [
    "# features => history dataframe (-1, -2, -3 to predicted)\n",
    "#x = covid_history.iloc[h+p:, :]"
   ]
  },
  {
   "cell_type": "code",
   "execution_count": 35,
   "metadata": {},
   "outputs": [],
   "source": [
    "y_tr, y_te = split_data_b(y, '2020-03-15')"
   ]
  },
  {
   "cell_type": "code",
   "execution_count": 36,
   "metadata": {},
   "outputs": [],
   "source": [
    "y_train = y_tr.iloc[p:]\n",
    "y_test = y_te.iloc[p:]"
   ]
  },
  {
   "cell_type": "code",
   "execution_count": null,
   "metadata": {},
   "outputs": [],
   "source": []
  },
  {
   "cell_type": "code",
   "execution_count": 37,
   "metadata": {},
   "outputs": [],
   "source": [
    "x_tr, x_te = split_data_b(covid_history, '2020-03-15')"
   ]
  },
  {
   "cell_type": "code",
   "execution_count": 38,
   "metadata": {},
   "outputs": [],
   "source": [
    "x_train_history = x_tr.iloc[:-p,:]\n",
    "x_test_history = x_te.iloc[:-p,:]"
   ]
  },
  {
   "cell_type": "code",
   "execution_count": 39,
   "metadata": {},
   "outputs": [
    {
     "data": {
      "text/plain": [
       "Date\n",
       "2020-02-15     9395.0\n",
       "2020-02-16    10865.0\n",
       "2020-02-17    12583.0\n",
       "Name: Recovered, dtype: float64"
      ]
     },
     "execution_count": 39,
     "metadata": {},
     "output_type": "execute_result"
    }
   ],
   "source": [
    "y_train.head(3)"
   ]
  },
  {
   "cell_type": "code",
   "execution_count": 40,
   "metadata": {},
   "outputs": [
    {
     "data": {
      "text/plain": [
       "Date\n",
       "2020-03-17    80840.0\n",
       "2020-03-18    83313.0\n",
       "2020-03-19    84962.0\n",
       "Name: Recovered, dtype: float64"
      ]
     },
     "execution_count": 40,
     "metadata": {},
     "output_type": "execute_result"
    }
   ],
   "source": [
    "y_test.head(3)"
   ]
  },
  {
   "cell_type": "code",
   "execution_count": 41,
   "metadata": {},
   "outputs": [
    {
     "data": {
      "text/html": [
       "<div>\n",
       "<style scoped>\n",
       "    .dataframe tbody tr th:only-of-type {\n",
       "        vertical-align: middle;\n",
       "    }\n",
       "\n",
       "    .dataframe tbody tr th {\n",
       "        vertical-align: top;\n",
       "    }\n",
       "\n",
       "    .dataframe thead th {\n",
       "        text-align: right;\n",
       "    }\n",
       "</style>\n",
       "<table border=\"1\" class=\"dataframe\">\n",
       "  <thead>\n",
       "    <tr style=\"text-align: right;\">\n",
       "      <th></th>\n",
       "      <th>Recovered</th>\n",
       "      <th>Confirmed</th>\n",
       "      <th>Deaths</th>\n",
       "      <th>Recovered</th>\n",
       "      <th>Logarithm</th>\n",
       "      <th>smoothing_win5</th>\n",
       "      <th>first_ord_differ</th>\n",
       "      <th>Deriv_1</th>\n",
       "      <th>exp_smoothing_05</th>\n",
       "      <th>exponent_initial_difference</th>\n",
       "      <th>...</th>\n",
       "      <th>exponent_initial_difference</th>\n",
       "      <th>Confirmed</th>\n",
       "      <th>Deaths</th>\n",
       "      <th>Recovered</th>\n",
       "      <th>Logarithm</th>\n",
       "      <th>smoothing_win5</th>\n",
       "      <th>first_ord_differ</th>\n",
       "      <th>Deriv_1</th>\n",
       "      <th>exp_smoothing_05</th>\n",
       "      <th>exponent_initial_difference</th>\n",
       "    </tr>\n",
       "    <tr>\n",
       "      <th>Date</th>\n",
       "      <th></th>\n",
       "      <th></th>\n",
       "      <th></th>\n",
       "      <th></th>\n",
       "      <th></th>\n",
       "      <th></th>\n",
       "      <th></th>\n",
       "      <th></th>\n",
       "      <th></th>\n",
       "      <th></th>\n",
       "      <th></th>\n",
       "      <th></th>\n",
       "      <th></th>\n",
       "      <th></th>\n",
       "      <th></th>\n",
       "      <th></th>\n",
       "      <th></th>\n",
       "      <th></th>\n",
       "      <th></th>\n",
       "      <th></th>\n",
       "      <th></th>\n",
       "    </tr>\n",
       "  </thead>\n",
       "  <tbody>\n",
       "    <tr>\n",
       "      <th>2020-02-14</th>\n",
       "      <td>8058.0</td>\n",
       "      <td>0.0</td>\n",
       "      <td>0.0</td>\n",
       "      <td>0.0</td>\n",
       "      <td>0.000000</td>\n",
       "      <td>0.0</td>\n",
       "      <td>0.0</td>\n",
       "      <td>0.0</td>\n",
       "      <td>0.000</td>\n",
       "      <td>0.000</td>\n",
       "      <td>...</td>\n",
       "      <td>0.0</td>\n",
       "      <td>0.0</td>\n",
       "      <td>0.0</td>\n",
       "      <td>0.0</td>\n",
       "      <td>0.000000</td>\n",
       "      <td>0.0</td>\n",
       "      <td>0.0</td>\n",
       "      <td>0.0</td>\n",
       "      <td>0.0</td>\n",
       "      <td>0.0</td>\n",
       "    </tr>\n",
       "    <tr>\n",
       "      <th>2020-02-15</th>\n",
       "      <td>9395.0</td>\n",
       "      <td>66887.0</td>\n",
       "      <td>1523.0</td>\n",
       "      <td>8058.0</td>\n",
       "      <td>8.994421</td>\n",
       "      <td>8058.0</td>\n",
       "      <td>0.0</td>\n",
       "      <td>0.0</td>\n",
       "      <td>8058.000</td>\n",
       "      <td>0.000</td>\n",
       "      <td>...</td>\n",
       "      <td>0.0</td>\n",
       "      <td>0.0</td>\n",
       "      <td>0.0</td>\n",
       "      <td>0.0</td>\n",
       "      <td>0.000000</td>\n",
       "      <td>0.0</td>\n",
       "      <td>0.0</td>\n",
       "      <td>0.0</td>\n",
       "      <td>0.0</td>\n",
       "      <td>0.0</td>\n",
       "    </tr>\n",
       "    <tr>\n",
       "      <th>2020-02-16</th>\n",
       "      <td>10865.0</td>\n",
       "      <td>69032.0</td>\n",
       "      <td>1666.0</td>\n",
       "      <td>9395.0</td>\n",
       "      <td>9.147933</td>\n",
       "      <td>9395.0</td>\n",
       "      <td>1337.0</td>\n",
       "      <td>1337.0</td>\n",
       "      <td>8726.500</td>\n",
       "      <td>668.500</td>\n",
       "      <td>...</td>\n",
       "      <td>0.0</td>\n",
       "      <td>0.0</td>\n",
       "      <td>0.0</td>\n",
       "      <td>0.0</td>\n",
       "      <td>0.000000</td>\n",
       "      <td>0.0</td>\n",
       "      <td>0.0</td>\n",
       "      <td>0.0</td>\n",
       "      <td>0.0</td>\n",
       "      <td>0.0</td>\n",
       "    </tr>\n",
       "    <tr>\n",
       "      <th>2020-02-17</th>\n",
       "      <td>12583.0</td>\n",
       "      <td>71226.0</td>\n",
       "      <td>1770.0</td>\n",
       "      <td>10865.0</td>\n",
       "      <td>9.293302</td>\n",
       "      <td>10865.0</td>\n",
       "      <td>1470.0</td>\n",
       "      <td>1470.0</td>\n",
       "      <td>9795.750</td>\n",
       "      <td>1069.250</td>\n",
       "      <td>...</td>\n",
       "      <td>0.0</td>\n",
       "      <td>0.0</td>\n",
       "      <td>0.0</td>\n",
       "      <td>0.0</td>\n",
       "      <td>0.000000</td>\n",
       "      <td>0.0</td>\n",
       "      <td>0.0</td>\n",
       "      <td>0.0</td>\n",
       "      <td>0.0</td>\n",
       "      <td>0.0</td>\n",
       "    </tr>\n",
       "    <tr>\n",
       "      <th>2020-02-18</th>\n",
       "      <td>14352.0</td>\n",
       "      <td>73260.0</td>\n",
       "      <td>1868.0</td>\n",
       "      <td>12583.0</td>\n",
       "      <td>9.440102</td>\n",
       "      <td>12583.0</td>\n",
       "      <td>1718.0</td>\n",
       "      <td>1718.0</td>\n",
       "      <td>11189.375</td>\n",
       "      <td>1393.625</td>\n",
       "      <td>...</td>\n",
       "      <td>668.5</td>\n",
       "      <td>66887.0</td>\n",
       "      <td>1523.0</td>\n",
       "      <td>8058.0</td>\n",
       "      <td>8.994421</td>\n",
       "      <td>8058.0</td>\n",
       "      <td>0.0</td>\n",
       "      <td>0.0</td>\n",
       "      <td>8058.0</td>\n",
       "      <td>0.0</td>\n",
       "    </tr>\n",
       "  </tbody>\n",
       "</table>\n",
       "<p>5 rows × 37 columns</p>\n",
       "</div>"
      ],
      "text/plain": [
       "            Recovered  Confirmed  Deaths  Recovered  Logarithm  \\\n",
       "Date                                                             \n",
       "2020-02-14     8058.0        0.0     0.0        0.0   0.000000   \n",
       "2020-02-15     9395.0    66887.0  1523.0     8058.0   8.994421   \n",
       "2020-02-16    10865.0    69032.0  1666.0     9395.0   9.147933   \n",
       "2020-02-17    12583.0    71226.0  1770.0    10865.0   9.293302   \n",
       "2020-02-18    14352.0    73260.0  1868.0    12583.0   9.440102   \n",
       "\n",
       "            smoothing_win5  first_ord_differ  Deriv_1  exp_smoothing_05  \\\n",
       "Date                                                                      \n",
       "2020-02-14             0.0               0.0      0.0             0.000   \n",
       "2020-02-15          8058.0               0.0      0.0          8058.000   \n",
       "2020-02-16          9395.0            1337.0   1337.0          8726.500   \n",
       "2020-02-17         10865.0            1470.0   1470.0          9795.750   \n",
       "2020-02-18         12583.0            1718.0   1718.0         11189.375   \n",
       "\n",
       "            exponent_initial_difference  ...  exponent_initial_difference  \\\n",
       "Date                                     ...                                \n",
       "2020-02-14                        0.000  ...                          0.0   \n",
       "2020-02-15                        0.000  ...                          0.0   \n",
       "2020-02-16                      668.500  ...                          0.0   \n",
       "2020-02-17                     1069.250  ...                          0.0   \n",
       "2020-02-18                     1393.625  ...                        668.5   \n",
       "\n",
       "            Confirmed  Deaths  Recovered  Logarithm  smoothing_win5  \\\n",
       "Date                                                                  \n",
       "2020-02-14        0.0     0.0        0.0   0.000000             0.0   \n",
       "2020-02-15        0.0     0.0        0.0   0.000000             0.0   \n",
       "2020-02-16        0.0     0.0        0.0   0.000000             0.0   \n",
       "2020-02-17        0.0     0.0        0.0   0.000000             0.0   \n",
       "2020-02-18    66887.0  1523.0     8058.0   8.994421          8058.0   \n",
       "\n",
       "            first_ord_differ  Deriv_1  exp_smoothing_05  \\\n",
       "Date                                                      \n",
       "2020-02-14               0.0      0.0               0.0   \n",
       "2020-02-15               0.0      0.0               0.0   \n",
       "2020-02-16               0.0      0.0               0.0   \n",
       "2020-02-17               0.0      0.0               0.0   \n",
       "2020-02-18               0.0      0.0            8058.0   \n",
       "\n",
       "            exponent_initial_difference  \n",
       "Date                                     \n",
       "2020-02-14                          0.0  \n",
       "2020-02-15                          0.0  \n",
       "2020-02-16                          0.0  \n",
       "2020-02-17                          0.0  \n",
       "2020-02-18                          0.0  \n",
       "\n",
       "[5 rows x 37 columns]"
      ]
     },
     "execution_count": 41,
     "metadata": {},
     "output_type": "execute_result"
    }
   ],
   "source": [
    "x_train_history.head(5)"
   ]
  },
  {
   "cell_type": "code",
   "execution_count": 42,
   "metadata": {},
   "outputs": [
    {
     "data": {
      "text/html": [
       "<div>\n",
       "<style scoped>\n",
       "    .dataframe tbody tr th:only-of-type {\n",
       "        vertical-align: middle;\n",
       "    }\n",
       "\n",
       "    .dataframe tbody tr th {\n",
       "        vertical-align: top;\n",
       "    }\n",
       "\n",
       "    .dataframe thead th {\n",
       "        text-align: right;\n",
       "    }\n",
       "</style>\n",
       "<table border=\"1\" class=\"dataframe\">\n",
       "  <thead>\n",
       "    <tr style=\"text-align: right;\">\n",
       "      <th></th>\n",
       "      <th>Recovered</th>\n",
       "      <th>Confirmed</th>\n",
       "      <th>Deaths</th>\n",
       "      <th>Recovered</th>\n",
       "      <th>Logarithm</th>\n",
       "      <th>smoothing_win5</th>\n",
       "      <th>first_ord_differ</th>\n",
       "      <th>Deriv_1</th>\n",
       "      <th>exp_smoothing_05</th>\n",
       "      <th>exponent_initial_difference</th>\n",
       "      <th>...</th>\n",
       "      <th>exponent_initial_difference</th>\n",
       "      <th>Confirmed</th>\n",
       "      <th>Deaths</th>\n",
       "      <th>Recovered</th>\n",
       "      <th>Logarithm</th>\n",
       "      <th>smoothing_win5</th>\n",
       "      <th>first_ord_differ</th>\n",
       "      <th>Deriv_1</th>\n",
       "      <th>exp_smoothing_05</th>\n",
       "      <th>exponent_initial_difference</th>\n",
       "    </tr>\n",
       "    <tr>\n",
       "      <th>Date</th>\n",
       "      <th></th>\n",
       "      <th></th>\n",
       "      <th></th>\n",
       "      <th></th>\n",
       "      <th></th>\n",
       "      <th></th>\n",
       "      <th></th>\n",
       "      <th></th>\n",
       "      <th></th>\n",
       "      <th></th>\n",
       "      <th></th>\n",
       "      <th></th>\n",
       "      <th></th>\n",
       "      <th></th>\n",
       "      <th></th>\n",
       "      <th></th>\n",
       "      <th></th>\n",
       "      <th></th>\n",
       "      <th></th>\n",
       "      <th></th>\n",
       "      <th></th>\n",
       "    </tr>\n",
       "  </thead>\n",
       "  <tbody>\n",
       "    <tr>\n",
       "      <th>2020-03-16</th>\n",
       "      <td>78088.0</td>\n",
       "      <td>167447.0</td>\n",
       "      <td>6440.0</td>\n",
       "      <td>76034.0</td>\n",
       "      <td>11.238936</td>\n",
       "      <td>70847.2</td>\n",
       "      <td>3410.0</td>\n",
       "      <td>3410.0</td>\n",
       "      <td>73268.641434</td>\n",
       "      <td>2765.358566</td>\n",
       "      <td>...</td>\n",
       "      <td>1868.434266</td>\n",
       "      <td>128343.0</td>\n",
       "      <td>4720.0</td>\n",
       "      <td>68324.0</td>\n",
       "      <td>11.132016</td>\n",
       "      <td>64587.6</td>\n",
       "      <td>1321.0</td>\n",
       "      <td>1321.0</td>\n",
       "      <td>66514.131468</td>\n",
       "      <td>1809.868532</td>\n",
       "    </tr>\n",
       "    <tr>\n",
       "      <th>2020-03-17</th>\n",
       "      <td>80840.0</td>\n",
       "      <td>181546.0</td>\n",
       "      <td>7126.0</td>\n",
       "      <td>78088.0</td>\n",
       "      <td>11.265592</td>\n",
       "      <td>73064.2</td>\n",
       "      <td>2054.0</td>\n",
       "      <td>2054.0</td>\n",
       "      <td>75678.320717</td>\n",
       "      <td>2409.679283</td>\n",
       "      <td>...</td>\n",
       "      <td>2120.717133</td>\n",
       "      <td>145193.0</td>\n",
       "      <td>5404.0</td>\n",
       "      <td>70251.0</td>\n",
       "      <td>11.159830</td>\n",
       "      <td>66498.8</td>\n",
       "      <td>1927.0</td>\n",
       "      <td>1927.0</td>\n",
       "      <td>68382.565734</td>\n",
       "      <td>1868.434266</td>\n",
       "    </tr>\n",
       "    <tr>\n",
       "      <th>2020-03-18</th>\n",
       "      <td>83313.0</td>\n",
       "      <td>197168.0</td>\n",
       "      <td>7905.0</td>\n",
       "      <td>80840.0</td>\n",
       "      <td>11.300227</td>\n",
       "      <td>75567.4</td>\n",
       "      <td>2752.0</td>\n",
       "      <td>2752.0</td>\n",
       "      <td>78259.160358</td>\n",
       "      <td>2580.839642</td>\n",
       "      <td>...</td>\n",
       "      <td>2765.358566</td>\n",
       "      <td>156099.0</td>\n",
       "      <td>5819.0</td>\n",
       "      <td>72624.0</td>\n",
       "      <td>11.193051</td>\n",
       "      <td>68521.2</td>\n",
       "      <td>2373.0</td>\n",
       "      <td>2373.0</td>\n",
       "      <td>70503.282867</td>\n",
       "      <td>2120.717133</td>\n",
       "    </tr>\n",
       "  </tbody>\n",
       "</table>\n",
       "<p>3 rows × 37 columns</p>\n",
       "</div>"
      ],
      "text/plain": [
       "            Recovered  Confirmed  Deaths  Recovered  Logarithm  \\\n",
       "Date                                                             \n",
       "2020-03-16    78088.0   167447.0  6440.0    76034.0  11.238936   \n",
       "2020-03-17    80840.0   181546.0  7126.0    78088.0  11.265592   \n",
       "2020-03-18    83313.0   197168.0  7905.0    80840.0  11.300227   \n",
       "\n",
       "            smoothing_win5  first_ord_differ  Deriv_1  exp_smoothing_05  \\\n",
       "Date                                                                      \n",
       "2020-03-16         70847.2            3410.0   3410.0      73268.641434   \n",
       "2020-03-17         73064.2            2054.0   2054.0      75678.320717   \n",
       "2020-03-18         75567.4            2752.0   2752.0      78259.160358   \n",
       "\n",
       "            exponent_initial_difference  ...  exponent_initial_difference  \\\n",
       "Date                                     ...                                \n",
       "2020-03-16                  2765.358566  ...                  1868.434266   \n",
       "2020-03-17                  2409.679283  ...                  2120.717133   \n",
       "2020-03-18                  2580.839642  ...                  2765.358566   \n",
       "\n",
       "            Confirmed  Deaths  Recovered  Logarithm  smoothing_win5  \\\n",
       "Date                                                                  \n",
       "2020-03-16   128343.0  4720.0    68324.0  11.132016         64587.6   \n",
       "2020-03-17   145193.0  5404.0    70251.0  11.159830         66498.8   \n",
       "2020-03-18   156099.0  5819.0    72624.0  11.193051         68521.2   \n",
       "\n",
       "            first_ord_differ  Deriv_1  exp_smoothing_05  \\\n",
       "Date                                                      \n",
       "2020-03-16            1321.0   1321.0      66514.131468   \n",
       "2020-03-17            1927.0   1927.0      68382.565734   \n",
       "2020-03-18            2373.0   2373.0      70503.282867   \n",
       "\n",
       "            exponent_initial_difference  \n",
       "Date                                     \n",
       "2020-03-16                  1809.868532  \n",
       "2020-03-17                  1868.434266  \n",
       "2020-03-18                  2120.717133  \n",
       "\n",
       "[3 rows x 37 columns]"
      ]
     },
     "execution_count": 42,
     "metadata": {},
     "output_type": "execute_result"
    }
   ],
   "source": [
    "x_test_history.head(3)"
   ]
  },
  {
   "cell_type": "code",
   "execution_count": 43,
   "metadata": {},
   "outputs": [],
   "source": [
    "target = ['Recovered']"
   ]
  },
  {
   "cell_type": "code",
   "execution_count": 44,
   "metadata": {},
   "outputs": [],
   "source": [
    "#different sets of features for different models\n",
    "first_diff = x_train_history.columns[[2,5, 2+len(covid_by_date.columns), 5+len(covid_by_date.columns) ,\n",
    "                                      2+len(covid_by_date.columns)*2, 5+len(covid_by_date.columns)*2]]\n",
    "exponent = x_train_history.columns[[2,7, 2+len(covid_by_date.columns), 7+len(covid_by_date.columns) ,\n",
    "                                    2+len(covid_by_date.columns)*2, 7+len(covid_by_date.columns)*2]]\n",
    "logarithm = x_train_history.columns[[2,3, 2+len(covid_by_date.columns), 3+len(covid_by_date.columns) ,\n",
    "                                     2+len(covid_by_date.columns)*2, 3+len(covid_by_date.columns)*2]]\n",
    "all_features = x_train_history.columns\n",
    "my_features = x_train_history.columns[[2, 3, 6, 2+len(covid_by_date.columns), 3+len(covid_by_date.columns),\n",
    "                                       6+len(covid_by_date.columns), 2+len(covid_by_date.columns)*2,\n",
    "                                     3+len(covid_by_date.columns)*2, 6+len(covid_by_date.columns)*2]]\n",
    "cut_features = x_train_history.columns[[3, 6, 2+len(covid_by_date.columns), 3+len(covid_by_date.columns),\n",
    "                                       6+len(covid_by_date.columns), 2+len(covid_by_date.columns)*2,\n",
    "                                     3+len(covid_by_date.columns)*2, 6+len(covid_by_date.columns)*2]]"
   ]
  },
  {
   "cell_type": "code",
   "execution_count": 45,
   "metadata": {},
   "outputs": [],
   "source": [
    "model_gb = GradientBoostingRegressor(max_depth=5, random_state=42, n_estimators=20)\n"
   ]
  },
  {
   "cell_type": "code",
   "execution_count": 46,
   "metadata": {},
   "outputs": [],
   "source": [
    "#first_diff\n",
    "model_gb.fit(x_train_history.loc[:, first_diff], y_train) \n",
    "X_tr_fd = model_gb.predict(x_train_history.loc[:, first_diff])\n",
    "X_pred_fd = model_gb.predict(x_test_history.loc[:, first_diff])"
   ]
  },
  {
   "cell_type": "code",
   "execution_count": 47,
   "metadata": {},
   "outputs": [],
   "source": [
    "#exponent \n",
    "model_gb.fit(x_train_history.loc[:, exponent], y_train) \n",
    "X_tr_exp = model_gb.predict(x_train_history.loc[:, exponent])\n",
    "X_pred_exp = model_gb.predict(x_test_history.loc[:, exponent])"
   ]
  },
  {
   "cell_type": "code",
   "execution_count": 48,
   "metadata": {},
   "outputs": [],
   "source": [
    "#logarithm\n",
    "model_gb.fit(x_train_history.loc[:, logarithm], y_train) \n",
    "X_tr_log = model_gb.predict(x_train_history.loc[:, logarithm])\n",
    "X_pred_log = model_gb.predict(x_test_history.loc[:, logarithm])"
   ]
  },
  {
   "cell_type": "code",
   "execution_count": 49,
   "metadata": {},
   "outputs": [],
   "source": [
    "#all_features \n",
    "model_gb.fit(x_train_history.loc[:, all_features], y_train) \n",
    "X_tr_all = model_gb.predict(x_train_history.loc[:, all_features])\n",
    "X_pred_all = model_gb.predict(x_test_history.loc[:, all_features])"
   ]
  },
  {
   "cell_type": "code",
   "execution_count": 50,
   "metadata": {},
   "outputs": [],
   "source": [
    "#my_features\n",
    "model_gb.fit(x_train_history.loc[:,my_features], y_train)\n",
    "X_tr_mf = model_gb.predict(x_train_history.loc[:, my_features])\n",
    "X_pred_mf = model_gb.predict(x_test_history.loc[:, my_features])"
   ]
  },
  {
   "cell_type": "code",
   "execution_count": 51,
   "metadata": {},
   "outputs": [],
   "source": [
    "#cut_features\n",
    "model_gb.fit(x_train_history.loc[:,cut_features], y_train)\n",
    "X_tr_cutf = model_gb.predict(x_train_history.loc[:, cut_features])\n",
    "X_pred_cutf = model_gb.predict(x_test_history.loc[:, cut_features])"
   ]
  },
  {
   "cell_type": "code",
   "execution_count": 52,
   "metadata": {},
   "outputs": [
    {
     "data": {
      "text/plain": [
       "Text(0.5, 1.0, 'logarithm')"
      ]
     },
     "execution_count": 52,
     "metadata": {},
     "output_type": "execute_result"
    },
    {
     "data": {
      "image/png": "[encoded data removed]",
      "text/plain": [
       "<Figure size 1440x432 with 3 Axes>"
      ]
     },
     "metadata": {
      "needs_background": "light"
     },
     "output_type": "display_data"
    }
   ],
   "source": [
    "plt.figure(figsize = (20, 6))\n",
    "\n",
    "#first_diff\n",
    "#X_pred_fd \n",
    "plt.subplot(1,3,1)\n",
    "plt.plot(x_train_history.index, X_tr_fd, label='predict data' )\n",
    "plt.plot(x_train_history.index, y_train, label='train data')\n",
    "plt.xticks(rotation=90)\n",
    "plt.legend()\n",
    "plt.xticks(rotation=90)\n",
    "plt.title(f'first_diff')\n",
    "\n",
    "#exponent \n",
    "#X_pred_exp \n",
    "plt.subplot(1,3,2)\n",
    "plt.plot(x_train_history.index, X_tr_exp, label='predict data' )\n",
    "plt.plot(x_train_history.index, y_train, label='train data')\n",
    "plt.xticks(rotation=90)\n",
    "plt.legend()\n",
    "plt.xticks(rotation=90)\n",
    "plt.title(f'exponent')\n",
    "\n",
    "#logarithm\n",
    " \n",
    "#X_pred_log \n",
    "plt.subplot(1,3,3)\n",
    "plt.plot(x_train_history.index, X_tr_log, label='predict data' )\n",
    "plt.plot(x_train_history.index, y_train, label='train data')\n",
    "plt.xticks(rotation=90)\n",
    "plt.legend()\n",
    "plt.xticks(rotation=90)\n",
    "plt.title(f'logarithm')\n"
   ]
  },
  {
   "cell_type": "code",
   "execution_count": 53,
   "metadata": {},
   "outputs": [
    {
     "data": {
      "text/plain": [
       "Text(0.5, 1.0, 'cut_features')"
      ]
     },
     "execution_count": 53,
     "metadata": {},
     "output_type": "execute_result"
    },
    {
     "data": {
      "image/png": "[encoded data removed]",
      "text/plain": [
       "<Figure size 1440x432 with 3 Axes>"
      ]
     },
     "metadata": {
      "needs_background": "light"
     },
     "output_type": "display_data"
    }
   ],
   "source": [
    "plt.figure(figsize = (20, 6))\n",
    "\n",
    "#all_features \n",
    "plt.subplot(1,3,1)\n",
    "plt.plot(x_train_history.index, X_tr_all, label='predict data' )\n",
    "plt.plot(x_train_history.index, y_train, label='train data')\n",
    "plt.xticks(rotation=90)\n",
    "plt.legend()\n",
    "plt.xticks(rotation=90)\n",
    "plt.title(f'all_features')\n",
    "\n",
    "#my_features\n",
    "plt.subplot(1,3,2)\n",
    "plt.plot(x_train_history.index, X_tr_mf, label='predict data' )\n",
    "plt.plot(x_train_history.index, y_train, label='train data')\n",
    "plt.xticks(rotation=90)\n",
    "plt.legend()\n",
    "plt.xticks(rotation=90)\n",
    "plt.title(f'my_features')\n",
    "\n",
    "#cut_features\n",
    "\n",
    "plt.subplot(1,3,3)\n",
    "plt.plot(x_train_history.index, X_tr_cutf, label='predict data' )\n",
    "plt.plot(x_train_history.index, y_train, label='train data')\n",
    "plt.xticks(rotation=90)\n",
    "plt.legend()\n",
    "plt.xticks(rotation=90)\n",
    "plt.title(f'cut_features')"
   ]
  },
  {
   "cell_type": "code",
   "execution_count": 54,
   "metadata": {},
   "outputs": [
    {
     "data": {
      "text/plain": [
       "Text(0.5, 1.0, 'logarithm')"
      ]
     },
     "execution_count": 54,
     "metadata": {},
     "output_type": "execute_result"
    },
    {
     "data": {
      "image/png": "[encoded data removed]",
      "text/plain": [
       "<Figure size 1440x432 with 3 Axes>"
      ]
     },
     "metadata": {
      "needs_background": "light"
     },
     "output_type": "display_data"
    }
   ],
   "source": [
    "plt.figure(figsize = (20, 6))\n",
    "\n",
    "#first_diff\n",
    "plt.subplot(1,3,1)\n",
    "plt.plot(x_test_history.index, X_pred_fd , label='predict data' )\n",
    "plt.plot(x_test_history.index, y_test, label='test data')\n",
    "plt.legend()\n",
    "plt.xticks(rotation=90)\n",
    "plt.title(f'first_diff')\n",
    "\n",
    "#exponent \n",
    "plt.subplot(1,3,2)\n",
    "plt.plot(x_test_history.index, X_pred_exp, label='predict data' )\n",
    "plt.plot(x_test_history.index, y_test, label='test data')\n",
    "plt.legend()\n",
    "plt.xticks(rotation=90)\n",
    "plt.title(f'exponent')\n",
    "\n",
    "#logarithm\n",
    "plt.subplot(1,3,3)\n",
    "plt.plot(x_test_history.index, X_pred_log, label='predict data' )\n",
    "plt.plot(x_test_history.index, y_test, label='test data')\n",
    "plt.legend()\n",
    "plt.xticks(rotation=90)\n",
    "plt.title(f'logarithm')\n"
   ]
  },
  {
   "cell_type": "code",
   "execution_count": 55,
   "metadata": {},
   "outputs": [
    {
     "data": {
      "text/plain": [
       "Text(0.5, 1.0, 'cut_features')"
      ]
     },
     "execution_count": 55,
     "metadata": {},
     "output_type": "execute_result"
    },
    {
     "data": {
      "image/png": "[encoded data removed]",
      "text/plain": [
       "<Figure size 1440x432 with 3 Axes>"
      ]
     },
     "metadata": {
      "needs_background": "light"
     },
     "output_type": "display_data"
    }
   ],
   "source": [
    "plt.figure(figsize = (20, 6))\n",
    "#all_features \n",
    "plt.subplot(1,3,1)\n",
    "plt.plot(x_test_history.index, X_pred_all, label='predict data' )\n",
    "plt.plot(x_test_history.index, y_test, label='test data')\n",
    "plt.legend()\n",
    "plt.xticks(rotation=90)\n",
    "plt.title(f'all_features')\n",
    "#my_features\n",
    "plt.subplot(1,3,2)\n",
    "plt.plot(x_test_history.index, X_pred_mf, label='predict data' )\n",
    "plt.plot(x_test_history.index, y_test, label='test data')\n",
    "plt.legend()\n",
    "plt.xticks(rotation=90)\n",
    "plt.title(f'my_features')\n",
    "#cut_features\n",
    "plt.subplot(1,3,3)\n",
    "plt.plot(x_test_history.index, X_pred_cutf, label='predict data' )\n",
    "plt.plot(x_test_history.index, y_test, label='test data')\n",
    "plt.xticks(rotation=90)\n",
    "plt.legend()\n",
    "plt.title(f'cut_features')"
   ]
  },
  {
   "cell_type": "code",
   "execution_count": null,
   "metadata": {},
   "outputs": [],
   "source": []
  },
  {
   "cell_type": "markdown",
   "metadata": {},
   "source": [
    "**2. Оцените ошибку модели из п.1 .**"
   ]
  },
  {
   "cell_type": "code",
   "execution_count": 56,
   "metadata": {},
   "outputs": [],
   "source": [
    "def mean_absolute_percentage_error(y_true, y_pred): \n",
    "    y_true, y_pred = np.array(y_true), np.array(y_pred)\n",
    "    return np.mean(np.abs((y_true - y_pred) / y_true)) * 100"
   ]
  },
  {
   "cell_type": "code",
   "execution_count": 57,
   "metadata": {},
   "outputs": [
    {
     "data": {
      "text/plain": [
       "58.658405899077174"
      ]
     },
     "execution_count": 57,
     "metadata": {},
     "output_type": "execute_result"
    }
   ],
   "source": [
    "mean_absolute_percentage_error(y_test, X_pred_mf)"
   ]
  },
  {
   "cell_type": "markdown",
   "metadata": {},
   "source": [
    "**3. Сделайте вывод о том, как изменилась ошибка модели по значениям h.**"
   ]
  },
  {
   "cell_type": "markdown",
   "metadata": {},
   "source": [
    "**4. Попробуйте предположить характер ряда** (стационарный или нет, с трендом, с сезоном, с циклом) для рядов из списка и аргументируйте свой ответ (одна строка):\n",
    "\n",
    "а) Изменение температуры за окном :).\n",
    "\n",
    "б) Количество денег, которые тратят покупатели в интернет магазине.\n",
    "\n",
    "в) Вес растущего котенка.\n",
    "\n",
    "г) Прирост объема деревьев в лесу от времени"
   ]
  },
  {
   "cell_type": "code",
   "execution_count": null,
   "metadata": {},
   "outputs": [],
   "source": []
  },
  {
   "cell_type": "code",
   "execution_count": null,
   "metadata": {},
   "outputs": [],
   "source": []
  },
  {
   "cell_type": "code",
   "execution_count": null,
   "metadata": {},
   "outputs": [],
   "source": []
  },
  {
   "cell_type": "code",
   "execution_count": null,
   "metadata": {},
   "outputs": [],
   "source": []
  },
  {
   "cell_type": "code",
   "execution_count": null,
   "metadata": {},
   "outputs": [],
   "source": []
  }
 ],
 "metadata": {
  "kernelspec": {
   "display_name": "Python 3",
   "language": "python",
   "name": "python3"
  },
  "language_info": {
   "codemirror_mode": {
    "name": "ipython",
    "version": 3
   },
   "file_extension": ".py",
   "mimetype": "text/x-python",
   "name": "python",
   "nbconvert_exporter": "python",
   "pygments_lexer": "ipython3",
   "version": "3.7.1"
  }
 },
 "nbformat": 4,
 "nbformat_minor": 2
}
