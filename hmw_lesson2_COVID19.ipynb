{
 "cells": [
  {
   "cell_type": "markdown",
   "metadata": {},
   "source": [
    "**1. Прочитайте базу \"COVID_19_data\"** и сделайте модель для сглаженой формы(экспоненциально) по приросту(первые разности) ил по прямому ряду для выздоровлений(или заболеваний) с глубиной прогноза h=1 и h=10 по образцу из примера для обработки ряда \"цена Нефти\" ."
   ]
  },
  {
   "cell_type": "markdown",
   "metadata": {},
   "source": [
    "**2. Оцените ошибку модели из п.1 .**"
   ]
  },
  {
   "cell_type": "markdown",
   "metadata": {},
   "source": [
    "**3. Сделайте вывод о том, как изменилась ошибка модели по значениям h.**"
   ]
  },
  {
   "cell_type": "markdown",
   "metadata": {},
   "source": [
    "**4. Попробуйте предположить характер ряда** (стационарный или нет, с трендом, с сезоном, с циклом) для рядов из списка и аргументируйте свой ответ (одна строка):\n",
    "\n",
    "а) Изменение температуры за окном :).\n",
    "\n",
    "б) Количество денег, которые тратят покупатели в интернет магазине.\n",
    "\n",
    "в) Вес растущего котенка.\n",
    "\n",
    "г) Прирост объема деревьев в лесу от времени"
   ]
  },
  {
   "cell_type": "code",
   "execution_count": 1,
   "metadata": {},
   "outputs": [],
   "source": [
    "import pandas as pd\n",
    "import numpy as np\n",
    "\n",
    "import matplotlib.pyplot as plt"
   ]
  },
  {
   "cell_type": "code",
   "execution_count": 2,
   "metadata": {},
   "outputs": [],
   "source": [
    "import statsmodels.formula.api as smf\n",
    "import statsmodels.tsa.api as smt\n",
    "import statsmodels.api as sm\n",
    "import scipy.stats as scs"
   ]
  },
  {
   "cell_type": "code",
   "execution_count": 3,
   "metadata": {},
   "outputs": [],
   "source": [
    "def exponential_smoothing(series, alpha):\n",
    "    result = [series[0]] # first value is same as series\n",
    "    for n in range(1, len(series)):\n",
    "        result.append(alpha * series[n] + (1 - alpha) * result[n-1])\n",
    "    return result"
   ]
  },
  {
   "cell_type": "code",
   "execution_count": 4,
   "metadata": {},
   "outputs": [],
   "source": [
    "covid = pd.read_csv('D:/AI/Machine learning/novel-corona-virus-2019-dataset/covid_19_data.csv')\n"
   ]
  },
  {
   "cell_type": "code",
   "execution_count": 5,
   "metadata": {},
   "outputs": [
    {
     "data": {
      "text/html": [
       "<div>\n",
       "<style scoped>\n",
       "    .dataframe tbody tr th:only-of-type {\n",
       "        vertical-align: middle;\n",
       "    }\n",
       "\n",
       "    .dataframe tbody tr th {\n",
       "        vertical-align: top;\n",
       "    }\n",
       "\n",
       "    .dataframe thead th {\n",
       "        text-align: right;\n",
       "    }\n",
       "</style>\n",
       "<table border=\"1\" class=\"dataframe\">\n",
       "  <thead>\n",
       "    <tr style=\"text-align: right;\">\n",
       "      <th></th>\n",
       "      <th>SNo</th>\n",
       "      <th>ObservationDate</th>\n",
       "      <th>Province/State</th>\n",
       "      <th>Country/Region</th>\n",
       "      <th>Last Update</th>\n",
       "      <th>Confirmed</th>\n",
       "      <th>Deaths</th>\n",
       "      <th>Recovered</th>\n",
       "    </tr>\n",
       "  </thead>\n",
       "  <tbody>\n",
       "    <tr>\n",
       "      <th>15128</th>\n",
       "      <td>15129</td>\n",
       "      <td>04/14/2020</td>\n",
       "      <td>Yukon</td>\n",
       "      <td>Canada</td>\n",
       "      <td>2020-04-14 23:41:11</td>\n",
       "      <td>8.0</td>\n",
       "      <td>0.0</td>\n",
       "      <td>0.0</td>\n",
       "    </tr>\n",
       "    <tr>\n",
       "      <th>15129</th>\n",
       "      <td>15130</td>\n",
       "      <td>04/14/2020</td>\n",
       "      <td>Yunnan</td>\n",
       "      <td>Mainland China</td>\n",
       "      <td>2020-04-14 23:41:11</td>\n",
       "      <td>184.0</td>\n",
       "      <td>2.0</td>\n",
       "      <td>175.0</td>\n",
       "    </tr>\n",
       "    <tr>\n",
       "      <th>15130</th>\n",
       "      <td>15131</td>\n",
       "      <td>04/14/2020</td>\n",
       "      <td>Zhejiang</td>\n",
       "      <td>Mainland China</td>\n",
       "      <td>2020-04-14 23:41:11</td>\n",
       "      <td>1267.0</td>\n",
       "      <td>1.0</td>\n",
       "      <td>1242.0</td>\n",
       "    </tr>\n",
       "  </tbody>\n",
       "</table>\n",
       "</div>"
      ],
      "text/plain": [
       "         SNo ObservationDate Province/State  Country/Region  \\\n",
       "15128  15129      04/14/2020          Yukon          Canada   \n",
       "15129  15130      04/14/2020         Yunnan  Mainland China   \n",
       "15130  15131      04/14/2020       Zhejiang  Mainland China   \n",
       "\n",
       "               Last Update  Confirmed  Deaths  Recovered  \n",
       "15128  2020-04-14 23:41:11        8.0     0.0        0.0  \n",
       "15129  2020-04-14 23:41:11      184.0     2.0      175.0  \n",
       "15130  2020-04-14 23:41:11     1267.0     1.0     1242.0  "
      ]
     },
     "execution_count": 5,
     "metadata": {},
     "output_type": "execute_result"
    }
   ],
   "source": [
    "covid.tail(3)"
   ]
  },
  {
   "cell_type": "markdown",
   "metadata": {},
   "source": [
    "Making a dataframe copy and working with it only\n",
    "Выносим дату отдельным столбцом"
   ]
  },
  {
   "cell_type": "code",
   "execution_count": 6,
   "metadata": {},
   "outputs": [],
   "source": [
    "covid_19 = covid.copy()\n",
    "covid_19['Date']= pd.to_datetime(covid['ObservationDate']).dt.date"
   ]
  },
  {
   "cell_type": "code",
   "execution_count": 7,
   "metadata": {},
   "outputs": [
    {
     "name": "stdout",
     "output_type": "stream",
     "text": [
      "84\n"
     ]
    }
   ],
   "source": [
    "#checking date repeats; finding number of dates\n",
    "if len(covid_19['Date'].value_counts())==covid_19['Date'].nunique():\n",
    "    print(covid_19['Date'].nunique())"
   ]
  },
  {
   "cell_type": "code",
   "execution_count": 8,
   "metadata": {},
   "outputs": [],
   "source": [
    "covid_by_date = covid_19.groupby(['Date'])['Confirmed','Deaths','Recovered'].sum()"
   ]
  },
  {
   "cell_type": "code",
   "execution_count": 9,
   "metadata": {},
   "outputs": [],
   "source": [
    "covid_by_date.index = pd.to_datetime(covid_by_date.index)"
   ]
  },
  {
   "cell_type": "code",
   "execution_count": 10,
   "metadata": {},
   "outputs": [
    {
     "data": {
      "text/plain": [
       "<matplotlib.axes._subplots.AxesSubplot at 0x1d885486978>"
      ]
     },
     "execution_count": 10,
     "metadata": {},
     "output_type": "execute_result"
    },
    {
     "data": {
      "image/png": "[encoded data removed]",
      "text/plain": [
       "<Figure size 432x288 with 1 Axes>"
      ]
     },
     "metadata": {
      "needs_background": "light"
     },
     "output_type": "display_data"
    }
   ],
   "source": [
    "covid_by_date.plot()"
   ]
  },
  {
   "cell_type": "code",
   "execution_count": 11,
   "metadata": {},
   "outputs": [
    {
     "data": {
      "text/plain": [
       "<matplotlib.axes._subplots.AxesSubplot at 0x1d8876f9898>"
      ]
     },
     "execution_count": 11,
     "metadata": {},
     "output_type": "execute_result"
    },
    {
     "data": {
      "image/png": "[encoded data removed]",
      "text/plain": [
       "<Figure size 432x288 with 1 Axes>"
      ]
     },
     "metadata": {
      "needs_background": "light"
     },
     "output_type": "display_data"
    }
   ],
   "source": [
    "covid_by_date['2020-04-02': '2020-04-07'].plot()"
   ]
  },
  {
   "cell_type": "markdown",
   "metadata": {},
   "source": [
    "statsmodels.tsa.stattools.adfuller(x, maxlag=None, regression='c', autolag='AIC', store=False, regresults=False)  \n",
    "maxlag = n, autolag =None  \n",
    "regression{‘c’,’ct’,’ctt’,’nc’}  \n",
    "Constant and trend order to include in regression.  \n",
    "‘c’ : constant only (default).  \n",
    "‘ct’ : constant and trend.  \n",
    "‘ctt’ : constant, and linear and quadratic trend.  \n",
    "‘nc’ : no constant, no trend.  \n",
    "autolag{‘AIC’, ‘BIC’, ‘t-stat’, None}  \n",
    "Method to use when automatically determining the lag.  \n",
    "if None, then maxlag lags are used.  \n",
    "if ‘AIC’ (default) or ‘BIC’, then the number of lags is chosen to minimize the corresponding information criterion.  \n",
    "‘t-stat’ based choice of maxlag. Starts with maxlag and drops a lag until the t-statistic on the last lag length is significant using a 5%-sized test."
   ]
  },
  {
   "cell_type": "markdown",
   "metadata": {},
   "source": [
    "**попробуем тест Дики Фуллера**"
   ]
  },
  {
   "cell_type": "code",
   "execution_count": 12,
   "metadata": {},
   "outputs": [
    {
     "data": {
      "text/plain": [
       "(0.24922658783074125,\n",
       " 0.9992496743656168,\n",
       " 11,\n",
       " 72,\n",
       " {'1%': -4.539881724858539,\n",
       "  '5%': -3.9171398521090537,\n",
       "  '10%': -3.605279090256344},\n",
       " 1260.173032028794)"
      ]
     },
     "execution_count": 12,
     "metadata": {},
     "output_type": "execute_result"
    }
   ],
   "source": [
    "recovered_stat = sm.tsa.stattools.adfuller(covid_by_date['Recovered'].values, regression='ctt')\n",
    "recovered_stat"
   ]
  },
  {
   "cell_type": "markdown",
   "metadata": {},
   "source": [
    "**ряд выздоровевших нестационарный**"
   ]
  },
  {
   "cell_type": "markdown",
   "metadata": {},
   "source": [
    "**Попробуем в тесте Дики Фуллера лаги разной глубины:**"
   ]
  },
  {
   "cell_type": "code",
   "execution_count": 13,
   "metadata": {},
   "outputs": [],
   "source": [
    "recovered_stat_maxlag9 = sm.tsa.stattools.adfuller(covid_by_date['Recovered'].values, maxlag=9, regression='ctt')"
   ]
  },
  {
   "cell_type": "code",
   "execution_count": 14,
   "metadata": {},
   "outputs": [
    {
     "data": {
      "text/plain": [
       "(-5.213380625848756,\n",
       " 0.0004325965054045213,\n",
       " 9,\n",
       " 74,\n",
       " {'1%': -4.535092737152785,\n",
       "  '5%': -3.914769516514323,\n",
       "  '10%': -3.603837484551754},\n",
       " 1319.079190960525)"
      ]
     },
     "execution_count": 14,
     "metadata": {},
     "output_type": "execute_result"
    }
   ],
   "source": [
    "recovered_stat_maxlag9"
   ]
  },
  {
   "cell_type": "markdown",
   "metadata": {},
   "source": [
    "**Интересно, но при лаге = 9 ряд показывается как стационарный**"
   ]
  },
  {
   "cell_type": "markdown",
   "metadata": {},
   "source": [
    "Первое значение кортежа ответа содержит показатель статистики теста.  \n",
    "Второй элемент кортежа ответа: если он равен 0 - ряд стационарен, иначе нет.  \n",
    "Третий параметр - длина временного отрезка (лага), который был использован при исследовании.  \n",
    "Четвертый - число рассмотренных точек ряда.  \n",
    "Пятый (словарь) содержит критические оценки по МакКинону для 1 % , 5 %, и 10 % вероятности отклонения гипотезы нестационарности ряда (Нулевая гипотеза теста — ряд не стационарен)  \n",
    "Шестой - icbestfloat \n",
    "The maximized information criterion if autolag is not None. \n",
    "\n",
    "resstoreResultStore, optional\n",
    "A dummy class with results attached as attributes."
   ]
  },
  {
   "cell_type": "code",
   "execution_count": 15,
   "metadata": {},
   "outputs": [],
   "source": [
    "# logarithm confirmed\n",
    "covid_log = pd.Series(np.log(covid_by_date['Confirmed']))"
   ]
  },
  {
   "cell_type": "code",
   "execution_count": 16,
   "metadata": {},
   "outputs": [
    {
     "data": {
      "text/plain": [
       "<matplotlib.axes._subplots.AxesSubplot at 0x1d887779240>"
      ]
     },
     "execution_count": 16,
     "metadata": {},
     "output_type": "execute_result"
    },
    {
     "data": {
      "image/png": "[encoded data removed]",
      "text/plain": [
       "<Figure size 432x288 with 1 Axes>"
      ]
     },
     "metadata": {
      "needs_background": "light"
     },
     "output_type": "display_data"
    }
   ],
   "source": [
    "covid_log.plot()"
   ]
  },
  {
   "cell_type": "markdown",
   "metadata": {},
   "source": [
    "Попробуем вручную"
   ]
  },
  {
   "cell_type": "code",
   "execution_count": 17,
   "metadata": {},
   "outputs": [],
   "source": [
    "def straight_smoothing(series,h):    \n",
    "    return series.rolling(window=h).mean()"
   ]
  },
  {
   "cell_type": "code",
   "execution_count": 18,
   "metadata": {},
   "outputs": [
    {
     "data": {
      "text/html": [
       "<div>\n",
       "<style scoped>\n",
       "    .dataframe tbody tr th:only-of-type {\n",
       "        vertical-align: middle;\n",
       "    }\n",
       "\n",
       "    .dataframe tbody tr th {\n",
       "        vertical-align: top;\n",
       "    }\n",
       "\n",
       "    .dataframe thead th {\n",
       "        text-align: right;\n",
       "    }\n",
       "</style>\n",
       "<table border=\"1\" class=\"dataframe\">\n",
       "  <thead>\n",
       "    <tr style=\"text-align: right;\">\n",
       "      <th></th>\n",
       "      <th>Confirmed</th>\n",
       "      <th>Deaths</th>\n",
       "      <th>Recovered</th>\n",
       "      <th>straight smoothing</th>\n",
       "    </tr>\n",
       "    <tr>\n",
       "      <th>Date</th>\n",
       "      <th></th>\n",
       "      <th></th>\n",
       "      <th></th>\n",
       "      <th></th>\n",
       "    </tr>\n",
       "  </thead>\n",
       "  <tbody>\n",
       "    <tr>\n",
       "      <th>2020-01-22</th>\n",
       "      <td>555.0</td>\n",
       "      <td>17.0</td>\n",
       "      <td>28.0</td>\n",
       "      <td>NaN</td>\n",
       "    </tr>\n",
       "    <tr>\n",
       "      <th>2020-01-23</th>\n",
       "      <td>653.0</td>\n",
       "      <td>18.0</td>\n",
       "      <td>30.0</td>\n",
       "      <td>29.0</td>\n",
       "    </tr>\n",
       "    <tr>\n",
       "      <th>2020-01-24</th>\n",
       "      <td>941.0</td>\n",
       "      <td>26.0</td>\n",
       "      <td>36.0</td>\n",
       "      <td>33.0</td>\n",
       "    </tr>\n",
       "    <tr>\n",
       "      <th>2020-01-25</th>\n",
       "      <td>1438.0</td>\n",
       "      <td>42.0</td>\n",
       "      <td>39.0</td>\n",
       "      <td>37.5</td>\n",
       "    </tr>\n",
       "    <tr>\n",
       "      <th>2020-01-26</th>\n",
       "      <td>2118.0</td>\n",
       "      <td>56.0</td>\n",
       "      <td>52.0</td>\n",
       "      <td>45.5</td>\n",
       "    </tr>\n",
       "  </tbody>\n",
       "</table>\n",
       "</div>"
      ],
      "text/plain": [
       "            Confirmed  Deaths  Recovered  straight smoothing\n",
       "Date                                                        \n",
       "2020-01-22      555.0    17.0       28.0                 NaN\n",
       "2020-01-23      653.0    18.0       30.0                29.0\n",
       "2020-01-24      941.0    26.0       36.0                33.0\n",
       "2020-01-25     1438.0    42.0       39.0                37.5\n",
       "2020-01-26     2118.0    56.0       52.0                45.5"
      ]
     },
     "execution_count": 18,
     "metadata": {},
     "output_type": "execute_result"
    }
   ],
   "source": [
    "covid_by_date['straight smoothing'] = straight_smoothing(covid_by_date['Recovered'], 2)\n",
    "covid_by_date.head()"
   ]
  },
  {
   "cell_type": "code",
   "execution_count": 19,
   "metadata": {},
   "outputs": [
    {
     "data": {
      "text/plain": [
       "[<matplotlib.lines.Line2D at 0x1d8878c2fd0>,\n",
       " <matplotlib.lines.Line2D at 0x1d8879006d8>]"
      ]
     },
     "execution_count": 19,
     "metadata": {},
     "output_type": "execute_result"
    },
    {
     "data": {
      "image/png": "[encoded data removed]",
      "text/plain": [
       "<Figure size 432x288 with 1 Axes>"
      ]
     },
     "metadata": {
      "needs_background": "light"
     },
     "output_type": "display_data"
    }
   ],
   "source": [
    "plt.plot(covid_by_date.loc[:, ['Recovered', 'straight smoothing']])"
   ]
  },
  {
   "cell_type": "code",
   "execution_count": null,
   "metadata": {},
   "outputs": [],
   "source": []
  },
  {
   "cell_type": "code",
   "execution_count": 20,
   "metadata": {},
   "outputs": [
    {
     "ename": "SyntaxError",
     "evalue": "invalid syntax (<ipython-input-20-e76d8369b6a4>, line 3)",
     "output_type": "error",
     "traceback": [
      "\u001b[1;36m  File \u001b[1;32m\"<ipython-input-20-e76d8369b6a4>\"\u001b[1;36m, line \u001b[1;32m3\u001b[0m\n\u001b[1;33m    d_covid.append(covid_by_date[day] - ) = data['PJME_MW'].values[1:]-data['PJME_MW'].values[:-1]\u001b[0m\n\u001b[1;37m                                        ^\u001b[0m\n\u001b[1;31mSyntaxError\u001b[0m\u001b[1;31m:\u001b[0m invalid syntax\n"
     ]
    }
   ],
   "source": [
    "d_covid = pd.Series([], index=covid_by_date.index)\n",
    "for day in covid_by_date.index:\n",
    "    d_covid.append(covid_by_date[day] - ) = data['PJME_MW'].values[1:]-data['PJME_MW'].values[:-1]\n"
   ]
  },
  {
   "cell_type": "code",
   "execution_count": null,
   "metadata": {},
   "outputs": [],
   "source": []
  },
  {
   "cell_type": "code",
   "execution_count": null,
   "metadata": {},
   "outputs": [],
   "source": [
    "plt.plot(data.iloc[:-1].index,d_data)\n",
    "plt.xlabel('t')\n",
    "plt.title('Потребление энергии, МВт')\n",
    "plt.subplot(1,2,2)\n",
    "plt.plot(brent_data.iloc[:-1].index,d_brent_data,'.')\n",
    "plt.xlabel('t')\n",
    "plt.title('Цена нефти Brent, USA Dollar')\n",
    "plt.show()"
   ]
  },
  {
   "cell_type": "code",
   "execution_count": null,
   "metadata": {},
   "outputs": [],
   "source": [
    "covid_by_date['Confirmed'].plot()\n",
    "covid_by_date['Deaths'].plot()\n",
    "covid_by_date['Recovered'].plot()\n",
    "plt.xticks(label = covid_by_date.index.get_level_values('Date'), rotation=90)\n",
    "plt.legend()\n",
    "plt.show()"
   ]
  },
  {
   "cell_type": "markdown",
   "metadata": {},
   "source": [
    "before 15th of March"
   ]
  },
  {
   "cell_type": "code",
   "execution_count": null,
   "metadata": {},
   "outputs": [],
   "source": [
    "splitdate = pd.to_datetime('2020-03-15').date()\n",
    "plt.plot((covid_by_date['Confirmed'].loc[:splitdate]), label='Confirmed')\n",
    "plt.plot((covid_by_date['Deaths'].loc[:splitdate]), label='Deaths')\n",
    "plt.plot((covid_by_date['Recovered'].loc[:splitdate]), label='Recovered')\n",
    "plt.xticks(label = covid_by_date.index.get_level_values('Date'), rotation=90)\n",
    "plt.legend()\n",
    "plt.show()"
   ]
  },
  {
   "cell_type": "markdown",
   "metadata": {},
   "source": [
    "from 100 confirmed cases to 100"
   ]
  },
  {
   "cell_type": "code",
   "execution_count": null,
   "metadata": {},
   "outputs": [],
   "source": [
    "covid_by_date.loc[((covid_by_date['Confirmed'] > 100)& (covid_by_date['Confirmed'] < 1000)), :].plot()\n",
    "plt.xticks(label = covid_by_date.index.get_level_values('Date'), rotation=90)\n",
    "\n",
    "plt.show()"
   ]
  },
  {
   "cell_type": "markdown",
   "metadata": {},
   "source": [
    "Посмотрим на них в цифрах"
   ]
  },
  {
   "cell_type": "code",
   "execution_count": null,
   "metadata": {},
   "outputs": [],
   "source": [
    "cases_100_1000 = covid_by_date.loc[((covid_by_date['Confirmed'] > 100)& (covid_by_date['Confirmed'] < 1000)), :]\n",
    "cases_100_1000"
   ]
  },
  {
   "cell_type": "markdown",
   "metadata": {},
   "source": [
    "Сделаем первые разности (производную)"
   ]
  },
  {
   "cell_type": "code",
   "execution_count": null,
   "metadata": {},
   "outputs": [],
   "source": [
    "covid_by_date.diff(1).plot()\n",
    "plt.xticks(label = covid_by_date.index.get_level_values('Date'), rotation=90)\n",
    "\n",
    "plt.show()"
   ]
  },
  {
   "cell_type": "markdown",
   "metadata": {},
   "source": [
    "План - посмотреть отрезки с пиками и посмотреть отдельно данные по нью-йорку и нью-джерси\n"
   ]
  },
  {
   "cell_type": "markdown",
   "metadata": {},
   "source": [
    "**3. вариант 2)** Сделайте ресемплинг COVID19 на интервалы 3 дня, неделя, 2 недели.Постройте график изменения среднего по выборке и среднего отклонения по выборке на группах для интервалах 3 дня, неделя, 2 недели (одна группа на интервале - одно значение std или mean, т.е. если было 28 деней, то 9 значений для ресемплинга на 3 дня, 4 значения при ресемплинге неделя и 2 значения при ресемплинге 2 недели )"
   ]
  },
  {
   "cell_type": "code",
   "execution_count": null,
   "metadata": {},
   "outputs": [],
   "source": [
    "us_3day = covid_by_date.resample(\"3D\").std()\n",
    "us_week = covid_by_date.resample(\"W\").std()\n",
    "us_2weeks = covid_by_date.resample(\"2W\").std()"
   ]
  },
  {
   "cell_type": "code",
   "execution_count": null,
   "metadata": {},
   "outputs": [],
   "source": [
    "us_3day.head(3)"
   ]
  },
  {
   "cell_type": "code",
   "execution_count": null,
   "metadata": {},
   "outputs": [],
   "source": [
    "plt.figure(figsize = (20, 6))\n",
    "\n",
    "# интервалы 3 дня\n",
    "plt.subplot(1,3,1)\n",
    "plt.scatter(us_3day.index, us_3day['Confirmed'])\n",
    "plt.scatter(us_3day.index, us_3day['Deaths'])\n",
    "plt.scatter(us_3day.index, us_3day['Recovered'])\n",
    "plt.xticks(label = us_3day.index, rotation=90)\n",
    "plt.title(f'стандартное отклонение интервалы 3 дня')\n",
    "\n",
    "# неделя\n",
    "plt.subplot(1,3,2)\n",
    "plt.plot(us_week.index, us_week)\n",
    "plt.xticks(label = us_week.index, rotation=90)\n",
    "plt.title(f'интервал неделя')\n",
    "\n",
    "#  2 недели\n",
    "plt.subplot(1,3,3)\n",
    "plt.plot(us_2weeks.index, us_2weeks)\n",
    "plt.xticks(label = us_2weeks.index, rotation=90)\n",
    "plt.title(f'интервал 2 недели')"
   ]
  },
  {
   "cell_type": "code",
   "execution_count": null,
   "metadata": {},
   "outputs": [],
   "source": [
    "us_3day_mean = covid_by_date.resample(\"3D\").mean()\n",
    "us_week_mean = covid_by_date.resample(\"W\").mean()\n",
    "us_2weeks_mean = covid_by_date.resample(\"2W\").mean()"
   ]
  },
  {
   "cell_type": "code",
   "execution_count": null,
   "metadata": {},
   "outputs": [],
   "source": [
    "plt.figure(figsize = (20, 6))\n",
    "\n",
    "# интервалы 3 дня\n",
    "plt.subplot(1,3,1)\n",
    "plt.plot(us_3day_mean.index, us_3day_mean)\n",
    "plt.xticks(label = us_3day_mean.index, rotation=90)\n",
    "plt.legend(['Confirmed','Deaths','Recovered'])\n",
    "plt.title(f'интервалы 3 дня')\n",
    "\n",
    "# неделя\n",
    "plt.subplot(1,3,2)\n",
    "plt.plot(us_week_mean.index, us_week_mean)\n",
    "plt.xticks(label = us_week_mean.index, rotation=90)\n",
    "plt.legend(['Confirmed','Deaths','Recovered'])\n",
    "plt.title(f'интервал неделя')\n",
    "\n",
    "#  2 недели\n",
    "plt.subplot(1,3,3)\n",
    "plt.plot(us_2weeks_mean.index, us_2weeks_mean)\n",
    "plt.xticks(label = us_2weeks_mean.index, rotation=90)\n",
    "plt.legend(['Confirmed','Deaths','Recovered'])\n",
    "plt.title(f'интервал 2 недели')"
   ]
  },
  {
   "cell_type": "code",
   "execution_count": null,
   "metadata": {},
   "outputs": [],
   "source": []
  },
  {
   "cell_type": "markdown",
   "metadata": {},
   "source": [
    "**4. Сделайте вывод о том, как изменилось поведение цены на недельных и месячных графиках по сравнению с дневными.**"
   ]
  },
  {
   "cell_type": "markdown",
   "metadata": {},
   "source": [
    "Скачки в темпах роста и в среднеквадратичном отклонении по recovered и confirmed, а по смертям нет. Возможно зависит от процесса тестирования, его темпы могут быть различными. Странно, что в . Необходимо посмотреть те же показатели но по разным штатам, возможно, что там плавные однонаправленные изменения или по нормальное распределение.\n"
   ]
  },
  {
   "cell_type": "code",
   "execution_count": null,
   "metadata": {},
   "outputs": [],
   "source": [
    "#data with most deaths данные с уровнем смертности >500\n",
    "mass_deaths_data = covid_usa.loc[covid_usa['Deaths']>500, :]\n",
    "#NB there are counties/provinces, wich for some periods are given separately from their states"
   ]
  },
  {
   "cell_type": "code",
   "execution_count": null,
   "metadata": {},
   "outputs": [],
   "source": [
    "# список штатов с большим уровнем\n",
    "states = mass_deaths_data['Province/State'].value_counts().index"
   ]
  },
  {
   "cell_type": "code",
   "execution_count": null,
   "metadata": {},
   "outputs": [],
   "source": [
    "states"
   ]
  },
  {
   "cell_type": "code",
   "execution_count": null,
   "metadata": {},
   "outputs": [],
   "source": [
    "# данные по самым пострадавшим штатам (по смертям)\n",
    "covid_us_maxdeaths = covid_usa.loc[covid_usa['Province/State'].isin(states), :]"
   ]
  },
  {
   "cell_type": "code",
   "execution_count": null,
   "metadata": {},
   "outputs": [],
   "source": [
    "# in one state plain data\n",
    "for state in states[:1]:\n",
    "    plt.plot(covid_us_maxdeaths.loc[covid_us_maxdeaths['Province/State'].isin([state]),\n",
    "                                    ['Date']],\n",
    "             covid_us_maxdeaths.loc[covid_us_maxdeaths['Province/State'].isin([state]),\n",
    "                                    ['Confirmed','Deaths','Recovered']].diff(1) )\n",
    "    plt.xticks(label = covid_us_maxdeaths.loc[covid_us_maxdeaths['Province/State'].isin([state]),\n",
    "                                              ['Date']], rotation=90)\n",
    "    plt.legend(['Confirmed','Deaths','Recovered'])"
   ]
  },
  {
   "cell_type": "code",
   "execution_count": null,
   "metadata": {},
   "outputs": [],
   "source": [
    "# differenciating death rates in max affected states\n",
    "for state in states:\n",
    "    plt.plot(covid_us_maxdeaths.loc[covid_us_maxdeaths['Province/State'].isin([state]),\n",
    "                                    ['Date']],\n",
    "             covid_us_maxdeaths.loc[covid_us_maxdeaths['Province/State'].isin([state]),\n",
    "                                    ['Deaths']].diff(1), label=state)\n",
    "    plt.xticks(label = covid_us_maxdeaths.loc[covid_us_maxdeaths['Province/State'].isin([state]),\n",
    "                                              ['Date']], rotation=90)\n",
    "    plt.legend()"
   ]
  },
  {
   "cell_type": "code",
   "execution_count": null,
   "metadata": {},
   "outputs": [],
   "source": [
    "# death rates in max affected states\n",
    "for state in states:\n",
    "    plt.plot(covid_us_maxdeaths.loc[covid_us_maxdeaths['Province/State'].isin([state]),\n",
    "                                    ['Date']],\n",
    "             covid_us_maxdeaths.loc[covid_us_maxdeaths['Province/State'].isin([state]),\n",
    "                                    ['Deaths']], label=state)\n",
    "    plt.xticks(label = covid_us_maxdeaths.loc[covid_us_maxdeaths['Province/State'].isin([state]),\n",
    "                                              ['Date']], rotation=90)\n",
    "    plt.legend()"
   ]
  },
  {
   "cell_type": "code",
   "execution_count": null,
   "metadata": {},
   "outputs": [],
   "source": [
    "# differenciating confirmed/death/recovered/ rates in max affected states\n",
    "for state in states:\n",
    "    \n",
    "    plt.plot(covid_us_maxdeaths.loc[covid_us_maxdeaths['Province/State'].isin([state]),\n",
    "                                    ['Date']],\n",
    "             covid_us_maxdeaths.loc[covid_us_maxdeaths['Province/State'].isin([state]),\n",
    "                                    ['Deaths']].diff(1), label=state)\n",
    "    plt.xticks(label = covid_us_maxdeaths.loc[covid_us_maxdeaths['Province/State'].isin([state]),\n",
    "                                              ['Date']], rotation=90)\n",
    "    plt.legend()"
   ]
  },
  {
   "cell_type": "markdown",
   "metadata": {},
   "source": [
    "### сгладим данные, попробуем собрать среднее за каждые 3 дня"
   ]
  },
  {
   "cell_type": "code",
   "execution_count": null,
   "metadata": {},
   "outputs": [],
   "source": [
    "covid_us_maxdeaths.index = pd.to_datetime(covid_us_maxdeaths['Date'])"
   ]
  },
  {
   "cell_type": "code",
   "execution_count": null,
   "metadata": {},
   "outputs": [],
   "source": [
    "#\n",
    "for state in states:\n",
    "    one_state_deaths = covid_us_maxdeaths.loc[covid_us_maxdeaths['Province/State'].isin([state]), :]\n",
    "    three_day_mean = one_state_deaths.resample(\"3D\").mean()\n",
    "    plt.plot(three_day_mean.index, three_day_mean['Deaths'], label=state)\n",
    "    plt.xticks(label = three_day_mean.index, rotation=90)\n",
    "    plt.legend()"
   ]
  },
  {
   "cell_type": "code",
   "execution_count": null,
   "metadata": {},
   "outputs": [],
   "source": [
    "# diff\n",
    "for state in states:\n",
    "    one_state_deaths = covid_us_maxdeaths.loc[covid_us_maxdeaths['Province/State'].isin([state]), :]\n",
    "    three_day_mean = one_state_deaths.resample(\"3D\").mean()\n",
    "    plt.scatter(three_day_mean.index, three_day_mean['Deaths'].diff(1))\n",
    "    plt.plot(three_day_mean.index, three_day_mean['Deaths'].diff(1), label=state)\n",
    "    plt.xticks(label = three_day_mean.index, rotation=90)\n",
    "    plt.legend()"
   ]
  },
  {
   "cell_type": "markdown",
   "metadata": {},
   "source": [
    "**При усреднении в пределах трех дней скачки темпов роста сглаживаются**\n",
    "Дополнительные выводы делать сложно, так как рост даже до пика еще не дошел и пока даже прирост немного снизился только на последнем отрезке. В Нью-Йорке ситуация явно из всех учитываемых мест доведена до самой критической, а вот в Луизиане, кажется, удается flatten the curve.  Но,по крайней мере, признаков манипуляций не видно. Кажется, методику учета смертности они не меняли на всем протяжении измерений. BTW даже в NY пока хватает аппаратов и, прогнозируется, что хватит. Тем более хватает коек. Будет интересно посмотреть на данные через пару недель. В наши пока не хочется заглядывать, ибо как у нас \"учитывают\", я знаю очень хорошо."
   ]
  },
  {
   "cell_type": "code",
   "execution_count": null,
   "metadata": {},
   "outputs": [],
   "source": []
  }
 ],
 "metadata": {
  "kernelspec": {
   "display_name": "Python 3",
   "language": "python",
   "name": "python3"
  },
  "language_info": {
   "codemirror_mode": {
    "name": "ipython",
    "version": 3
   },
   "file_extension": ".py",
   "mimetype": "text/x-python",
   "name": "python",
   "nbconvert_exporter": "python",
   "pygments_lexer": "ipython3",
   "version": "3.7.1"
  }
 },
 "nbformat": 4,
 "nbformat_minor": 2
}
