{
 "cells": [
  {
   "cell_type": "markdown",
   "metadata": {},
   "source": [
    "**1. Прочитайте базу \"COVID_19_data\"** и сделайте модель для сглаженой формы(экспоненциально) по приросту(первые разности) ил по прямому ряду для выздоровлений(или заболеваний) с глубиной прогноза h=1 и h=10 по образцу из примера для обработки ряда \"цена Нефти\" .\n",
    "**на уроке дано задание - сделать побольше признаков и построить по ним модель**"
   ]
  },
  {
   "cell_type": "code",
   "execution_count": 1,
   "metadata": {},
   "outputs": [],
   "source": [
    "import pandas as pd\n",
    "import numpy as np\n",
    "\n",
    "import matplotlib.pyplot as plt"
   ]
  },
  {
   "cell_type": "markdown",
   "metadata": {},
   "source": [
    "func"
   ]
  },
  {
   "cell_type": "code",
   "execution_count": 3,
   "metadata": {},
   "outputs": [],
   "source": [
    "def exponential_smoothing(series, alpha):\n",
    "    result = [series[0]] # first value is same as series\n",
    "    for n in range(1, len(series)):\n",
    "        result.append(alpha * series[n] + (1 - alpha) * result[n-1])\n",
    "    return result"
   ]
  },
  {
   "cell_type": "code",
   "execution_count": 4,
   "metadata": {},
   "outputs": [],
   "source": [
    "def smoothing(series, h):\n",
    "    res = series[:h]\n",
    "    res = res.append(series.rolling(window=h).mean()[h:])\n",
    "    return res"
   ]
  },
  {
   "cell_type": "code",
   "execution_count": 5,
   "metadata": {},
   "outputs": [],
   "source": [
    "def f_differ(series):\n",
    "    fod = [0]\n",
    "    fod[1:] = series[1:].values - series[:-1].values \n",
    "    return fod"
   ]
  },
  {
   "cell_type": "code",
   "execution_count": 6,
   "metadata": {},
   "outputs": [],
   "source": [
    "covid = pd.read_csv('D:/AI/Machine learning/novel-corona-virus-2019-dataset/covid_19_data.csv')\n"
   ]
  },
  {
   "cell_type": "code",
   "execution_count": 7,
   "metadata": {},
   "outputs": [
    {
     "data": {
      "text/html": [
       "<div>\n",
       "<style scoped>\n",
       "    .dataframe tbody tr th:only-of-type {\n",
       "        vertical-align: middle;\n",
       "    }\n",
       "\n",
       "    .dataframe tbody tr th {\n",
       "        vertical-align: top;\n",
       "    }\n",
       "\n",
       "    .dataframe thead th {\n",
       "        text-align: right;\n",
       "    }\n",
       "</style>\n",
       "<table border=\"1\" class=\"dataframe\">\n",
       "  <thead>\n",
       "    <tr style=\"text-align: right;\">\n",
       "      <th></th>\n",
       "      <th>SNo</th>\n",
       "      <th>ObservationDate</th>\n",
       "      <th>Province/State</th>\n",
       "      <th>Country/Region</th>\n",
       "      <th>Last Update</th>\n",
       "      <th>Confirmed</th>\n",
       "      <th>Deaths</th>\n",
       "      <th>Recovered</th>\n",
       "    </tr>\n",
       "  </thead>\n",
       "  <tbody>\n",
       "    <tr>\n",
       "      <th>15766</th>\n",
       "      <td>15767</td>\n",
       "      <td>04/16/2020</td>\n",
       "      <td>Yukon</td>\n",
       "      <td>Canada</td>\n",
       "      <td>2020-04-16 23:38:19</td>\n",
       "      <td>8.0</td>\n",
       "      <td>0.0</td>\n",
       "      <td>0.0</td>\n",
       "    </tr>\n",
       "    <tr>\n",
       "      <th>15767</th>\n",
       "      <td>15768</td>\n",
       "      <td>04/16/2020</td>\n",
       "      <td>Yunnan</td>\n",
       "      <td>Mainland China</td>\n",
       "      <td>2020-04-16 23:38:19</td>\n",
       "      <td>184.0</td>\n",
       "      <td>2.0</td>\n",
       "      <td>176.0</td>\n",
       "    </tr>\n",
       "    <tr>\n",
       "      <th>15768</th>\n",
       "      <td>15769</td>\n",
       "      <td>04/16/2020</td>\n",
       "      <td>Zhejiang</td>\n",
       "      <td>Mainland China</td>\n",
       "      <td>2020-04-16 23:38:19</td>\n",
       "      <td>1268.0</td>\n",
       "      <td>1.0</td>\n",
       "      <td>1244.0</td>\n",
       "    </tr>\n",
       "  </tbody>\n",
       "</table>\n",
       "</div>"
      ],
      "text/plain": [
       "         SNo ObservationDate Province/State  Country/Region  \\\n",
       "15766  15767      04/16/2020          Yukon          Canada   \n",
       "15767  15768      04/16/2020         Yunnan  Mainland China   \n",
       "15768  15769      04/16/2020       Zhejiang  Mainland China   \n",
       "\n",
       "               Last Update  Confirmed  Deaths  Recovered  \n",
       "15766  2020-04-16 23:38:19        8.0     0.0        0.0  \n",
       "15767  2020-04-16 23:38:19      184.0     2.0      176.0  \n",
       "15768  2020-04-16 23:38:19     1268.0     1.0     1244.0  "
      ]
     },
     "execution_count": 7,
     "metadata": {},
     "output_type": "execute_result"
    }
   ],
   "source": [
    "covid.tail(3)"
   ]
  },
  {
   "cell_type": "markdown",
   "metadata": {},
   "source": [
    "Making a dataframe copy and working with it only\n",
    "Выносим дату отдельным столбцом"
   ]
  },
  {
   "cell_type": "code",
   "execution_count": 8,
   "metadata": {},
   "outputs": [],
   "source": [
    "covid_19 = covid.copy()\n",
    "covid_19['Date']= pd.to_datetime(covid['ObservationDate']).dt.date"
   ]
  },
  {
   "cell_type": "code",
   "execution_count": 9,
   "metadata": {},
   "outputs": [
    {
     "name": "stdout",
     "output_type": "stream",
     "text": [
      "86\n"
     ]
    }
   ],
   "source": [
    "#checking date repeats; finding number of dates\n",
    "if len(covid_19['Date'].value_counts())==covid_19['Date'].nunique():\n",
    "    print(covid_19['Date'].nunique())"
   ]
  },
  {
   "cell_type": "code",
   "execution_count": 10,
   "metadata": {},
   "outputs": [],
   "source": [
    "covid_by_date = covid_19.groupby(['Date'])['Confirmed','Deaths','Recovered'].sum()"
   ]
  },
  {
   "cell_type": "code",
   "execution_count": 11,
   "metadata": {},
   "outputs": [],
   "source": [
    "covid_by_date.index = pd.to_datetime(covid_by_date.index)"
   ]
  },
  {
   "cell_type": "code",
   "execution_count": 12,
   "metadata": {},
   "outputs": [
    {
     "data": {
      "text/plain": [
       "<matplotlib.axes._subplots.AxesSubplot at 0x280f12c6fd0>"
      ]
     },
     "execution_count": 12,
     "metadata": {},
     "output_type": "execute_result"
    },
    {
     "data": {
      "image/png": "[encoded data removed]",
      "text/plain": [
       "<Figure size 432x288 with 1 Axes>"
      ]
     },
     "metadata": {
      "needs_background": "light"
     },
     "output_type": "display_data"
    }
   ],
   "source": [
    "covid_by_date.plot()"
   ]
  },
  {
   "cell_type": "code",
   "execution_count": 13,
   "metadata": {},
   "outputs": [
    {
     "data": {
      "text/html": [
       "<div>\n",
       "<style scoped>\n",
       "    .dataframe tbody tr th:only-of-type {\n",
       "        vertical-align: middle;\n",
       "    }\n",
       "\n",
       "    .dataframe tbody tr th {\n",
       "        vertical-align: top;\n",
       "    }\n",
       "\n",
       "    .dataframe thead th {\n",
       "        text-align: right;\n",
       "    }\n",
       "</style>\n",
       "<table border=\"1\" class=\"dataframe\">\n",
       "  <thead>\n",
       "    <tr style=\"text-align: right;\">\n",
       "      <th></th>\n",
       "      <th>Confirmed</th>\n",
       "      <th>Deaths</th>\n",
       "      <th>Recovered</th>\n",
       "    </tr>\n",
       "    <tr>\n",
       "      <th>Date</th>\n",
       "      <th></th>\n",
       "      <th></th>\n",
       "      <th></th>\n",
       "    </tr>\n",
       "  </thead>\n",
       "  <tbody>\n",
       "    <tr>\n",
       "      <th>2020-01-22</th>\n",
       "      <td>555.0</td>\n",
       "      <td>17.0</td>\n",
       "      <td>28.0</td>\n",
       "    </tr>\n",
       "    <tr>\n",
       "      <th>2020-01-23</th>\n",
       "      <td>653.0</td>\n",
       "      <td>18.0</td>\n",
       "      <td>30.0</td>\n",
       "    </tr>\n",
       "    <tr>\n",
       "      <th>2020-01-24</th>\n",
       "      <td>941.0</td>\n",
       "      <td>26.0</td>\n",
       "      <td>36.0</td>\n",
       "    </tr>\n",
       "  </tbody>\n",
       "</table>\n",
       "</div>"
      ],
      "text/plain": [
       "            Confirmed  Deaths  Recovered\n",
       "Date                                    \n",
       "2020-01-22      555.0    17.0       28.0\n",
       "2020-01-23      653.0    18.0       30.0\n",
       "2020-01-24      941.0    26.0       36.0"
      ]
     },
     "execution_count": 13,
     "metadata": {},
     "output_type": "execute_result"
    }
   ],
   "source": [
    "covid_by_date.head(3)"
   ]
  },
  {
   "cell_type": "code",
   "execution_count": 14,
   "metadata": {},
   "outputs": [
    {
     "data": {
      "text/plain": [
       "<matplotlib.axes._subplots.AxesSubplot at 0x280f34e7c88>"
      ]
     },
     "execution_count": 14,
     "metadata": {},
     "output_type": "execute_result"
    },
    {
     "data": {
      "image/png": "[encoded data removed]",
      "text/plain": [
       "<Figure size 432x288 with 1 Axes>"
      ]
     },
     "metadata": {
      "needs_background": "light"
     },
     "output_type": "display_data"
    }
   ],
   "source": [
    "covid_by_date['2020-02-10': '2020-02-15'].plot()"
   ]
  },
  {
   "cell_type": "markdown",
   "metadata": {},
   "source": [
    "recovered - smooth line  \n",
    "**trying logarithm 'Recovered'**"
   ]
  },
  {
   "cell_type": "code",
   "execution_count": 15,
   "metadata": {},
   "outputs": [],
   "source": [
    "covid_log = pd.Series(np.log(covid_by_date['Recovered']))"
   ]
  },
  {
   "cell_type": "code",
   "execution_count": 16,
   "metadata": {},
   "outputs": [
    {
     "data": {
      "text/plain": [
       "<matplotlib.axes._subplots.AxesSubplot at 0x280f35df7b8>"
      ]
     },
     "execution_count": 16,
     "metadata": {},
     "output_type": "execute_result"
    },
    {
     "data": {
      "image/png": "[encoded data removed]",
      "text/plain": [
       "<Figure size 432x288 with 1 Axes>"
      ]
     },
     "metadata": {
      "needs_background": "light"
     },
     "output_type": "display_data"
    }
   ],
   "source": [
    "covid_log.plot()"
   ]
  },
  {
   "cell_type": "code",
   "execution_count": 17,
   "metadata": {},
   "outputs": [],
   "source": [
    "#adding a column\n",
    "covid_by_date['Logarithm'] = pd.Series(np.log(covid_by_date['Recovered']))"
   ]
  },
  {
   "cell_type": "code",
   "execution_count": 18,
   "metadata": {},
   "outputs": [
    {
     "data": {
      "text/plain": [
       "Date\n",
       "2020-02-14     8.994421\n",
       "2020-02-15     9.147933\n",
       "2020-02-16     9.293302\n",
       "2020-02-17     9.440102\n",
       "2020-02-18     9.571645\n",
       "                ...    \n",
       "2020-04-12    12.952102\n",
       "2020-04-13    13.014009\n",
       "2020-04-14    13.069513\n",
       "2020-04-15    13.144162\n",
       "2020-04-16    13.203219\n",
       "Name: Logarithm, Length: 63, dtype: float64"
      ]
     },
     "execution_count": 18,
     "metadata": {},
     "output_type": "execute_result"
    }
   ],
   "source": [
    "covid_by_date.loc[covid_by_date.index > pd.to_datetime('2020-02-13'), 'Logarithm']"
   ]
  },
  {
   "cell_type": "markdown",
   "metadata": {},
   "source": [
    "добавляем простое сглаживание с разными окнами, хотя при таком прогрессивном постоянном росте вряд ли это даст что-то"
   ]
  },
  {
   "cell_type": "code",
   "execution_count": 19,
   "metadata": {},
   "outputs": [],
   "source": [
    "covid_by_date['smoothing_win2'] = smoothing(covid_by_date['Recovered'], 2)\n",
    "covid_by_date['smoothing_win5'] = smoothing(covid_by_date['Recovered'], 5)\n",
    "covid_by_date['smoothing_win9'] = smoothing(covid_by_date['Recovered'], 9)"
   ]
  },
  {
   "cell_type": "markdown",
   "metadata": {},
   "source": [
    "Сделаем первые разности"
   ]
  },
  {
   "cell_type": "code",
   "execution_count": 20,
   "metadata": {},
   "outputs": [],
   "source": [
    "covid_by_date['first_ord_differ'] = f_differ(covid_by_date['Recovered'])"
   ]
  },
  {
   "cell_type": "code",
   "execution_count": 21,
   "metadata": {},
   "outputs": [
    {
     "data": {
      "text/plain": [
       "(array([737456., 737470., 737485., 737499., 737516., 737530.]),\n",
       " <a list of 6 Text xticklabel objects>)"
      ]
     },
     "execution_count": 21,
     "metadata": {},
     "output_type": "execute_result"
    },
    {
     "data": {
      "image/png": "[encoded data removed]",
      "text/plain": [
       "<Figure size 432x288 with 1 Axes>"
      ]
     },
     "metadata": {
      "needs_background": "light"
     },
     "output_type": "display_data"
    }
   ],
   "source": [
    "plt.plot(covid_by_date.loc[:, ['first_ord_differ']])\n",
    "plt.xticks(rotation=90)"
   ]
  },
  {
   "cell_type": "code",
   "execution_count": 22,
   "metadata": {},
   "outputs": [
    {
     "data": {
      "text/html": [
       "<div>\n",
       "<style scoped>\n",
       "    .dataframe tbody tr th:only-of-type {\n",
       "        vertical-align: middle;\n",
       "    }\n",
       "\n",
       "    .dataframe tbody tr th {\n",
       "        vertical-align: top;\n",
       "    }\n",
       "\n",
       "    .dataframe thead th {\n",
       "        text-align: right;\n",
       "    }\n",
       "</style>\n",
       "<table border=\"1\" class=\"dataframe\">\n",
       "  <thead>\n",
       "    <tr style=\"text-align: right;\">\n",
       "      <th></th>\n",
       "      <th>Confirmed</th>\n",
       "      <th>Deaths</th>\n",
       "      <th>Recovered</th>\n",
       "      <th>Logarithm</th>\n",
       "      <th>smoothing_win2</th>\n",
       "      <th>smoothing_win5</th>\n",
       "      <th>smoothing_win9</th>\n",
       "      <th>first_ord_differ</th>\n",
       "    </tr>\n",
       "    <tr>\n",
       "      <th>Date</th>\n",
       "      <th></th>\n",
       "      <th></th>\n",
       "      <th></th>\n",
       "      <th></th>\n",
       "      <th></th>\n",
       "      <th></th>\n",
       "      <th></th>\n",
       "      <th></th>\n",
       "    </tr>\n",
       "  </thead>\n",
       "  <tbody>\n",
       "    <tr>\n",
       "      <th>2020-04-14</th>\n",
       "      <td>1976192.0</td>\n",
       "      <td>125984.0</td>\n",
       "      <td>474261.0</td>\n",
       "      <td>13.069513</td>\n",
       "      <td>461458.0</td>\n",
       "      <td>424568.8</td>\n",
       "      <td>375783.222222</td>\n",
       "      <td>25606.0</td>\n",
       "    </tr>\n",
       "    <tr>\n",
       "      <th>2020-04-15</th>\n",
       "      <td>2056055.0</td>\n",
       "      <td>134177.0</td>\n",
       "      <td>511019.0</td>\n",
       "      <td>13.144162</td>\n",
       "      <td>492640.0</td>\n",
       "      <td>451553.4</td>\n",
       "      <td>401839.222222</td>\n",
       "      <td>36758.0</td>\n",
       "    </tr>\n",
       "    <tr>\n",
       "      <th>2020-04-16</th>\n",
       "      <td>2152647.0</td>\n",
       "      <td>143801.0</td>\n",
       "      <td>542107.0</td>\n",
       "      <td>13.203219</td>\n",
       "      <td>526563.0</td>\n",
       "      <td>479552.8</td>\n",
       "      <td>428734.000000</td>\n",
       "      <td>31088.0</td>\n",
       "    </tr>\n",
       "  </tbody>\n",
       "</table>\n",
       "</div>"
      ],
      "text/plain": [
       "            Confirmed    Deaths  Recovered  Logarithm  smoothing_win2  \\\n",
       "Date                                                                    \n",
       "2020-04-14  1976192.0  125984.0   474261.0  13.069513        461458.0   \n",
       "2020-04-15  2056055.0  134177.0   511019.0  13.144162        492640.0   \n",
       "2020-04-16  2152647.0  143801.0   542107.0  13.203219        526563.0   \n",
       "\n",
       "            smoothing_win5  smoothing_win9  first_ord_differ  \n",
       "Date                                                          \n",
       "2020-04-14        424568.8   375783.222222           25606.0  \n",
       "2020-04-15        451553.4   401839.222222           36758.0  \n",
       "2020-04-16        479552.8   428734.000000           31088.0  "
      ]
     },
     "execution_count": 22,
     "metadata": {},
     "output_type": "execute_result"
    }
   ],
   "source": [
    "covid_by_date.tail(3)"
   ]
  },
  {
   "cell_type": "code",
   "execution_count": 23,
   "metadata": {},
   "outputs": [
    {
     "data": {
      "image/png": "[encoded data removed]",
      "text/plain": [
       "<Figure size 432x288 with 1 Axes>"
      ]
     },
     "metadata": {
      "needs_background": "light"
     },
     "output_type": "display_data"
    }
   ],
   "source": [
    "# compairing first order derivative with first-order differences\n",
    "covid_by_date['first_ord_differ'].diff(1).plot()\n",
    "covid_by_date['Recovered'].diff(1).plot()\n",
    "covid_by_date['Recovered'].diff(2).plot()\n",
    "plt.xticks(rotation=90)\n",
    "\n",
    "plt.show()"
   ]
  },
  {
   "cell_type": "code",
   "execution_count": 24,
   "metadata": {},
   "outputs": [],
   "source": [
    "covid_by_date['Deriv_1'] = 0\n",
    "covid_by_date['Deriv_2'] = 0\n",
    "covid_by_date.loc[1:, 'Deriv_1'] = covid_by_date['Recovered'].diff(1)\n",
    "covid_by_date.loc[2:, 'Deriv_2'] = covid_by_date['Recovered'].diff(2)"
   ]
  },
  {
   "cell_type": "markdown",
   "metadata": {},
   "source": [
    "**exponential_smoothing**"
   ]
  },
  {
   "cell_type": "code",
   "execution_count": 25,
   "metadata": {},
   "outputs": [
    {
     "data": {
      "text/plain": [
       "<matplotlib.legend.Legend at 0x280f3905978>"
      ]
     },
     "execution_count": 25,
     "metadata": {},
     "output_type": "execute_result"
    },
    {
     "data": {
      "image/png": "[encoded data removed]",
      "text/plain": [
       "<Figure size 432x288 with 1 Axes>"
      ]
     },
     "metadata": {
      "needs_background": "light"
     },
     "output_type": "display_data"
    }
   ],
   "source": [
    "a = covid_by_date.loc[((covid_by_date.index > pd.to_datetime('2020-04-01')) \n",
    "                       & (covid_by_date.index < pd.to_datetime('2020-04-10'))), 'Recovered']\n",
    "plt.plot(a.index, exponential_smoothing(covid_by_date.loc[(covid_by_date.index > pd.to_datetime('2020-04-01')) \n",
    "                                                          & (covid_by_date.index < pd.to_datetime('2020-04-10')), 'Recovered'],\n",
    "                                        0.3), label='0.3')\n",
    "plt.plot(a.index, exponential_smoothing(covid_by_date.loc[(covid_by_date.index > pd.to_datetime('2020-04-01')) \n",
    "                                                          & (covid_by_date.index < pd.to_datetime('2020-04-10')), 'Recovered'],\n",
    "                                        0.5), label='0.5')\n",
    "plt.plot(a.index, exponential_smoothing(covid_by_date.loc[(covid_by_date.index > pd.to_datetime('2020-04-01')) \n",
    "                                                          & (covid_by_date.index < pd.to_datetime('2020-04-10')), 'Recovered'],\n",
    "                                        0.8), label='0.8')\n",
    "plt.plot(a, label='initial')\n",
    "plt.xticks(rotation=90)\n",
    "plt.legend()"
   ]
  },
  {
   "cell_type": "code",
   "execution_count": 26,
   "metadata": {},
   "outputs": [],
   "source": [
    "covid_by_date['exp_smoothing_05'] = exponential_smoothing(covid_by_date.loc[:, 'Recovered'],0.5)"
   ]
  },
  {
   "cell_type": "code",
   "execution_count": 29,
   "metadata": {},
   "outputs": [],
   "source": [
    "covid_by_date['exponent_initial_difference'] =  covid_by_date['Recovered'].values - covid_by_date['exp_smoothing_05'].values"
   ]
  },
  {
   "cell_type": "code",
   "execution_count": 31,
   "metadata": {},
   "outputs": [
    {
     "name": "stdout",
     "output_type": "stream",
     "text": [
      "<class 'pandas.core.frame.DataFrame'>\n",
      "DatetimeIndex: 86 entries, 2020-01-22 to 2020-04-16\n",
      "Data columns (total 12 columns):\n",
      "Confirmed                      86 non-null float64\n",
      "Deaths                         86 non-null float64\n",
      "Recovered                      86 non-null float64\n",
      "Logarithm                      86 non-null float64\n",
      "smoothing_win2                 86 non-null float64\n",
      "smoothing_win5                 86 non-null float64\n",
      "smoothing_win9                 86 non-null float64\n",
      "first_ord_differ               86 non-null float64\n",
      "Deriv_1                        86 non-null float64\n",
      "Deriv_2                        86 non-null float64\n",
      "exp_smoothing_05               86 non-null float64\n",
      "exponent_initial_difference    86 non-null float64\n",
      "dtypes: float64(12)\n",
      "memory usage: 11.2 KB\n"
     ]
    }
   ],
   "source": [
    "covid_by_date.info()"
   ]
  },
  {
   "cell_type": "code",
   "execution_count": 39,
   "metadata": {},
   "outputs": [],
   "source": [
    "target = ['Recovered']\n",
    "first_diff = covid_by_date.columns[[2,7]]\n",
    "exponent = covid_by_date.columns[[2,10]]\n",
    "logarithm = covid_by_date.columns[[2,3]]\n",
    "all_features = covid_by_date.columns[2:]\n",
    "my_features = covid_by_date.columns[[2, 3, 11]]"
   ]
  },
  {
   "cell_type": "code",
   "execution_count": 41,
   "metadata": {},
   "outputs": [],
   "source": [
    "from sklearn.ensemble import GradientBoostingRegressor\n",
    "\n",
    "from sklearn.metrics import mean_absolute_error, mean_squared_error, median_absolute_error, r2_score"
   ]
  },
  {
   "cell_type": "code",
   "execution_count": 46,
   "metadata": {},
   "outputs": [],
   "source": [
    "# сделаем примеры и модель \n",
    "def split_data_b( data, split_date ):\n",
    "    return data.loc[data.index <= split_date].copy(), data.loc[data.index >  split_date].copy()\n"
   ]
  },
  {
   "cell_type": "code",
   "execution_count": 100,
   "metadata": {},
   "outputs": [],
   "source": [
    "train_c, test_c = split_data_b(covid_by_date, '2020-04-05')"
   ]
  },
  {
   "cell_type": "markdown",
   "metadata": {},
   "source": [
    "*prediction horizon = 1*"
   ]
  },
  {
   "cell_type": "code",
   "execution_count": 101,
   "metadata": {},
   "outputs": [],
   "source": [
    "X_train = train_c.iloc[:-1,:]\n",
    "y_train = train_c[target].values[1:]\n",
    "X_test = test_c.iloc[:-1,:]\n",
    "y_test = test_c[target].values[1:]"
   ]
  },
  {
   "cell_type": "code",
   "execution_count": 102,
   "metadata": {},
   "outputs": [],
   "source": [
    "model_gb = GradientBoostingRegressor(max_depth=15, random_state=0, n_estimators=100)\n"
   ]
  },
  {
   "cell_type": "code",
   "execution_count": 103,
   "metadata": {},
   "outputs": [],
   "source": [
    "#first_diff\n",
    "model_gb.fit(X_train.loc[:, first_diff], y_train.ravel()) \n",
    "X_pred_fd = model_gb.predict(X_test.loc[:, first_diff])"
   ]
  },
  {
   "cell_type": "code",
   "execution_count": 104,
   "metadata": {},
   "outputs": [],
   "source": [
    "#exponent \n",
    "model_gb.fit(X_train.loc[:, exponent], y_train.ravel()) \n",
    "X_pred_exp = model_gb.predict(X_test.loc[:, exponent])"
   ]
  },
  {
   "cell_type": "code",
   "execution_count": 105,
   "metadata": {},
   "outputs": [],
   "source": [
    "#logarithm\n",
    "model_gb.fit(X_train.loc[:, logarithm], y_train.ravel()) \n",
    "X_pred_log = model_gb.predict(X_test.loc[:, logarithm])"
   ]
  },
  {
   "cell_type": "code",
   "execution_count": 106,
   "metadata": {},
   "outputs": [],
   "source": [
    "#all_features \n",
    "model_gb.fit(X_train.loc[:, all_features], y_train.ravel()) \n",
    "X_pred_all = model_gb.predict(X_test.loc[:, all_features])"
   ]
  },
  {
   "cell_type": "code",
   "execution_count": 107,
   "metadata": {},
   "outputs": [],
   "source": [
    "#my_features\n",
    "model_gb.fit(X_train, y_train.ravel()) \n",
    "X_pred_mf = model_gb.predict(X_test)"
   ]
  },
  {
   "cell_type": "code",
   "execution_count": 108,
   "metadata": {},
   "outputs": [
    {
     "data": {
      "text/plain": [
       "<matplotlib.legend.Legend at 0x280f556be10>"
      ]
     },
     "execution_count": 108,
     "metadata": {},
     "output_type": "execute_result"
    },
    {
     "data": {
      "image/png": "[encoded data removed]",
      "text/plain": [
       "<Figure size 432x288 with 1 Axes>"
      ]
     },
     "metadata": {
      "needs_background": "light"
     },
     "output_type": "display_data"
    }
   ],
   "source": [
    "plt.plot(test_c.index[1:],X_pred_fd, label='predict data' )\n",
    "plt.plot(test_c.index[1:],y_test, label='test data')\n",
    "plt.xticks(rotation=90)\n",
    "plt.legend()"
   ]
  },
  {
   "cell_type": "markdown",
   "metadata": {},
   "source": [
    "**2. Оцените ошибку модели из п.1 .**"
   ]
  },
  {
   "cell_type": "code",
   "execution_count": 81,
   "metadata": {},
   "outputs": [],
   "source": [
    "def mean_absolute_percentage_error(y_true, y_pred): \n",
    "    y_true, y_pred = np.array(y_true), np.array(y_pred)\n",
    "    return np.mean(np.abs((y_true - y_pred) / y_true)) * 100"
   ]
  },
  {
   "cell_type": "code",
   "execution_count": 82,
   "metadata": {},
   "outputs": [
    {
     "data": {
      "text/plain": [
       "62.45245331789106"
      ]
     },
     "execution_count": 82,
     "metadata": {},
     "output_type": "execute_result"
    }
   ],
   "source": [
    "mean_absolute_percentage_error(y_test, X_pred_mf)"
   ]
  },
  {
   "cell_type": "markdown",
   "metadata": {},
   "source": [
    "**3. Сделайте вывод о том, как изменилась ошибка модели по значениям h.**"
   ]
  },
  {
   "cell_type": "markdown",
   "metadata": {},
   "source": [
    "**4. Попробуйте предположить характер ряда** (стационарный или нет, с трендом, с сезоном, с циклом) для рядов из списка и аргументируйте свой ответ (одна строка):\n",
    "\n",
    "а) Изменение температуры за окном :).\n",
    "\n",
    "б) Количество денег, которые тратят покупатели в интернет магазине.\n",
    "\n",
    "в) Вес растущего котенка.\n",
    "\n",
    "г) Прирост объема деревьев в лесу от времени"
   ]
  }
 ],
 "metadata": {
  "kernelspec": {
   "display_name": "Python 3",
   "language": "python",
   "name": "python3"
  },
  "language_info": {
   "codemirror_mode": {
    "name": "ipython",
    "version": 3
   },
   "file_extension": ".py",
   "mimetype": "text/x-python",
   "name": "python",
   "nbconvert_exporter": "python",
   "pygments_lexer": "ipython3",
   "version": "3.7.1"
  }
 },
 "nbformat": 4,
 "nbformat_minor": 2
}
