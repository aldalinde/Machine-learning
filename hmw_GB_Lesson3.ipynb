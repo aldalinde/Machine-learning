{
 "cells": [
  {
   "cell_type": "markdown",
   "metadata": {
    "colab_type": "text",
    "id": "yMNkbEHLvlPX"
   },
   "source": [
    "# Решение задачи оценки ожидаемых выплат по полису КАСКО методом градиентного бустинга"
   ]
  },
  {
   "cell_type": "markdown",
   "metadata": {
    "colab_type": "text",
    "id": "HrxZEq_-FHNq"
   },
   "source": [
    "## Предобработка данных"
   ]
  },
  {
   "cell_type": "markdown",
   "metadata": {
    "colab_type": "text",
    "id": "Xljx8j0-_jXR"
   },
   "source": [
    "### * Домашнее задание: Многоклассовая классификация"
   ]
  },
  {
   "cell_type": "markdown",
   "metadata": {
    "colab_type": "text",
    "id": "bVx_WNaKwibO"
   },
   "source": [
    "В текущем домашнем задание предлагается взглянуть на задачу моделирования количества страховых случаев как на задачу многоклассовой классификации."
   ]
  },
  {
   "cell_type": "code",
   "execution_count": 2,
   "metadata": {
    "colab": {},
    "colab_type": "code",
    "id": "n98J3UNxSLUd"
   },
   "outputs": [],
   "source": [
    "import pandas as pd\n",
    "import numpy as np\n",
    "import xgboost as xgb\n",
    "import matplotlib.pyplot as plt\n",
    "from sklearn.model_selection import train_test_split\n",
    "from sklearn.metrics import f1_score, accuracy_score, confusion_matrix\n",
    "\n",
    "\n"
   ]
  },
  {
   "cell_type": "code",
   "execution_count": 3,
   "metadata": {},
   "outputs": [
    {
     "name": "stdout",
     "output_type": "stream",
     "text": [
      "Collecting hyperopt\n",
      "  Downloading hyperopt-0.2.4-py2.py3-none-any.whl (964 kB)\n",
      "Requirement already satisfied: future in c:\\python37\\lib\\site-packages (from hyperopt) (0.18.2)\n",
      "Requirement already satisfied: scipy in c:\\python37\\lib\\site-packages (from hyperopt) (1.4.1)\n",
      "Requirement already satisfied: numpy in c:\\python37\\lib\\site-packages (from hyperopt) (1.17.4)\n",
      "Requirement already satisfied: six in c:\\python37\\lib\\site-packages (from hyperopt) (1.13.0)\n",
      "Requirement already satisfied: networkx>=2.2 in c:\\python37\\lib\\site-packages (from hyperopt) (2.4)\n",
      "Requirement already satisfied: tqdm in c:\\python37\\lib\\site-packages (from hyperopt) (4.45.0)\n",
      "Collecting cloudpickle\n",
      "  Downloading cloudpickle-1.4.1-py3-none-any.whl (26 kB)\n",
      "Requirement already satisfied: decorator>=4.3.0 in c:\\python37\\lib\\site-packages (from networkx>=2.2->hyperopt) (4.4.1)\n",
      "Installing collected packages: cloudpickle, hyperopt\n",
      "Successfully installed cloudpickle-1.4.1 hyperopt-0.2.4\n"
     ]
    },
    {
     "name": "stderr",
     "output_type": "stream",
     "text": [
      "WARNING: You are using pip version 20.1; however, version 20.1.1 is available.\n",
      "You should consider upgrading via the 'c:\\python37\\python.exe -m pip install --upgrade pip' command.\n"
     ]
    }
   ],
   "source": [
    "#!pip install hyperopt"
   ]
  },
  {
   "cell_type": "code",
   "execution_count": 4,
   "metadata": {},
   "outputs": [],
   "source": [
    "from hyperopt import hp, tpe, space_eval\n",
    "from hyperopt.fmin import fmin"
   ]
  },
  {
   "cell_type": "code",
   "execution_count": null,
   "metadata": {},
   "outputs": [],
   "source": [
    "#from sklearn.ensemble import RandomForestClassifier\n",
    "#from sklearn.model_selection import GridSearchCV"
   ]
  },
  {
   "cell_type": "code",
   "execution_count": 5,
   "metadata": {},
   "outputs": [],
   "source": [
    "def SeriesFactorizer(series):\n",
    "    series, unique = pd.factorize(series)\n",
    "    reference = {x: i for x, i in enumerate(unique)}\n",
    "    print(reference)\n",
    "    return series, reference"
   ]
  },
  {
   "cell_type": "code",
   "execution_count": 6,
   "metadata": {
    "colab": {},
    "colab_type": "code",
    "id": "cdgTw4I-7GdC"
   },
   "outputs": [],
   "source": [
    "# Загрузка набора данных в pandas DataFrame\n",
    "df = pd.read_csv('D:/AI/Machine learning/freMPL-R.csv', low_memory=False)\n",
    "df = df.loc[df.Dataset.isin([5, 6, 7, 8, 9])]\n",
    "df.drop('Dataset', axis=1, inplace=True)\n",
    "df.dropna(axis=1, how='all', inplace=True)\n",
    "df.drop_duplicates(inplace=True)\n"
   ]
  },
  {
   "cell_type": "code",
   "execution_count": 7,
   "metadata": {},
   "outputs": [],
   "source": [
    "df.reset_index(drop=True, inplace=True)"
   ]
  },
  {
   "cell_type": "code",
   "execution_count": 10,
   "metadata": {},
   "outputs": [
    {
     "name": "stdout",
     "output_type": "stream",
     "text": [
      "<class 'pandas.core.frame.DataFrame'>\n",
      "RangeIndex: 115155 entries, 0 to 115154\n",
      "Data columns (total 20 columns):\n",
      "Exposure             115155 non-null float64\n",
      "LicAge               115155 non-null int64\n",
      "RecordBeg            115155 non-null object\n",
      "RecordEnd            59455 non-null object\n",
      "Gender               115155 non-null object\n",
      "MariStat             115155 non-null object\n",
      "SocioCateg           115155 non-null object\n",
      "VehUsage             115155 non-null object\n",
      "DrivAge              115155 non-null int64\n",
      "HasKmLimit           115155 non-null int64\n",
      "BonusMalus           115155 non-null int64\n",
      "ClaimAmount          115155 non-null float64\n",
      "ClaimInd             115155 non-null int64\n",
      "ClaimNbResp          115155 non-null float64\n",
      "ClaimNbNonResp       115155 non-null float64\n",
      "ClaimNbParking       115155 non-null float64\n",
      "ClaimNbFireTheft     115155 non-null float64\n",
      "ClaimNbWindscreen    115155 non-null float64\n",
      "OutUseNb             115155 non-null float64\n",
      "RiskArea             115155 non-null float64\n",
      "dtypes: float64(9), int64(5), object(6)\n",
      "memory usage: 17.6+ MB\n"
     ]
    }
   ],
   "source": [
    "df.info()"
   ]
  },
  {
   "cell_type": "code",
   "execution_count": 11,
   "metadata": {
    "colab": {
     "base_uri": "https://localhost:8080/",
     "height": 34
    },
    "colab_type": "code",
    "executionInfo": {
     "elapsed": 1968,
     "status": "ok",
     "timestamp": 1587408067317,
     "user": {
      "displayName": "Aleksandr Shchegolev",
      "photoUrl": "",
      "userId": "00652555022685556919"
     },
     "user_tz": -180
    },
    "id": "WdtY7qDp8veM",
    "outputId": "266c8c57-fa73-4e63-84d5-a915ed27bb8c"
   },
   "outputs": [],
   "source": [
    "df.loc[df.ClaimAmount < 0, 'ClaimAmount'] = 0"
   ]
  },
  {
   "cell_type": "markdown",
   "metadata": {
    "colab_type": "text",
    "id": "r9dMlMh5QcXt"
   },
   "source": [
    "Предобработайте данные"
   ]
  },
  {
   "cell_type": "code",
   "execution_count": 12,
   "metadata": {
    "colab": {
     "base_uri": "https://localhost:8080/",
     "height": 35
    },
    "colab_type": "code",
    "executionInfo": {
     "elapsed": 1184,
     "status": "ok",
     "timestamp": 1590686605254,
     "user": {
      "displayName": "Dmitry Bochkarev",
      "photoUrl": "",
      "userId": "05586895287054002730"
     },
     "user_tz": -180
    },
    "id": "G3SgrIBXGe3J",
    "outputId": "c9891215-b313-4902-8505-5e8a69a55a1c"
   },
   "outputs": [
    {
     "name": "stdout",
     "output_type": "stream",
     "text": [
      "{0: 'Male', 1: 'Female'}\n"
     ]
    }
   ],
   "source": [
    "df.Gender, GenderRef = SeriesFactorizer(df.Gender)"
   ]
  },
  {
   "cell_type": "code",
   "execution_count": 13,
   "metadata": {
    "colab": {
     "base_uri": "https://localhost:8080/",
     "height": 35
    },
    "colab_type": "code",
    "executionInfo": {
     "elapsed": 1626,
     "status": "ok",
     "timestamp": 1590686607229,
     "user": {
      "displayName": "Dmitry Bochkarev",
      "photoUrl": "",
      "userId": "05586895287054002730"
     },
     "user_tz": -180
    },
    "id": "HD6_Ie-2GggO",
    "outputId": "b15ad14b-02ee-4240-ed0c-ff7dbbe60926"
   },
   "outputs": [
    {
     "name": "stdout",
     "output_type": "stream",
     "text": [
      "{0: 'Other', 1: 'Alone'}\n"
     ]
    }
   ],
   "source": [
    "df.MariStat, MariStatRef = SeriesFactorizer(df.MariStat)"
   ]
  },
  {
   "cell_type": "markdown",
   "metadata": {
    "colab_type": "text",
    "id": "ZdTe9JpiGvt9"
   },
   "source": [
    "Для переменных, содержащих более 2 значений, различия между которыми не могут упорядочены, используем фиктивные переменные (one-hot encoding)."
   ]
  },
  {
   "cell_type": "code",
   "execution_count": 15,
   "metadata": {
    "colab": {
     "base_uri": "https://localhost:8080/",
     "height": 206
    },
    "colab_type": "code",
    "executionInfo": {
     "elapsed": 811,
     "status": "ok",
     "timestamp": 1590686714121,
     "user": {
      "displayName": "Dmitry Bochkarev",
      "photoUrl": "",
      "userId": "05586895287054002730"
     },
     "user_tz": -180
    },
    "id": "WXfZa7lUH0Jf",
    "outputId": "92a5f80e-ebef-40d2-93b1-a6abf21fe639"
   },
   "outputs": [
    {
     "data": {
      "text/html": [
       "<div>\n",
       "<style scoped>\n",
       "    .dataframe tbody tr th:only-of-type {\n",
       "        vertical-align: middle;\n",
       "    }\n",
       "\n",
       "    .dataframe tbody tr th {\n",
       "        vertical-align: top;\n",
       "    }\n",
       "\n",
       "    .dataframe thead th {\n",
       "        text-align: right;\n",
       "    }\n",
       "</style>\n",
       "<table border=\"1\" class=\"dataframe\">\n",
       "  <thead>\n",
       "    <tr style=\"text-align: right;\">\n",
       "      <th></th>\n",
       "      <th>VehUsg_Private</th>\n",
       "      <th>VehUsg_Private+trip to office</th>\n",
       "      <th>VehUsg_Professional</th>\n",
       "      <th>VehUsg_Professional run</th>\n",
       "    </tr>\n",
       "  </thead>\n",
       "  <tbody>\n",
       "    <tr>\n",
       "      <th>0</th>\n",
       "      <td>0</td>\n",
       "      <td>0</td>\n",
       "      <td>1</td>\n",
       "      <td>0</td>\n",
       "    </tr>\n",
       "    <tr>\n",
       "      <th>1</th>\n",
       "      <td>0</td>\n",
       "      <td>0</td>\n",
       "      <td>1</td>\n",
       "      <td>0</td>\n",
       "    </tr>\n",
       "    <tr>\n",
       "      <th>2</th>\n",
       "      <td>0</td>\n",
       "      <td>1</td>\n",
       "      <td>0</td>\n",
       "      <td>0</td>\n",
       "    </tr>\n",
       "    <tr>\n",
       "      <th>3</th>\n",
       "      <td>0</td>\n",
       "      <td>1</td>\n",
       "      <td>0</td>\n",
       "      <td>0</td>\n",
       "    </tr>\n",
       "    <tr>\n",
       "      <th>4</th>\n",
       "      <td>1</td>\n",
       "      <td>0</td>\n",
       "      <td>0</td>\n",
       "      <td>0</td>\n",
       "    </tr>\n",
       "  </tbody>\n",
       "</table>\n",
       "</div>"
      ],
      "text/plain": [
       "   VehUsg_Private  VehUsg_Private+trip to office  VehUsg_Professional  \\\n",
       "0               0                              0                    1   \n",
       "1               0                              0                    1   \n",
       "2               0                              1                    0   \n",
       "3               0                              1                    0   \n",
       "4               1                              0                    0   \n",
       "\n",
       "   VehUsg_Professional run  \n",
       "0                        0  \n",
       "1                        0  \n",
       "2                        0  \n",
       "3                        0  \n",
       "4                        0  "
      ]
     },
     "execution_count": 15,
     "metadata": {},
     "output_type": "execute_result"
    }
   ],
   "source": [
    "VU_dummies = pd.get_dummies(df.VehUsage, prefix='VehUsg', drop_first=False)\n",
    "VU_dummies.head()"
   ]
  },
  {
   "cell_type": "code",
   "execution_count": 16,
   "metadata": {
    "colab": {},
    "colab_type": "code",
    "id": "gbAPu6XeH9nj"
   },
   "outputs": [],
   "source": [
    "df['SocioCateg'] = df.SocioCateg.str.slice(0,4)"
   ]
  },
  {
   "cell_type": "code",
   "execution_count": 17,
   "metadata": {
    "colab": {
     "base_uri": "https://localhost:8080/",
     "height": 269
    },
    "colab_type": "code",
    "executionInfo": {
     "elapsed": 728,
     "status": "ok",
     "timestamp": 1590686718653,
     "user": {
      "displayName": "Dmitry Bochkarev",
      "photoUrl": "",
      "userId": "05586895287054002730"
     },
     "user_tz": -180
    },
    "id": "MGljfdnMJxXj",
    "outputId": "cb1b8bcf-8043-476a-be36-3f5822924b16"
   },
   "outputs": [
    {
     "data": {
      "text/html": [
       "<div>\n",
       "<style scoped>\n",
       "    .dataframe tbody tr th:only-of-type {\n",
       "        vertical-align: middle;\n",
       "    }\n",
       "\n",
       "    .dataframe tbody tr th {\n",
       "        vertical-align: top;\n",
       "    }\n",
       "\n",
       "    .dataframe thead th {\n",
       "        text-align: right;\n",
       "    }\n",
       "</style>\n",
       "<table border=\"1\" class=\"dataframe\">\n",
       "  <thead>\n",
       "    <tr style=\"text-align: right;\">\n",
       "      <th></th>\n",
       "      <th>Frequency</th>\n",
       "    </tr>\n",
       "  </thead>\n",
       "  <tbody>\n",
       "    <tr>\n",
       "      <th>CSP7</th>\n",
       "      <td>14</td>\n",
       "    </tr>\n",
       "    <tr>\n",
       "      <th>CSP3</th>\n",
       "      <td>1210</td>\n",
       "    </tr>\n",
       "    <tr>\n",
       "      <th>CSP1</th>\n",
       "      <td>2740</td>\n",
       "    </tr>\n",
       "    <tr>\n",
       "      <th>CSP2</th>\n",
       "      <td>3254</td>\n",
       "    </tr>\n",
       "    <tr>\n",
       "      <th>CSP4</th>\n",
       "      <td>7648</td>\n",
       "    </tr>\n",
       "    <tr>\n",
       "      <th>CSP6</th>\n",
       "      <td>24833</td>\n",
       "    </tr>\n",
       "    <tr>\n",
       "      <th>CSP5</th>\n",
       "      <td>75456</td>\n",
       "    </tr>\n",
       "  </tbody>\n",
       "</table>\n",
       "</div>"
      ],
      "text/plain": [
       "      Frequency\n",
       "CSP7         14\n",
       "CSP3       1210\n",
       "CSP1       2740\n",
       "CSP2       3254\n",
       "CSP4       7648\n",
       "CSP6      24833\n",
       "CSP5      75456"
      ]
     },
     "execution_count": 17,
     "metadata": {},
     "output_type": "execute_result"
    }
   ],
   "source": [
    "pd.DataFrame(df.SocioCateg.value_counts().sort_values()).rename({'SocioCateg': 'Frequency'}, axis=1)"
   ]
  },
  {
   "cell_type": "code",
   "execution_count": 18,
   "metadata": {
    "colab": {},
    "colab_type": "code",
    "id": "zPfpFjNiKHtj"
   },
   "outputs": [],
   "source": [
    "df = pd.get_dummies(df, columns=['VehUsage','SocioCateg'])"
   ]
  },
  {
   "cell_type": "code",
   "execution_count": 20,
   "metadata": {},
   "outputs": [
    {
     "name": "stdout",
     "output_type": "stream",
     "text": [
      "<class 'pandas.core.frame.DataFrame'>\n",
      "RangeIndex: 115155 entries, 0 to 115154\n",
      "Data columns (total 29 columns):\n",
      "Exposure                           115155 non-null float64\n",
      "LicAge                             115155 non-null int64\n",
      "RecordBeg                          115155 non-null object\n",
      "RecordEnd                          59455 non-null object\n",
      "Gender                             115155 non-null int64\n",
      "MariStat                           115155 non-null int64\n",
      "DrivAge                            115155 non-null int64\n",
      "HasKmLimit                         115155 non-null int64\n",
      "BonusMalus                         115155 non-null int64\n",
      "ClaimAmount                        115155 non-null float64\n",
      "ClaimInd                           115155 non-null int64\n",
      "ClaimNbResp                        115155 non-null float64\n",
      "ClaimNbNonResp                     115155 non-null float64\n",
      "ClaimNbParking                     115155 non-null float64\n",
      "ClaimNbFireTheft                   115155 non-null float64\n",
      "ClaimNbWindscreen                  115155 non-null float64\n",
      "OutUseNb                           115155 non-null float64\n",
      "RiskArea                           115155 non-null float64\n",
      "VehUsage_Private                   115155 non-null uint8\n",
      "VehUsage_Private+trip to office    115155 non-null uint8\n",
      "VehUsage_Professional              115155 non-null uint8\n",
      "VehUsage_Professional run          115155 non-null uint8\n",
      "SocioCateg_CSP1                    115155 non-null uint8\n",
      "SocioCateg_CSP2                    115155 non-null uint8\n",
      "SocioCateg_CSP3                    115155 non-null uint8\n",
      "SocioCateg_CSP4                    115155 non-null uint8\n",
      "SocioCateg_CSP5                    115155 non-null uint8\n",
      "SocioCateg_CSP6                    115155 non-null uint8\n",
      "SocioCateg_CSP7                    115155 non-null uint8\n",
      "dtypes: float64(9), int64(7), object(2), uint8(11)\n",
      "memory usage: 17.0+ MB\n"
     ]
    }
   ],
   "source": [
    "df.info()"
   ]
  },
  {
   "cell_type": "markdown",
   "metadata": {
    "colab_type": "text",
    "id": "xuMe7c-wKT3H"
   },
   "source": [
    "Теперь, когда большинство переменных типа `object` обработаны, исключим их из набора данных за ненадобностью."
   ]
  },
  {
   "cell_type": "code",
   "execution_count": 21,
   "metadata": {
    "colab": {},
    "colab_type": "code",
    "id": "HBbmRHUFKRql"
   },
   "outputs": [],
   "source": [
    "df = df.select_dtypes(exclude=['object'])"
   ]
  },
  {
   "cell_type": "markdown",
   "metadata": {
    "colab_type": "text",
    "id": "hImLBMF2GYZT"
   },
   "source": [
    "Также создадим такую переменную, как квадрат возраста."
   ]
  },
  {
   "cell_type": "code",
   "execution_count": 23,
   "metadata": {
    "colab": {
     "base_uri": "https://localhost:8080/",
     "height": 243
    },
    "colab_type": "code",
    "executionInfo": {
     "elapsed": 683,
     "status": "ok",
     "timestamp": 1590686774245,
     "user": {
      "displayName": "Dmitry Bochkarev",
      "photoUrl": "",
      "userId": "05586895287054002730"
     },
     "user_tz": -180
    },
    "id": "sWLXCS4AGY3_",
    "outputId": "96c2a594-bf13-4950-c731-8837f2fa08fa"
   },
   "outputs": [
    {
     "data": {
      "text/html": [
       "<div>\n",
       "<style scoped>\n",
       "    .dataframe tbody tr th:only-of-type {\n",
       "        vertical-align: middle;\n",
       "    }\n",
       "\n",
       "    .dataframe tbody tr th {\n",
       "        vertical-align: top;\n",
       "    }\n",
       "\n",
       "    .dataframe thead th {\n",
       "        text-align: right;\n",
       "    }\n",
       "</style>\n",
       "<table border=\"1\" class=\"dataframe\">\n",
       "  <thead>\n",
       "    <tr style=\"text-align: right;\">\n",
       "      <th></th>\n",
       "      <th>Exposure</th>\n",
       "      <th>LicAge</th>\n",
       "      <th>Gender</th>\n",
       "      <th>MariStat</th>\n",
       "      <th>DrivAge</th>\n",
       "      <th>HasKmLimit</th>\n",
       "      <th>BonusMalus</th>\n",
       "      <th>ClaimAmount</th>\n",
       "      <th>ClaimInd</th>\n",
       "      <th>ClaimNbResp</th>\n",
       "      <th>...</th>\n",
       "      <th>VehUsage_Professional run</th>\n",
       "      <th>SocioCateg_CSP1</th>\n",
       "      <th>SocioCateg_CSP2</th>\n",
       "      <th>SocioCateg_CSP3</th>\n",
       "      <th>SocioCateg_CSP4</th>\n",
       "      <th>SocioCateg_CSP5</th>\n",
       "      <th>SocioCateg_CSP6</th>\n",
       "      <th>SocioCateg_CSP7</th>\n",
       "      <th>DrivAgeSq</th>\n",
       "      <th>DrivAgeSq2</th>\n",
       "    </tr>\n",
       "  </thead>\n",
       "  <tbody>\n",
       "    <tr>\n",
       "      <th>0</th>\n",
       "      <td>0.083</td>\n",
       "      <td>332</td>\n",
       "      <td>0</td>\n",
       "      <td>0</td>\n",
       "      <td>46</td>\n",
       "      <td>0</td>\n",
       "      <td>50</td>\n",
       "      <td>0.0</td>\n",
       "      <td>0</td>\n",
       "      <td>0.0</td>\n",
       "      <td>...</td>\n",
       "      <td>0</td>\n",
       "      <td>0</td>\n",
       "      <td>0</td>\n",
       "      <td>0</td>\n",
       "      <td>0</td>\n",
       "      <td>1</td>\n",
       "      <td>0</td>\n",
       "      <td>0</td>\n",
       "      <td>2116</td>\n",
       "      <td>2116</td>\n",
       "    </tr>\n",
       "    <tr>\n",
       "      <th>1</th>\n",
       "      <td>0.916</td>\n",
       "      <td>333</td>\n",
       "      <td>0</td>\n",
       "      <td>0</td>\n",
       "      <td>46</td>\n",
       "      <td>0</td>\n",
       "      <td>50</td>\n",
       "      <td>0.0</td>\n",
       "      <td>0</td>\n",
       "      <td>0.0</td>\n",
       "      <td>...</td>\n",
       "      <td>0</td>\n",
       "      <td>0</td>\n",
       "      <td>0</td>\n",
       "      <td>0</td>\n",
       "      <td>0</td>\n",
       "      <td>1</td>\n",
       "      <td>0</td>\n",
       "      <td>0</td>\n",
       "      <td>2116</td>\n",
       "      <td>2116</td>\n",
       "    </tr>\n",
       "    <tr>\n",
       "      <th>2</th>\n",
       "      <td>0.550</td>\n",
       "      <td>173</td>\n",
       "      <td>0</td>\n",
       "      <td>0</td>\n",
       "      <td>32</td>\n",
       "      <td>0</td>\n",
       "      <td>68</td>\n",
       "      <td>0.0</td>\n",
       "      <td>0</td>\n",
       "      <td>0.0</td>\n",
       "      <td>...</td>\n",
       "      <td>0</td>\n",
       "      <td>0</td>\n",
       "      <td>0</td>\n",
       "      <td>0</td>\n",
       "      <td>0</td>\n",
       "      <td>1</td>\n",
       "      <td>0</td>\n",
       "      <td>0</td>\n",
       "      <td>1024</td>\n",
       "      <td>1024</td>\n",
       "    </tr>\n",
       "    <tr>\n",
       "      <th>3</th>\n",
       "      <td>0.089</td>\n",
       "      <td>364</td>\n",
       "      <td>1</td>\n",
       "      <td>0</td>\n",
       "      <td>52</td>\n",
       "      <td>0</td>\n",
       "      <td>50</td>\n",
       "      <td>0.0</td>\n",
       "      <td>0</td>\n",
       "      <td>0.0</td>\n",
       "      <td>...</td>\n",
       "      <td>0</td>\n",
       "      <td>0</td>\n",
       "      <td>0</td>\n",
       "      <td>0</td>\n",
       "      <td>0</td>\n",
       "      <td>1</td>\n",
       "      <td>0</td>\n",
       "      <td>0</td>\n",
       "      <td>2704</td>\n",
       "      <td>2704</td>\n",
       "    </tr>\n",
       "    <tr>\n",
       "      <th>4</th>\n",
       "      <td>0.233</td>\n",
       "      <td>426</td>\n",
       "      <td>0</td>\n",
       "      <td>0</td>\n",
       "      <td>57</td>\n",
       "      <td>0</td>\n",
       "      <td>50</td>\n",
       "      <td>0.0</td>\n",
       "      <td>0</td>\n",
       "      <td>0.0</td>\n",
       "      <td>...</td>\n",
       "      <td>0</td>\n",
       "      <td>0</td>\n",
       "      <td>0</td>\n",
       "      <td>0</td>\n",
       "      <td>0</td>\n",
       "      <td>0</td>\n",
       "      <td>1</td>\n",
       "      <td>0</td>\n",
       "      <td>3249</td>\n",
       "      <td>3249</td>\n",
       "    </tr>\n",
       "  </tbody>\n",
       "</table>\n",
       "<p>5 rows × 29 columns</p>\n",
       "</div>"
      ],
      "text/plain": [
       "   Exposure  LicAge  Gender  MariStat  DrivAge  HasKmLimit  BonusMalus  \\\n",
       "0     0.083     332       0         0       46           0          50   \n",
       "1     0.916     333       0         0       46           0          50   \n",
       "2     0.550     173       0         0       32           0          68   \n",
       "3     0.089     364       1         0       52           0          50   \n",
       "4     0.233     426       0         0       57           0          50   \n",
       "\n",
       "   ClaimAmount  ClaimInd  ClaimNbResp  ...  VehUsage_Professional run  \\\n",
       "0          0.0         0          0.0  ...                          0   \n",
       "1          0.0         0          0.0  ...                          0   \n",
       "2          0.0         0          0.0  ...                          0   \n",
       "3          0.0         0          0.0  ...                          0   \n",
       "4          0.0         0          0.0  ...                          0   \n",
       "\n",
       "   SocioCateg_CSP1  SocioCateg_CSP2  SocioCateg_CSP3  SocioCateg_CSP4  \\\n",
       "0                0                0                0                0   \n",
       "1                0                0                0                0   \n",
       "2                0                0                0                0   \n",
       "3                0                0                0                0   \n",
       "4                0                0                0                0   \n",
       "\n",
       "   SocioCateg_CSP5  SocioCateg_CSP6  SocioCateg_CSP7  DrivAgeSq  DrivAgeSq2  \n",
       "0                1                0                0       2116        2116  \n",
       "1                1                0                0       2116        2116  \n",
       "2                1                0                0       1024        1024  \n",
       "3                1                0                0       2704        2704  \n",
       "4                0                1                0       3249        3249  \n",
       "\n",
       "[5 rows x 29 columns]"
      ]
     },
     "execution_count": 23,
     "metadata": {},
     "output_type": "execute_result"
    }
   ],
   "source": [
    "df['DrivAgeSq'] = df.loc[:, 'DrivAge'].apply(lambda x: x**2)\n",
    "df.head()"
   ]
  },
  {
   "cell_type": "markdown",
   "metadata": {
    "colab_type": "text",
    "id": "XE_3dSsW3J3X"
   },
   "source": [
    "Для моделирования частоты убытков сгенерируем показатель как сумму индикатора того, что убыток произошел (\"ClaimInd\") и количества заявленных убытков по различным видам ущерба за 4 предшествующих года (\"ClaimNbResp\", \"ClaimNbNonResp\", \"ClaimNbParking\", \"ClaimNbFireTheft\", \"ClaimNbWindscreen\").\n",
    "\n",
    "В случаях, если соответствующая величина убытка равняется нулю, сгенерированную частоту также обнулим."
   ]
  },
  {
   "cell_type": "code",
   "execution_count": 29,
   "metadata": {
    "colab": {},
    "colab_type": "code",
    "id": "R6rz5Oko3rbr"
   },
   "outputs": [],
   "source": [
    "df['ClaimsCount'] = df.ClaimInd + df.ClaimNbResp + df.ClaimNbNonResp + df.ClaimNbParking + df.ClaimNbFireTheft + df.ClaimNbWindscreen\n",
    "df.loc[df.ClaimAmount == 0, 'ClaimsCount'] = 0\n",
    "df.drop([\"ClaimNbResp\", \"ClaimNbNonResp\", \"ClaimNbParking\", \"ClaimNbFireTheft\", \"ClaimNbWindscreen\"], axis=1, inplace=True)"
   ]
  },
  {
   "cell_type": "markdown",
   "metadata": {
    "colab_type": "text",
    "id": "iCZAeoll6xac"
   },
   "source": [
    "Для моделирования среднего убытка можем рассчитать его как отношение величины убытков к их частоте."
   ]
  },
  {
   "cell_type": "code",
   "execution_count": 42,
   "metadata": {
    "colab": {},
    "colab_type": "code",
    "id": "y9AKwYtU6x1i"
   },
   "outputs": [],
   "source": [
    "df['AvgClaim'] = 0\n",
    "for d in range(len(df['ClaimsCount'])):\n",
    "    if df.loc[d, 'ClaimsCount'] > 0:\n",
    "        df.loc[d, 'AvgClaim'] = df.loc[d, 'ClaimAmount']/df.loc[d, 'ClaimsCount']"
   ]
  },
  {
   "cell_type": "code",
   "execution_count": 43,
   "metadata": {
    "colab": {
     "base_uri": "https://localhost:8080/",
     "height": 544
    },
    "colab_type": "code",
    "executionInfo": {
     "elapsed": 648,
     "status": "ok",
     "timestamp": 1587404940696,
     "user": {
      "displayName": "Aleksandr Shchegolev",
      "photoUrl": "",
      "userId": "00652555022685556919"
     },
     "user_tz": -180
    },
    "id": "S4g1U0-rdIZq",
    "outputId": "4f6ea36d-5d03-45b0-a273-2bdfec0eb879"
   },
   "outputs": [
    {
     "name": "stdout",
     "output_type": "stream",
     "text": [
      "<class 'pandas.core.frame.DataFrame'>\n",
      "RangeIndex: 115155 entries, 0 to 115154\n",
      "Data columns (total 26 columns):\n",
      "Exposure                           115155 non-null float64\n",
      "LicAge                             115155 non-null int64\n",
      "Gender                             115155 non-null int64\n",
      "MariStat                           115155 non-null int64\n",
      "DrivAge                            115155 non-null int64\n",
      "HasKmLimit                         115155 non-null int64\n",
      "BonusMalus                         115155 non-null int64\n",
      "ClaimAmount                        115155 non-null float64\n",
      "ClaimInd                           115155 non-null int64\n",
      "OutUseNb                           115155 non-null float64\n",
      "RiskArea                           115155 non-null float64\n",
      "VehUsage_Private                   115155 non-null uint8\n",
      "VehUsage_Private+trip to office    115155 non-null uint8\n",
      "VehUsage_Professional              115155 non-null uint8\n",
      "VehUsage_Professional run          115155 non-null uint8\n",
      "SocioCateg_CSP1                    115155 non-null uint8\n",
      "SocioCateg_CSP2                    115155 non-null uint8\n",
      "SocioCateg_CSP3                    115155 non-null uint8\n",
      "SocioCateg_CSP4                    115155 non-null uint8\n",
      "SocioCateg_CSP5                    115155 non-null uint8\n",
      "SocioCateg_CSP6                    115155 non-null uint8\n",
      "SocioCateg_CSP7                    115155 non-null uint8\n",
      "DrivAgeSq                          115155 non-null int64\n",
      "DrivAgeSq2                         115155 non-null int64\n",
      "ClaimsCount                        115155 non-null float64\n",
      "AvgClaim                           115155 non-null float64\n",
      "dtypes: float64(6), int64(9), uint8(11)\n",
      "memory usage: 14.4 MB\n"
     ]
    }
   ],
   "source": [
    "df.info()"
   ]
  },
  {
   "cell_type": "markdown",
   "metadata": {
    "colab_type": "text",
    "id": "2m1bibe9nMKp"
   },
   "source": [
    "XGBoost для многоклассовой классификации принимает на вход значения меток классов в виде `[0, num_classes]`. Заменим значение 11 на 10."
   ]
  },
  {
   "cell_type": "code",
   "execution_count": 45,
   "metadata": {},
   "outputs": [
    {
     "data": {
      "text/plain": [
       "array([ 0.,  4.,  2.,  1.,  3.,  5.,  6.,  7.,  8.,  9., 11.])"
      ]
     },
     "execution_count": 45,
     "metadata": {},
     "output_type": "execute_result"
    }
   ],
   "source": [
    "df.ClaimsCount.unique()"
   ]
  },
  {
   "cell_type": "code",
   "execution_count": 47,
   "metadata": {
    "colab": {
     "base_uri": "https://localhost:8080/",
     "height": 34
    },
    "colab_type": "code",
    "executionInfo": {
     "elapsed": 681,
     "status": "ok",
     "timestamp": 1587404979700,
     "user": {
      "displayName": "Aleksandr Shchegolev",
      "photoUrl": "",
      "userId": "00652555022685556919"
     },
     "user_tz": -180
    },
    "id": "ehf8mHX5tVNG",
    "outputId": "2f4567a5-69f2-4f94-e56e-4d5a874c18e6"
   },
   "outputs": [
    {
     "data": {
      "text/plain": [
       "array([ 0.,  4.,  2.,  1.,  3.,  5.,  6.,  7.,  8.,  9., 10.])"
      ]
     },
     "execution_count": 47,
     "metadata": {},
     "output_type": "execute_result"
    }
   ],
   "source": [
    "df.ClaimsCount.replace(to_replace=11, value=10, inplace=True)\n",
    "df.ClaimsCount.unique()"
   ]
  },
  {
   "cell_type": "markdown",
   "metadata": {
    "colab_type": "text",
    "id": "Nqre5rvZxL-N"
   },
   "source": [
    "Посмотрим, сколько полисов соответствуют каждому из значений `ClaimsCount`, используя метод `groupby`. Для полученных значений также посчитаем нормированную частоту."
   ]
  },
  {
   "cell_type": "code",
   "execution_count": 48,
   "metadata": {},
   "outputs": [
    {
     "data": {
      "text/plain": [
       "0.0     104286\n",
       "2.0       3529\n",
       "1.0       3339\n",
       "3.0       2310\n",
       "4.0       1101\n",
       "5.0        428\n",
       "6.0        127\n",
       "7.0         26\n",
       "8.0          6\n",
       "9.0          2\n",
       "10.0         1\n",
       "Name: ClaimsCount, dtype: int64"
      ]
     },
     "execution_count": 48,
     "metadata": {},
     "output_type": "execute_result"
    }
   ],
   "source": [
    "df.ClaimsCount.value_counts()"
   ]
  },
  {
   "cell_type": "code",
   "execution_count": 0,
   "metadata": {
    "colab": {},
    "colab_type": "code",
    "id": "nHgg3kZJu8tX"
   },
   "outputs": [],
   "source": [
    "FreqCount = df.loc[:,]('<Ваш код здесь>', columns=['Count'])\n",
    "FreqCount['Freq'] = '<Ваш код здесь>'"
   ]
  },
  {
   "cell_type": "code",
   "execution_count": 0,
   "metadata": {
    "colab": {},
    "colab_type": "code",
    "id": "UifKccwQYWiT"
   },
   "outputs": [],
   "source": [
    "FreqCount.Freq.plot(kind='bar')\n",
    "plt.ylabel('Frequency')\n",
    "plt.show()"
   ]
  },
  {
   "cell_type": "code",
   "execution_count": 0,
   "metadata": {
    "colab": {},
    "colab_type": "code",
    "id": "4Gy10AzjXsT9"
   },
   "outputs": [],
   "source": [
    "FreqCount"
   ]
  },
  {
   "cell_type": "markdown",
   "metadata": {
    "colab_type": "text",
    "id": "BzM1998TZDPm"
   },
   "source": [
    "Заметим, что в данном случае присутствует проблема несбалансированности классов. Поэтому, для того, чтобы по возможности избежать ее, воспользуемся взвешиванием наблюдений для обучения модели. Для этого в исходном наборе данных создадим столбец `weight`. Присвоим ему некоторые значения, например, можно задать `0.05` для значений `ClaimsCount` 0, а для остальных - 1 (Для этого можем использовать функцию `np.where`). Также можно попробовать какой-либо другой способ задания весов, приведенный пример не гарантирует хороших результатов."
   ]
  },
  {
   "cell_type": "code",
   "execution_count": 0,
   "metadata": {
    "colab": {},
    "colab_type": "code",
    "id": "dnL5LOi0i2oq"
   },
   "outputs": [],
   "source": [
    "df['weight'] = '<Ваш код здесь>'"
   ]
  },
  {
   "cell_type": "markdown",
   "metadata": {
    "colab_type": "text",
    "id": "sAlGTL0hBpNv"
   },
   "source": [
    "Разобьем имеющийся набор данных на обучающую, валидационную и тестовую выборки в отношениях 70%/15%/15% соответственно. Зададим зерно для случайного разбиения равным 10."
   ]
  },
  {
   "cell_type": "code",
   "execution_count": 0,
   "metadata": {
    "colab": {},
    "colab_type": "code",
    "id": "0u45ocam8HCn"
   },
   "outputs": [],
   "source": [
    "x_train, x_test, y_train, y_test = train_test_split('<Ваш код здесь>')\n",
    "x_valid, x_test, y_valid, y_test = train_test_split('<Ваш код здесь>')"
   ]
  },
  {
   "cell_type": "markdown",
   "metadata": {
    "colab_type": "text",
    "id": "PCySK2zQKsUI"
   },
   "source": [
    "Далее, создадим объекты `DMatrix` для обучающей, валидационной и тестовой выборок. Для обучающей выборки также укажем параметр `weight` равным полученному ранее столбцу весов. Данный столбец также нужно исключить из объекта передаваемого в параметр `data`."
   ]
  },
  {
   "cell_type": "code",
   "execution_count": 0,
   "metadata": {
    "colab": {},
    "colab_type": "code",
    "id": "_67FrNffDNu-"
   },
   "outputs": [],
   "source": [
    "xgb_train = '<Ваш код здесь>'\n",
    "xgb_valid = '<Ваш код здесь>'\n",
    "xgb_test = '<Ваш код здесь>'"
   ]
  },
  {
   "cell_type": "markdown",
   "metadata": {
    "colab_type": "text",
    "id": "N__wZRJLaMfs"
   },
   "source": [
    "Для оптимизации гиперпараметров можно воспользоваться различными методами."
   ]
  },
  {
   "cell_type": "code",
   "execution_count": 0,
   "metadata": {
    "colab": {},
    "colab_type": "code",
    "id": "-CaHsl3sDPdx"
   },
   "outputs": [],
   "source": [
    "'<Ваш код здесь>'"
   ]
  },
  {
   "cell_type": "markdown",
   "metadata": {
    "colab_type": "text",
    "id": "_3bTqctcR84Z"
   },
   "source": [
    "Далее обучим нашу модель с оптимальными параметрами"
   ]
  },
  {
   "cell_type": "code",
   "execution_count": 0,
   "metadata": {
    "colab": {},
    "colab_type": "code",
    "id": "I-m6Ihq6hNJF"
   },
   "outputs": [],
   "source": [
    "'<Ваш код здесь>'"
   ]
  },
  {
   "cell_type": "markdown",
   "metadata": {
    "colab_type": "text",
    "id": "x9151AtiSRtD"
   },
   "source": [
    "Посчитаем метрики accuracy и f1 на наших наборах данных, также можем визуализировать confusion matrix, например, с помощью `plt.imshow()`. Можно использовать предложенный ниже код."
   ]
  },
  {
   "cell_type": "code",
   "execution_count": 0,
   "metadata": {
    "colab": {},
    "colab_type": "code",
    "id": "A6ByYuqwD27P"
   },
   "outputs": [],
   "source": [
    "dfsets = [{'set': 'train', 'dmat': xgb_train, 'target': y_train},\n",
    "          {'set': 'valid', 'dmat': xgb_valid, 'target': y_valid},\n",
    "          {'set': 'test', 'dmat': xgb_test, 'target': y_test}]\n",
    "for dfset in dfsets:\n",
    "    class_preds = '<Ваш код здесь>' # Посчитаем предсказанные значения\n",
    "    print('F1 Score on ' + str(dfset['set'])+':', f1_score('<Ваш код здесь>', average='micro')) # Посчитаем F1 Score"
   ]
  },
  {
   "cell_type": "code",
   "execution_count": 0,
   "metadata": {
    "colab": {},
    "colab_type": "code",
    "id": "36_p091I8Www"
   },
   "outputs": [],
   "source": [
    "plt.subplots(1,3, figsize=(15,3))\n",
    "for i in range(len(dfsets)):\n",
    "    confmatrix = confusion_matrix(dfsets[i]['target'], xgb_multiclass.predict(dfsets[i]['dmat']))\n",
    "    plt.subplot(1,3,i+1)\n",
    "    plt.imshow(confmatrix, cmap='Greys')\n",
    "    plt.colorbar()\n",
    "    plt.ylabel('True')\n",
    "    plt.xlabel('Predicted')\n",
    "plt.show()"
   ]
  },
  {
   "cell_type": "markdown",
   "metadata": {
    "colab_type": "text",
    "id": "X7rFhBo3Tepd"
   },
   "source": [
    "Как вы оцениваете качество построенной модели? Какие проблемы могут здесь присутствовать? Как можно улучшить результат?"
   ]
  }
 ],
 "metadata": {
  "colab": {
   "collapsed_sections": [
    "Xljx8j0-_jXR"
   ],
   "name": "GB Lesson 3 new.ipynb",
   "provenance": [
    {
     "file_id": "1wUACz0uWqzoOK_3hxbtwSa5Ho8rdqnkq",
     "timestamp": 1590676828099
    },
    {
     "file_id": "1kk_w4ul_htVz-lBeCx8AjgHFf9No0gVz",
     "timestamp": 1573134395331
    }
   ]
  },
  "kernelspec": {
   "display_name": "Python 3",
   "language": "python",
   "name": "python3"
  },
  "language_info": {
   "codemirror_mode": {
    "name": "ipython",
    "version": 3
   },
   "file_extension": ".py",
   "mimetype": "text/x-python",
   "name": "python",
   "nbconvert_exporter": "python",
   "pygments_lexer": "ipython3",
   "version": "3.7.1"
  }
 },
 "nbformat": 4,
 "nbformat_minor": 1
}
